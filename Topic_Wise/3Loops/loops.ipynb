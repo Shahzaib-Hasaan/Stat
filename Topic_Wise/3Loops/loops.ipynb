{
 "cells": [
  {
   "cell_type": "code",
   "execution_count": 3,
   "metadata": {},
   "outputs": [
    {
     "name": "stdout",
     "output_type": "stream",
     "text": [
      "This is Shahzaib Hassan\n",
      "This is Shahzaib Hassan\n",
      "This is Shahzaib Hassan\n"
     ]
    }
   ],
   "source": [
    "i = 3\n",
    "while i != 0:\n",
    "    print(\"This is Shahzaib Hassan\")\n",
    "    i = i - 1\n",
    "    "
   ]
  },
  {
   "cell_type": "code",
   "execution_count": 4,
   "metadata": {},
   "outputs": [
    {
     "name": "stdout",
     "output_type": "stream",
     "text": [
      "1\n",
      "2\n",
      "3\n",
      "4\n",
      "5\n",
      "6\n",
      "7\n",
      "8\n",
      "9\n",
      "10\n"
     ]
    }
   ],
   "source": [
    "i = 1\n",
    "while i <= 10:\n",
    "    print(i)\n",
    "    i = i + 1\n",
    "\n"
   ]
  },
  {
   "cell_type": "code",
   "execution_count": 5,
   "metadata": {},
   "outputs": [
    {
     "name": "stdout",
     "output_type": "stream",
     "text": [
      "1\n",
      "2\n",
      "3\n"
     ]
    }
   ],
   "source": [
    "for i in [1,2,3]:\n",
    "    print(i)\n",
    "    "
   ]
  },
  {
   "cell_type": "code",
   "execution_count": 6,
   "metadata": {},
   "outputs": [
    {
     "name": "stdout",
     "output_type": "stream",
     "text": [
      "0\n",
      "1\n",
      "2\n"
     ]
    }
   ],
   "source": [
    "for i in range(3):\n",
    "    print(i)"
   ]
  },
  {
   "cell_type": "code",
   "execution_count": 7,
   "metadata": {},
   "outputs": [
    {
     "name": "stdout",
     "output_type": "stream",
     "text": [
      "This is Shahzaib Hassan\n",
      "This is Shahzaib Hassan\n",
      "This is Shahzaib Hassan\n"
     ]
    }
   ],
   "source": [
    "for _ in range(3):\n",
    "    print(\"This is Shahzaib Hassan\")"
   ]
  },
  {
   "cell_type": "code",
   "execution_count": 8,
   "metadata": {},
   "outputs": [
    {
     "name": "stdout",
     "output_type": "stream",
     "text": [
      "This is Shahzaib HassanThis is Shahzaib HassanThis is Shahzaib Hassan\n"
     ]
    }
   ],
   "source": [
    "print(\"This is Shahzaib Hassan\" * 3)"
   ]
  },
  {
   "cell_type": "code",
   "execution_count": 13,
   "metadata": {},
   "outputs": [
    {
     "name": "stdout",
     "output_type": "stream",
     "text": [
      "This is Shahzaib Hassan\n",
      "This is Shahzaib Hassan\n",
      "This is Shahzaib Hassan\n",
      "\n"
     ]
    }
   ],
   "source": [
    "print(\"This is Shahzaib Hassan\\n\" * 3 )"
   ]
  },
  {
   "cell_type": "code",
   "execution_count": 14,
   "metadata": {},
   "outputs": [
    {
     "name": "stdout",
     "output_type": "stream",
     "text": [
      "This is Shahzaib Hassan\n",
      "This is Shahzaib Hassan\n",
      "This is Shahzaib Hassan\n"
     ]
    }
   ],
   "source": [
    "print(\"This is Shahzaib Hassan\\n\" * 3 ,end=\"\")"
   ]
  },
  {
   "cell_type": "code",
   "execution_count": 21,
   "metadata": {},
   "outputs": [
    {
     "name": "stdout",
     "output_type": "stream",
     "text": [
      "This is Shahzaib Hassan\n"
     ]
    }
   ],
   "source": [
    "# n = 0\n",
    "while True:\n",
    "    n = int(input(\"Enter a number: \"))\n",
    "    if n > 0:\n",
    "        break\n",
    "for _ in range(n):\n",
    "        print(\"This is Shahzaib Hassan\")"
   ]
  },
  {
   "cell_type": "code",
   "execution_count": 23,
   "metadata": {},
   "outputs": [
    {
     "name": "stdout",
     "output_type": "stream",
     "text": [
      "This is Shahzaib Hassan\n",
      "This is Shahzaib Hassan\n",
      "This is Shahzaib Hassan\n",
      "This is Shahzaib Hassan\n",
      "This is Shahzaib Hassan\n",
      "This is Shahzaib Hassan\n",
      "This is Shahzaib Hassan\n",
      "This is Shahzaib Hassan\n",
      "This is Shahzaib Hassan\n",
      "This is Shahzaib Hassan\n",
      "This is Shahzaib Hassan\n",
      "This is Shahzaib Hassan\n"
     ]
    }
   ],
   "source": [
    "def main():\n",
    "    n = get_number()\n",
    "    prt(n)\n",
    "def get_number():\n",
    "    while True:\n",
    "        n = int(input(\"Enter a number: \"))\n",
    "        if n > 0:\n",
    "            return n\n",
    "def prt(n):\n",
    "    for _ in range(n):\n",
    "        print(\"This is Shahzaib Hassan\")\n",
    "main()"
   ]
  },
  {
   "cell_type": "code",
   "execution_count": 24,
   "metadata": {},
   "outputs": [
    {
     "name": "stdout",
     "output_type": "stream",
     "text": [
      "Shahzaib\n",
      "Hassan\n",
      "Shahzaib\n",
      "Hassan\n",
      "Shahzaib\n",
      "Hassan\n"
     ]
    }
   ],
   "source": [
    "students = [\"Shahzaib\", \"Hassan\", \"Shahzaib\", \"Hassan\", \"Shahzaib\", \"Hassan\"]\n",
    "\n",
    "for _ in students:\n",
    "    print(_) "
   ]
  },
  {
   "cell_type": "code",
   "execution_count": 26,
   "metadata": {},
   "outputs": [
    {
     "name": "stdout",
     "output_type": "stream",
     "text": [
      "1 Shahzaib\n",
      "2 Hassan\n",
      "3 Shahzaib\n",
      "4 Hassan\n",
      "5 Shahzaib\n",
      "6 Hassan\n"
     ]
    }
   ],
   "source": [
    "students = [\"Shahzaib\", \"Hassan\", \"Shahzaib\", \"Hassan\", \"Shahzaib\", \"Hassan\"]\n",
    "\n",
    "for _ in range(len(students)):\n",
    "    print(_+1 ,students[_])"
   ]
  },
  {
   "cell_type": "code",
   "execution_count": 32,
   "metadata": {},
   "outputs": [
    {
     "name": "stdout",
     "output_type": "stream",
     "text": [
      "name Shahzaib Hassan\n",
      "age 20\n",
      "gender male\n",
      "city Bahawalpur\n",
      "country Pakistan\n",
      "email shahxeebhassan@gmail.com\n"
     ]
    }
   ],
   "source": [
    "students = {\n",
    "    \"name\": \"Shahzaib Hassan\",\n",
    "    \"age\": 20,\n",
    "    \"gender\" : \"male\",\n",
    "    \"city\": \"Bahawalpur\",\n",
    "    \"country\" : \"Pakistan\",\n",
    "    \"email\": \"shahxeebhassan@gmail.com\"\n",
    "}\n",
    "# for student in students:\n",
    "#     print(student)\n",
    "for student in students:\n",
    "    print(student,students[student])"
   ]
  },
  {
   "cell_type": "code",
   "execution_count": 37,
   "metadata": {},
   "outputs": [
    {
     "name": "stdout",
     "output_type": "stream",
     "text": [
      "Shahzaib Hassan\n",
      "Afnan Ismail\n",
      "Zara\n",
      "Shahzaib Hassan , 20 , Bahawalpur , Pakistan , \n",
      "Afnan Ismail , 20 , Bahawalpur , Pakistan , \n",
      "Zara , None , Bahawalpur , Pakistan , \n"
     ]
    }
   ],
   "source": [
    "#list of dictionaries\n",
    "students = [\n",
    "    {\"name\": \"Shahzaib Hassan\",\"age\": 20,\"city\" : \"Bahawalpur\",\"country\" : \"Pakistan\",\"email\": \"\"}\n",
    "    ,\n",
    "    {\"name\": \"Afnan Ismail\",\"age\": 20,\"city\" : \"Bahawalpur\",\"country\" : \"Pakistan\",\"email\": \"\"}\n",
    "    ,\n",
    "    {\"name\": \"Zara\",\"city\" : \"Bahawalpur\",\"country\" : \"Pakistan\",\"email\": \"\", \"age\": None}\n",
    "]\n",
    "for student in students:\n",
    "    print(student[\"name\"])\n",
    "\n",
    "for student in students:\n",
    "    print(student[\"name\"],student[\"age\"],student[\"city\"],student[\"country\"],student[\"email\"],sep=\" , \")"
   ]
  },
  {
   "cell_type": "code",
   "execution_count": 39,
   "metadata": {},
   "outputs": [
    {
     "name": "stdout",
     "output_type": "stream",
     "text": [
      "#\n",
      "#\n",
      "#\n"
     ]
    }
   ],
   "source": [
    "def main():\n",
    "    print_columns(3)\n",
    "def print_columns(height):\n",
    "    for _ in range(height):\n",
    "        print(\"#\")\n",
    "\n",
    "main()"
   ]
  },
  {
   "cell_type": "code",
   "execution_count": 41,
   "metadata": {},
   "outputs": [
    {
     "name": "stdout",
     "output_type": "stream",
     "text": [
      "#\n",
      "#\n",
      "#\n"
     ]
    }
   ],
   "source": [
    "def main():\n",
    "    print_columns(3)\n",
    "def print_columns(height):\n",
    "    print(\"#\\n\" * height, end=\"\")\n",
    "\n",
    "main()"
   ]
  },
  {
   "cell_type": "code",
   "execution_count": 45,
   "metadata": {},
   "outputs": [
    {
     "name": "stdout",
     "output_type": "stream",
     "text": [
      "???\n"
     ]
    }
   ],
   "source": [
    "def main():\n",
    "    print_columns(3)\n",
    "def print_columns(width):\n",
    "    print(\"?\" * width )\n",
    "\n",
    "main()"
   ]
  },
  {
   "cell_type": "code",
   "execution_count": 58,
   "metadata": {},
   "outputs": [
    {
     "name": "stdout",
     "output_type": "stream",
     "text": [
      "###############\n",
      "###############\n",
      "###############\n",
      "###############\n",
      "###############\n",
      "###############\n",
      "###############\n",
      "###############\n",
      "###############\n",
      "###############\n"
     ]
    }
   ],
   "source": [
    "from cmath import sqrt\n",
    "from math import floor\n",
    "\n",
    "\n",
    "size = 10\n",
    "ex = int(size/2)\n",
    "for i in range(size):\n",
    "    for j in range(size+ex):\n",
    "        print(\"#\", end=\"\")\n",
    "    print()"
   ]
  },
  {
   "cell_type": "code",
   "execution_count": null,
   "metadata": {},
   "outputs": [],
   "source": []
  }
 ],
 "metadata": {
  "kernelspec": {
   "display_name": "Python 3",
   "language": "python",
   "name": "python3"
  },
  "language_info": {
   "codemirror_mode": {
    "name": "ipython",
    "version": 3
   },
   "file_extension": ".py",
   "mimetype": "text/x-python",
   "name": "python",
   "nbconvert_exporter": "python",
   "pygments_lexer": "ipython3",
   "version": "3.10.4"
  },
  "orig_nbformat": 4
 },
 "nbformat": 4,
 "nbformat_minor": 2
}

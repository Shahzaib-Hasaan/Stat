{
 "cells": [
  {
   "cell_type": "code",
   "execution_count": 2,
   "metadata": {},
   "outputs": [
    {
     "ename": "SyntaxError",
     "evalue": "unterminated string literal (detected at line 2) (4164383778.py, line 2)",
     "output_type": "error",
     "traceback": [
      "\u001b[0;36m  Cell \u001b[0;32mIn[2], line 2\u001b[0;36m\u001b[0m\n\u001b[0;31m    print(\"Shahzaib Hassan)\u001b[0m\n\u001b[0m          ^\u001b[0m\n\u001b[0;31mSyntaxError\u001b[0m\u001b[0;31m:\u001b[0m unterminated string literal (detected at line 2)\n"
     ]
    }
   ],
   "source": [
    "#Syntax error\n",
    "print(\"Shahzaib Hassan)\n"
   ]
  },
  {
   "cell_type": "code",
   "execution_count": 3,
   "metadata": {},
   "outputs": [
    {
     "ename": "ValueError",
     "evalue": "invalid literal for int() with base 10: '11.1'",
     "output_type": "error",
     "traceback": [
      "\u001b[0;31m---------------------------------------------------------------------------\u001b[0m",
      "\u001b[0;31mValueError\u001b[0m                                Traceback (most recent call last)",
      "Cell \u001b[0;32mIn[3], line 1\u001b[0m\n\u001b[0;32m----> 1\u001b[0m x \u001b[39m=\u001b[39m \u001b[39mint\u001b[39;49m(\u001b[39minput\u001b[39;49m(\u001b[39m\"\u001b[39;49m\u001b[39mEnter a number: \u001b[39;49m\u001b[39m\"\u001b[39;49m))\n\u001b[1;32m      3\u001b[0m \u001b[39mprint\u001b[39m(\u001b[39mf\u001b[39m\u001b[39m\"\u001b[39m\u001b[39mThe number is: \u001b[39m\u001b[39m{\u001b[39;00mx\u001b[39m}\u001b[39;00m\u001b[39m\"\u001b[39m)\n",
      "\u001b[0;31mValueError\u001b[0m: invalid literal for int() with base 10: '11.1'"
     ]
    }
   ],
   "source": [
    "\n",
    "x = int(input(\"Enter a number: \"))\n",
    "\n",
    "print(f\"The number is: {x}\")"
   ]
  },
  {
   "cell_type": "code",
   "execution_count": 1,
   "metadata": {},
   "outputs": [
    {
     "name": "stdout",
     "output_type": "stream",
     "text": [
      "X is not a number\n"
     ]
    },
    {
     "ename": "NameError",
     "evalue": "name 'x' is not defined",
     "output_type": "error",
     "traceback": [
      "\u001b[0;31m---------------------------------------------------------------------------\u001b[0m",
      "\u001b[0;31mNameError\u001b[0m                                 Traceback (most recent call last)",
      "Cell \u001b[0;32mIn[1], line 8\u001b[0m\n\u001b[1;32m      5\u001b[0m \u001b[39mexcept\u001b[39;00m \u001b[39mValueError\u001b[39;00m:\n\u001b[1;32m      6\u001b[0m     \u001b[39mprint\u001b[39m(\u001b[39m\"\u001b[39m\u001b[39mX is not a number\u001b[39m\u001b[39m\"\u001b[39m)\n\u001b[0;32m----> 8\u001b[0m \u001b[39mprint\u001b[39m(\u001b[39mf\u001b[39m\u001b[39m\"\u001b[39m\u001b[39mThe number is: \u001b[39m\u001b[39m{\u001b[39;00mx\u001b[39m}\u001b[39;00m\u001b[39m\"\u001b[39m)\n",
      "\u001b[0;31mNameError\u001b[0m: name 'x' is not defined"
     ]
    }
   ],
   "source": [
    "# try used to check for errors\n",
    "try:\n",
    "    x = int(input(\"Enter a number: \"))\n",
    "#except used to handle the error\n",
    "except ValueError:\n",
    "    print(\"X is not a number\")\n",
    "\n",
    "print(f\"The number is: {x}\")\n",
    "# NameError because in this case when x is not int then the value of input is not assigned to x and hence it is not defined"
   ]
  },
  {
   "cell_type": "code",
   "execution_count": 5,
   "metadata": {},
   "outputs": [
    {
     "name": "stdout",
     "output_type": "stream",
     "text": [
      "X is not a number\n"
     ]
    }
   ],
   "source": [
    "# try used to check for errors\n",
    "try:\n",
    "    x = int(input(\"Enter a number: \"))\n",
    "#except used to handle the error\n",
    "except ValueError:\n",
    "    print(\"X is not a number\")\n",
    "else:\n",
    "    print(f\"X is {x}\")\n",
    "# print(f\"The number is: {x}\")"
   ]
  },
  {
   "cell_type": "code",
   "execution_count": 9,
   "metadata": {},
   "outputs": [
    {
     "name": "stdout",
     "output_type": "stream",
     "text": [
      "The number is: 6\n"
     ]
    }
   ],
   "source": [
    "while (True):\n",
    "    try:\n",
    "        x = int(input(\"Enter a number: \"))\n",
    "    except ValueError:\n",
    "        print(\"X is not a number\")\n",
    "    else:\n",
    "        break\n",
    "\n",
    "print(f\"The number is: {x}\")"
   ]
  },
  {
   "cell_type": "code",
   "execution_count": 13,
   "metadata": {},
   "outputs": [
    {
     "name": "stdout",
     "output_type": "stream",
     "text": [
      "The number is: 77\n"
     ]
    }
   ],
   "source": [
    "def get_int():\n",
    "    while (True):\n",
    "        try:\n",
    "            x = int(input(\"Enter a number: \"))\n",
    "        except ValueError:\n",
    "            print(\"X is not a number\")\n",
    "        else:\n",
    "            return x\n",
    "def main():\n",
    "    x = get_int()\n",
    "    print(f\"The number is: {x}\")\n",
    "main()"
   ]
  },
  {
   "cell_type": "code",
   "execution_count": null,
   "metadata": {},
   "outputs": [],
   "source": [
    "def get_int():\n",
    "    while (True):\n",
    "        try:\n",
    "            x = int(input(\"Enter a number: \"))\n",
    "            return x\n",
    "        except ValueError:\n",
    "            print(\"X is not a number\")\n",
    "def main():\n",
    "    x = get_int()\n",
    "    print(f\"The number is: {x}\")\n",
    "main()"
   ]
  },
  {
   "cell_type": "code",
   "execution_count": null,
   "metadata": {},
   "outputs": [],
   "source": [
    "def get_int():\n",
    "    while (True):\n",
    "        try:\n",
    "            return int(input(\"Enter a number: \"))\n",
    "        except ValueError:\n",
    "            print(\"X is not a number\")\n",
    "def main():\n",
    "    x = get_int()\n",
    "    print(f\"The number is: {x}\")\n",
    "main()"
   ]
  },
  {
   "cell_type": "code",
   "execution_count": null,
   "metadata": {},
   "outputs": [],
   "source": [
    "def get_int():\n",
    "    while (True):\n",
    "        try:\n",
    "            return int(input(\"Enter a number: \"))\n",
    "        except ValueError:\n",
    "            pass\n",
    "def main():\n",
    "    x = get_int()\n",
    "    print(f\"The number is: {x}\")\n",
    "main() "
   ]
  },
  {
   "cell_type": "code",
   "execution_count": 14,
   "metadata": {},
   "outputs": [
    {
     "name": "stdout",
     "output_type": "stream",
     "text": [
      "The number is: 77\n"
     ]
    }
   ],
   "source": [
    "def get_int(prompt):\n",
    "    while (True):\n",
    "        try:\n",
    "            return int(input())\n",
    "        except ValueError:\n",
    "            pass\n",
    "def main():\n",
    "    x = get_int(\"What's z?\")\n",
    "    print(f\"The number is: {x}\")\n",
    "main() "
   ]
  }
 ],
 "metadata": {
  "kernelspec": {
   "display_name": "Python 3",
   "language": "python",
   "name": "python3"
  },
  "language_info": {
   "codemirror_mode": {
    "name": "ipython",
    "version": 3
   },
   "file_extension": ".py",
   "mimetype": "text/x-python",
   "name": "python",
   "nbconvert_exporter": "python",
   "pygments_lexer": "ipython3",
   "version": "3.10.4"
  },
  "orig_nbformat": 4
 },
 "nbformat": 4,
 "nbformat_minor": 2
}

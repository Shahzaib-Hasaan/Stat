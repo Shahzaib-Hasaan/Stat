{
 "cells": [
  {
   "attachments": {},
   "cell_type": "markdown",
   "metadata": {},
   "source": [
    "# EDA (Exploratory data anaylsis)\n",
    "This notebook is used to explore the data and get a better understanding of the data\n",
    "\n"
   ]
  },
  {
   "attachments": {},
   "cell_type": "markdown",
   "metadata": {},
   "source": [
    "### Super ways to conduct EDA in one go"
   ]
  },
  {
   "cell_type": "code",
   "execution_count": 1,
   "metadata": {},
   "outputs": [
    {
     "name": "stdout",
     "output_type": "stream",
     "text": [
      "Requirement already satisfied: pandas-profiling in /home/solu/.local/lib/python3.8/site-packages (3.6.6)\n",
      "Requirement already satisfied: ydata-profiling in /home/solu/.local/lib/python3.8/site-packages (from pandas-profiling) (4.2.0)\n",
      "Requirement already satisfied: statsmodels<1,>=0.13.2 in /home/solu/.local/lib/python3.8/site-packages (from ydata-profiling->pandas-profiling) (0.14.0)\n",
      "Requirement already satisfied: seaborn<0.13,>=0.10.1 in /home/solu/.local/lib/python3.8/site-packages (from ydata-profiling->pandas-profiling) (0.12.2)\n",
      "Requirement already satisfied: htmlmin==0.1.12 in /home/solu/.local/lib/python3.8/site-packages (from ydata-profiling->pandas-profiling) (0.1.12)\n",
      "Requirement already satisfied: multimethod<2,>=1.4 in /home/solu/.local/lib/python3.8/site-packages (from ydata-profiling->pandas-profiling) (1.9.1)\n",
      "Requirement already satisfied: tqdm<5,>=4.48.2 in /home/solu/.local/lib/python3.8/site-packages (from ydata-profiling->pandas-profiling) (4.59.0)\n",
      "Requirement already satisfied: visions[type_image_path]==0.7.5 in /home/solu/.local/lib/python3.8/site-packages (from ydata-profiling->pandas-profiling) (0.7.5)\n",
      "Requirement already satisfied: PyYAML<6.1,>=5.0.0 in /usr/lib/python3/dist-packages (from ydata-profiling->pandas-profiling) (5.3.1)\n",
      "Requirement already satisfied: jinja2<3.2,>=2.11.1 in /home/solu/.local/lib/python3.8/site-packages (from ydata-profiling->pandas-profiling) (3.1.2)\n",
      "Requirement already satisfied: requests<3,>=2.24.0 in /home/solu/.local/lib/python3.8/site-packages (from ydata-profiling->pandas-profiling) (2.31.0)\n",
      "Requirement already satisfied: numpy<1.24,>=1.16.0 in /home/solu/.local/lib/python3.8/site-packages (from ydata-profiling->pandas-profiling) (1.23.5)\n",
      "Requirement already satisfied: matplotlib<4,>=3.2 in /home/solu/.local/lib/python3.8/site-packages (from ydata-profiling->pandas-profiling) (3.7.1)\n",
      "Requirement already satisfied: wordcloud>=1.9.1 in /home/solu/.local/lib/python3.8/site-packages (from ydata-profiling->pandas-profiling) (1.9.2)\n",
      "Requirement already satisfied: scipy<1.11,>=1.4.1 in /home/solu/.local/lib/python3.8/site-packages (from ydata-profiling->pandas-profiling) (1.10.1)\n",
      "Requirement already satisfied: phik<0.13,>=0.11.1 in /home/solu/.local/lib/python3.8/site-packages (from ydata-profiling->pandas-profiling) (0.12.3)\n",
      "Requirement already satisfied: pydantic<2,>=1.8.1 in /home/solu/.local/lib/python3.8/site-packages (from ydata-profiling->pandas-profiling) (1.10.8)\n",
      "Requirement already satisfied: dacite>=1.8 in /home/solu/.local/lib/python3.8/site-packages (from ydata-profiling->pandas-profiling) (1.8.1)\n",
      "Requirement already satisfied: pandas!=1.4.0,<2,>1.1 in /home/solu/.local/lib/python3.8/site-packages (from ydata-profiling->pandas-profiling) (1.5.3)\n",
      "Requirement already satisfied: typeguard<3,>=2.13.2 in /home/solu/.local/lib/python3.8/site-packages (from ydata-profiling->pandas-profiling) (2.13.3)\n",
      "Requirement already satisfied: imagehash==4.3.1 in /home/solu/.local/lib/python3.8/site-packages (from ydata-profiling->pandas-profiling) (4.3.1)\n",
      "Requirement already satisfied: packaging>=21.3 in /home/solu/.local/lib/python3.8/site-packages (from statsmodels<1,>=0.13.2->ydata-profiling->pandas-profiling) (23.1)\n",
      "Requirement already satisfied: patsy>=0.5.2 in /home/solu/.local/lib/python3.8/site-packages (from statsmodels<1,>=0.13.2->ydata-profiling->pandas-profiling) (0.5.3)\n",
      "Requirement already satisfied: tangled-up-in-unicode>=0.0.4 in /home/solu/.local/lib/python3.8/site-packages (from visions[type_image_path]==0.7.5->ydata-profiling->pandas-profiling) (0.2.0)\n",
      "Requirement already satisfied: attrs>=19.3.0 in /usr/lib/python3/dist-packages (from visions[type_image_path]==0.7.5->ydata-profiling->pandas-profiling) (19.3.0)\n",
      "Requirement already satisfied: networkx>=2.4 in /home/solu/.local/lib/python3.8/site-packages (from visions[type_image_path]==0.7.5->ydata-profiling->pandas-profiling) (3.1)\n",
      "Requirement already satisfied: Pillow; extra == \"type_image_path\" in /usr/lib/python3/dist-packages (from visions[type_image_path]==0.7.5->ydata-profiling->pandas-profiling) (7.0.0)\n",
      "Requirement already satisfied: MarkupSafe>=2.0 in /home/solu/.local/lib/python3.8/site-packages (from jinja2<3.2,>=2.11.1->ydata-profiling->pandas-profiling) (2.1.3)\n",
      "Requirement already satisfied: charset-normalizer<4,>=2 in /home/solu/.local/lib/python3.8/site-packages (from requests<3,>=2.24.0->ydata-profiling->pandas-profiling) (3.1.0)\n",
      "Requirement already satisfied: certifi>=2017.4.17 in /usr/lib/python3/dist-packages (from requests<3,>=2.24.0->ydata-profiling->pandas-profiling) (2019.11.28)\n",
      "Requirement already satisfied: urllib3<3,>=1.21.1 in /usr/lib/python3/dist-packages (from requests<3,>=2.24.0->ydata-profiling->pandas-profiling) (1.25.8)\n",
      "Requirement already satisfied: idna<4,>=2.5 in /usr/lib/python3/dist-packages (from requests<3,>=2.24.0->ydata-profiling->pandas-profiling) (2.8)\n",
      "Requirement already satisfied: cycler>=0.10 in /home/solu/.local/lib/python3.8/site-packages (from matplotlib<4,>=3.2->ydata-profiling->pandas-profiling) (0.11.0)\n",
      "Requirement already satisfied: kiwisolver>=1.0.1 in /home/solu/.local/lib/python3.8/site-packages (from matplotlib<4,>=3.2->ydata-profiling->pandas-profiling) (1.4.4)\n",
      "Requirement already satisfied: importlib-resources>=3.2.0; python_version < \"3.10\" in /home/solu/.local/lib/python3.8/site-packages (from matplotlib<4,>=3.2->ydata-profiling->pandas-profiling) (5.12.0)\n",
      "Requirement already satisfied: contourpy>=1.0.1 in /home/solu/.local/lib/python3.8/site-packages (from matplotlib<4,>=3.2->ydata-profiling->pandas-profiling) (1.0.7)\n",
      "Requirement already satisfied: fonttools>=4.22.0 in /home/solu/.local/lib/python3.8/site-packages (from matplotlib<4,>=3.2->ydata-profiling->pandas-profiling) (4.39.4)\n",
      "Requirement already satisfied: pyparsing>=2.3.1 in /home/solu/.local/lib/python3.8/site-packages (from matplotlib<4,>=3.2->ydata-profiling->pandas-profiling) (3.0.9)\n",
      "Requirement already satisfied: python-dateutil>=2.7 in /home/solu/.local/lib/python3.8/site-packages (from matplotlib<4,>=3.2->ydata-profiling->pandas-profiling) (2.8.2)\n",
      "Requirement already satisfied: joblib>=0.14.1 in /home/solu/.local/lib/python3.8/site-packages (from phik<0.13,>=0.11.1->ydata-profiling->pandas-profiling) (1.2.0)\n",
      "Requirement already satisfied: typing-extensions>=4.2.0 in /home/solu/.local/lib/python3.8/site-packages (from pydantic<2,>=1.8.1->ydata-profiling->pandas-profiling) (4.5.0)\n",
      "Requirement already satisfied: pytz>=2020.1 in /home/solu/.local/lib/python3.8/site-packages (from pandas!=1.4.0,<2,>1.1->ydata-profiling->pandas-profiling) (2023.3)\n",
      "Requirement already satisfied: PyWavelets in /home/solu/.local/lib/python3.8/site-packages (from imagehash==4.3.1->ydata-profiling->pandas-profiling) (1.4.1)\n",
      "Requirement already satisfied: six in /usr/lib/python3/dist-packages (from patsy>=0.5.2->statsmodels<1,>=0.13.2->ydata-profiling->pandas-profiling) (1.14.0)\n",
      "Requirement already satisfied: zipp>=3.1.0; python_version < \"3.10\" in /home/solu/.local/lib/python3.8/site-packages (from importlib-resources>=3.2.0; python_version < \"3.10\"->matplotlib<4,>=3.2->ydata-profiling->pandas-profiling) (3.15.0)\n",
      "Note: you may need to restart the kernel to use updated packages.\n"
     ]
    }
   ],
   "source": [
    "pip install pandas-profiling"
   ]
  },
  {
   "cell_type": "code",
   "execution_count": 2,
   "metadata": {},
   "outputs": [
    {
     "name": "stdout",
     "output_type": "stream",
     "text": [
      "Requirement already satisfied: ydata_profiling in /home/solu/.local/lib/python3.8/site-packages (4.2.0)\n",
      "Requirement already satisfied: statsmodels<1,>=0.13.2 in /home/solu/.local/lib/python3.8/site-packages (from ydata_profiling) (0.14.0)\n",
      "Requirement already satisfied: requests<3,>=2.24.0 in /home/solu/.local/lib/python3.8/site-packages (from ydata_profiling) (2.31.0)\n",
      "Requirement already satisfied: jinja2<3.2,>=2.11.1 in /home/solu/.local/lib/python3.8/site-packages (from ydata_profiling) (3.1.2)\n",
      "Requirement already satisfied: pandas!=1.4.0,<2,>1.1 in /home/solu/.local/lib/python3.8/site-packages (from ydata_profiling) (1.5.3)\n",
      "Requirement already satisfied: multimethod<2,>=1.4 in /home/solu/.local/lib/python3.8/site-packages (from ydata_profiling) (1.9.1)\n",
      "Requirement already satisfied: imagehash==4.3.1 in /home/solu/.local/lib/python3.8/site-packages (from ydata_profiling) (4.3.1)\n",
      "Requirement already satisfied: tqdm<5,>=4.48.2 in /home/solu/.local/lib/python3.8/site-packages (from ydata_profiling) (4.59.0)\n",
      "Requirement already satisfied: pydantic<2,>=1.8.1 in /home/solu/.local/lib/python3.8/site-packages (from ydata_profiling) (1.10.8)\n",
      "Requirement already satisfied: scipy<1.11,>=1.4.1 in /home/solu/.local/lib/python3.8/site-packages (from ydata_profiling) (1.10.1)\n",
      "Requirement already satisfied: dacite>=1.8 in /home/solu/.local/lib/python3.8/site-packages (from ydata_profiling) (1.8.1)\n",
      "Requirement already satisfied: PyYAML<6.1,>=5.0.0 in /usr/lib/python3/dist-packages (from ydata_profiling) (5.3.1)\n",
      "Requirement already satisfied: visions[type_image_path]==0.7.5 in /home/solu/.local/lib/python3.8/site-packages (from ydata_profiling) (0.7.5)\n",
      "Requirement already satisfied: seaborn<0.13,>=0.10.1 in /home/solu/.local/lib/python3.8/site-packages (from ydata_profiling) (0.12.2)\n",
      "Requirement already satisfied: phik<0.13,>=0.11.1 in /home/solu/.local/lib/python3.8/site-packages (from ydata_profiling) (0.12.3)\n",
      "Requirement already satisfied: wordcloud>=1.9.1 in /home/solu/.local/lib/python3.8/site-packages (from ydata_profiling) (1.9.2)\n",
      "Requirement already satisfied: numpy<1.24,>=1.16.0 in /home/solu/.local/lib/python3.8/site-packages (from ydata_profiling) (1.23.5)\n",
      "Requirement already satisfied: typeguard<3,>=2.13.2 in /home/solu/.local/lib/python3.8/site-packages (from ydata_profiling) (2.13.3)\n",
      "Requirement already satisfied: htmlmin==0.1.12 in /home/solu/.local/lib/python3.8/site-packages (from ydata_profiling) (0.1.12)\n",
      "Requirement already satisfied: matplotlib<4,>=3.2 in /home/solu/.local/lib/python3.8/site-packages (from ydata_profiling) (3.7.1)\n",
      "Requirement already satisfied: packaging>=21.3 in /home/solu/.local/lib/python3.8/site-packages (from statsmodels<1,>=0.13.2->ydata_profiling) (23.1)\n",
      "Requirement already satisfied: patsy>=0.5.2 in /home/solu/.local/lib/python3.8/site-packages (from statsmodels<1,>=0.13.2->ydata_profiling) (0.5.3)\n",
      "Requirement already satisfied: idna<4,>=2.5 in /usr/lib/python3/dist-packages (from requests<3,>=2.24.0->ydata_profiling) (2.8)\n",
      "Requirement already satisfied: certifi>=2017.4.17 in /usr/lib/python3/dist-packages (from requests<3,>=2.24.0->ydata_profiling) (2019.11.28)\n",
      "Requirement already satisfied: charset-normalizer<4,>=2 in /home/solu/.local/lib/python3.8/site-packages (from requests<3,>=2.24.0->ydata_profiling) (3.1.0)\n",
      "Requirement already satisfied: urllib3<3,>=1.21.1 in /usr/lib/python3/dist-packages (from requests<3,>=2.24.0->ydata_profiling) (1.25.8)\n",
      "Requirement already satisfied: MarkupSafe>=2.0 in /home/solu/.local/lib/python3.8/site-packages (from jinja2<3.2,>=2.11.1->ydata_profiling) (2.1.3)\n",
      "Requirement already satisfied: pytz>=2020.1 in /home/solu/.local/lib/python3.8/site-packages (from pandas!=1.4.0,<2,>1.1->ydata_profiling) (2023.3)\n",
      "Requirement already satisfied: python-dateutil>=2.8.1 in /home/solu/.local/lib/python3.8/site-packages (from pandas!=1.4.0,<2,>1.1->ydata_profiling) (2.8.2)\n",
      "Requirement already satisfied: PyWavelets in /home/solu/.local/lib/python3.8/site-packages (from imagehash==4.3.1->ydata_profiling) (1.4.1)\n",
      "Requirement already satisfied: pillow in /usr/lib/python3/dist-packages (from imagehash==4.3.1->ydata_profiling) (7.0.0)\n",
      "Requirement already satisfied: typing-extensions>=4.2.0 in /home/solu/.local/lib/python3.8/site-packages (from pydantic<2,>=1.8.1->ydata_profiling) (4.5.0)\n",
      "Requirement already satisfied: attrs>=19.3.0 in /usr/lib/python3/dist-packages (from visions[type_image_path]==0.7.5->ydata_profiling) (19.3.0)\n",
      "Requirement already satisfied: networkx>=2.4 in /home/solu/.local/lib/python3.8/site-packages (from visions[type_image_path]==0.7.5->ydata_profiling) (3.1)\n",
      "Requirement already satisfied: tangled-up-in-unicode>=0.0.4 in /home/solu/.local/lib/python3.8/site-packages (from visions[type_image_path]==0.7.5->ydata_profiling) (0.2.0)\n",
      "Requirement already satisfied: joblib>=0.14.1 in /home/solu/.local/lib/python3.8/site-packages (from phik<0.13,>=0.11.1->ydata_profiling) (1.2.0)\n",
      "Requirement already satisfied: contourpy>=1.0.1 in /home/solu/.local/lib/python3.8/site-packages (from matplotlib<4,>=3.2->ydata_profiling) (1.0.7)\n",
      "Requirement already satisfied: cycler>=0.10 in /home/solu/.local/lib/python3.8/site-packages (from matplotlib<4,>=3.2->ydata_profiling) (0.11.0)\n",
      "Requirement already satisfied: importlib-resources>=3.2.0; python_version < \"3.10\" in /home/solu/.local/lib/python3.8/site-packages (from matplotlib<4,>=3.2->ydata_profiling) (5.12.0)\n",
      "Requirement already satisfied: kiwisolver>=1.0.1 in /home/solu/.local/lib/python3.8/site-packages (from matplotlib<4,>=3.2->ydata_profiling) (1.4.4)\n",
      "Requirement already satisfied: fonttools>=4.22.0 in /home/solu/.local/lib/python3.8/site-packages (from matplotlib<4,>=3.2->ydata_profiling) (4.39.4)\n",
      "Requirement already satisfied: pyparsing>=2.3.1 in /home/solu/.local/lib/python3.8/site-packages (from matplotlib<4,>=3.2->ydata_profiling) (3.0.9)\n",
      "Requirement already satisfied: six in /usr/lib/python3/dist-packages (from patsy>=0.5.2->statsmodels<1,>=0.13.2->ydata_profiling) (1.14.0)\n",
      "Requirement already satisfied: zipp>=3.1.0; python_version < \"3.10\" in /home/solu/.local/lib/python3.8/site-packages (from importlib-resources>=3.2.0; python_version < \"3.10\"->matplotlib<4,>=3.2->ydata_profiling) (3.15.0)\n"
     ]
    }
   ],
   "source": [
    "!pip install ydata_profiling"
   ]
  },
  {
   "cell_type": "code",
   "execution_count": 3,
   "metadata": {},
   "outputs": [],
   "source": [
    "# importing libraries\n",
    "import pandas as pd\n",
    "import numpy as np\n",
    "import matplotlib.pyplot as plt\n",
    "import seaborn as sns\n",
    "# installing ydata_profiling\n",
    "\n",
    "# importing ydata_profiling\n",
    "from ydata_profiling import ProfileReport\n",
    "\n"
   ]
  },
  {
   "cell_type": "code",
   "execution_count": 4,
   "metadata": {},
   "outputs": [],
   "source": [
    "# importing dataset\n",
    "df = sns.load_dataset('titanic')\n"
   ]
  },
  {
   "cell_type": "code",
   "execution_count": 5,
   "metadata": {},
   "outputs": [
    {
     "name": "stderr",
     "output_type": "stream",
     "text": [
      "Summarize dataset:  93%|█████████▎| 38/41 [00:12<00:01,  2.01it/s, Detecting duplicates]         "
     ]
    }
   ],
   "source": [
    "# profile report generation\n",
    "report = ProfileReport(df)\n",
    "\n",
    "# saving report\n",
    "report.to_file('report.html')"
   ]
  }
 ],
 "metadata": {
  "kernelspec": {
   "display_name": "Python 3",
   "language": "python",
   "name": "python3"
  },
  "language_info": {
   "codemirror_mode": {
    "name": "ipython",
    "version": 3
   },
   "file_extension": ".py",
   "mimetype": "text/x-python",
   "name": "python",
   "nbconvert_exporter": "python",
   "pygments_lexer": "ipython3",
   "version": "3.8.10"
  },
  "orig_nbformat": 4
 },
 "nbformat": 4,
 "nbformat_minor": 2
}

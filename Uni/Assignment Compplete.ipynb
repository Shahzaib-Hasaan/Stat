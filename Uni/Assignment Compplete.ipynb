{
 "cells": [
  {
   "attachments": {},
   "cell_type": "markdown",
   "metadata": {},
   "source": [
    "# How do you define a regular expression in Python?"
   ]
  },
  {
   "attachments": {},
   "cell_type": "markdown",
   "metadata": {},
   "source": [
    "<b>To define a regular expression </b>:\n",
    "- Import 're'module\n",
    "- Create a string that represents your pattern\n",
    "- Prefix it with an \"r\" to indicate that it's a raw string <br>\n",
    "\n",
    "<i>Example is given below:</i>"
   ]
  },
  {
   "cell_type": "code",
   "execution_count": 1,
   "metadata": {},
   "outputs": [],
   "source": [
    "import re\n",
    "\n",
    "pattern = r\"hello\""
   ]
  },
  {
   "attachments": {},
   "cell_type": "markdown",
   "metadata": {},
   "source": [
    "# What is the difference between greedy and non-greedy matching in regular expressions"
   ]
  },
  {
   "attachments": {},
   "cell_type": "markdown",
   "metadata": {},
   "source": [
    "- In regular expressions, <b>greedy matching</b> is the default behavior. This means that the regular expression engine will try to match as much text as possible. For example, the regular expression .* will match any character, zero or more times. If this regular expression is used to search for a match in the string \"This is a test\", the greedy match will match the entire string.\n",
    "-  <b>Non-greedy matching</b>, also known as lazy matching, is the opposite of greedy matching. This means that the regular expression engine will try to match as little text as possible. For example, the regular expression .*? will match any character, zero or more times, but it will stop matching as soon as it can no longer match the entire string.\n",
    "\n",
    "<i>Example is given below:</i>"
   ]
  },
  {
   "cell_type": "code",
   "execution_count": 3,
   "metadata": {},
   "outputs": [
    {
     "name": "stdout",
     "output_type": "stream",
     "text": [
      "world, welcome to the world\n"
     ]
    }
   ],
   "source": [
    "# Greedy Matching \n",
    "\n",
    "import re\n",
    "\n",
    "text = \"Hello world, welcome to the world of Python!\"\n",
    "pattern = r\"w.*d\"\n",
    "\n",
    "match = re.search(pattern, text)\n",
    "print(match.group(0))\n"
   ]
  },
  {
   "cell_type": "code",
   "execution_count": 4,
   "metadata": {},
   "outputs": [
    {
     "name": "stdout",
     "output_type": "stream",
     "text": [
      "world\n"
     ]
    }
   ],
   "source": [
    "# Non Greedy Matching\n",
    "import re\n",
    "\n",
    "text = \"Hello world, welcome to the world of Python!\"\n",
    "pattern = r\"w.*?d\"\n",
    "\n",
    "# This will return 'world'\n",
    "match = re.search(pattern, text)\n",
    "print(match.group(0))\n",
    "\n"
   ]
  },
  {
   "attachments": {},
   "cell_type": "markdown",
   "metadata": {},
   "source": [
    "# How do you use regular expressions to search for a specific pattern within a string in Python?"
   ]
  },
  {
   "cell_type": "code",
   "execution_count": 7,
   "metadata": {},
   "outputs": [
    {
     "name": "stdout",
     "output_type": "stream",
     "text": [
      "Match found: fox\n"
     ]
    }
   ],
   "source": [
    "# Here's an example that demonstrates how to use regular expressions to search for a specific pattern within a string:\n",
    "import re\n",
    "\n",
    "text = \"The quick brown fox jumps over the lazy dog.\"\n",
    "pattern = r\"fox\"\n",
    "\n",
    "# Use the search() function to search for the pattern within the string.\n",
    "match = re.search(pattern, text)\n",
    "\n",
    "# Check if a match was found.\n",
    "if match:\n",
    "    print(\"Match found:\", match.group())\n",
    "else:\n",
    "    print(\"No match found.\")\n"
   ]
  },
  {
   "attachments": {},
   "cell_type": "markdown",
   "metadata": {},
   "source": [
    "# What is the difference between the match() and search() functions in the re module in Python?\n"
   ]
  },
  {
   "attachments": {},
   "cell_type": "markdown",
   "metadata": {},
   "source": [
    "\n",
    "The match() and search() functions in the re module in Python are both used to search for a regular expression pattern in a string. However, there is a key difference between the two functions:\n",
    "\n",
    "- The match() function only matches the pattern at the beginning of the string, while the search() function matches the pattern anywhere in the string."
   ]
  },
  {
   "cell_type": "code",
   "execution_count": 9,
   "metadata": {},
   "outputs": [],
   "source": [
    "# Example of match() function\n",
    "\n",
    "import re\n",
    "\n",
    "str = \"This is a hello world.\"\n",
    "\n",
    "match = re.match(r\"hello\", str)\n",
    "\n",
    "if match:\n",
    "  print(match.group())\n"
   ]
  },
  {
   "cell_type": "code",
   "execution_count": 11,
   "metadata": {},
   "outputs": [
    {
     "name": "stdout",
     "output_type": "stream",
     "text": [
      "hello\n"
     ]
    }
   ],
   "source": [
    "# Example of search() function\n",
    "import re\n",
    "\n",
    "str = \"This is a hello world.\"\n",
    "\n",
    "match = re.search(r\"hello\", str)\n",
    "\n",
    "if match:\n",
    "  print(match.group())\n"
   ]
  },
  {
   "cell_type": "markdown",
   "metadata": {},
   "source": [
    "# How do you replace text in a string using regular expressions in Python?"
   ]
  },
  {
   "cell_type": "code",
   "execution_count": 12,
   "metadata": {},
   "outputs": [
    {
     "name": "stdout",
     "output_type": "stream",
     "text": [
      "The new_text is replaced with new_text.\n"
     ]
    }
   ],
   "source": [
    "import re\n",
    "\n",
    "# Define the pattern you want to replace.\n",
    "pattern = r\"old_text\"\n",
    "\n",
    "# Define the replacement text.\n",
    "replacement = \"new_text\"\n",
    "\n",
    "# Define the string you want to search and replace within.\n",
    "text = \"The old_text is replaced with new_text.\"\n",
    "\n",
    "# Use the sub() function to replace all occurrences of the pattern with the replacement text.\n",
    "new_text = re.sub(pattern, replacement, text)\n",
    "\n",
    "# Print the new text with the replacements.\n",
    "print(new_text)\n"
   ]
  },
  {
   "attachments": {},
   "cell_type": "markdown",
   "metadata": {},
   "source": [
    "#  How do you use the pandas library to read a CSV file into a DataFrame in Python?"
   ]
  },
  {
   "cell_type": "code",
   "execution_count": null,
   "metadata": {},
   "outputs": [],
   "source": [
    "import pandas as pd\n",
    "\n",
    "# Read the CSV file into a DataFrame.\n",
    "df = pd.read_csv('.csv')\n",
    "\n",
    "# Print the first 5 rows of the DataFrame.\n",
    "print(df.head())\n"
   ]
  },
  {
   "cell_type": "code",
   "execution_count": null,
   "metadata": {},
   "outputs": [],
   "source": []
  }
 ],
 "metadata": {
  "kernelspec": {
   "display_name": "Python 3",
   "language": "python",
   "name": "python3"
  },
  "language_info": {
   "codemirror_mode": {
    "name": "ipython",
    "version": 3
   },
   "file_extension": ".py",
   "mimetype": "text/x-python",
   "name": "python",
   "nbconvert_exporter": "python",
   "pygments_lexer": "ipython3",
   "version": "3.10.4"
  },
  "orig_nbformat": 4
 },
 "nbformat": 4,
 "nbformat_minor": 2
}

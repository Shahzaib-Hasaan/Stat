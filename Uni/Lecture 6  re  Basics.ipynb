{
 "cells": [
  {
   "cell_type": "markdown",
   "metadata": {},
   "source": [
    "# A Regular Expressions (RegEx) \n",
    "* is a special sequence of characters that uses a search pattern to find a string or set of strings. It can detect the presence or absence of a text by matching with a particular pattern, and also can split a pattern into one or more sub-patterns. \n",
    "* Python provides a re module that supports the use of regex in Python. Its primary function is to offer a search, where it takes a regular expression and a string. Here, it either returns the first match or else none."
   ]
  },
  {
   "cell_type": "code",
   "execution_count": 1,
   "metadata": {},
   "outputs": [
    {
     "name": "stdout",
     "output_type": "stream",
     "text": [
      "ome t\n"
     ]
    }
   ],
   "source": [
    "import re\n",
    "s = \"Welcome to Artificial intelligence\"\n",
    "res = re.search(r\"\\D{3} t\",s)\n",
    "print(res.group())"
   ]
  },
  {
   "attachments": {},
   "cell_type": "markdown",
   "metadata": {},
   "source": [
    "- \\D matches any non-digit character.\n",
    "- {3} specifies that the previous pattern (in this case, \\D) should be repeated exactly 3 times.\n",
    "- t matches the character \"t\". <br>\n",
    "So the pattern \\D{3} t matches any three non-digit characters followed by a space and the letter \"t\"."
   ]
  },
  {
   "cell_type": "code",
   "execution_count": 53,
   "metadata": {
    "scrolled": true
   },
   "outputs": [
    {
     "name": "stdout",
     "output_type": "stream",
     "text": [
      "<re.Match object; span=(22, 32), match='characters'>\n",
      "Start Index: 22\n",
      "End Index: 32\n"
     ]
    }
   ],
   "source": [
    "# Code gives the starting index and the ending index of the string \"characters\".\n",
    "import re\n",
    " \n",
    "s = 'a special sequence of characters that uses a characters search pattern to find a string or set of strings'\n",
    " \n",
    "match = re.search(r'characters', s)\n",
    "# Here r character (r'characters') stands for raw\n",
    "# The raw string is slightly different from a regular string, it won’t interpret the \\ character as an escape character. \n",
    "# This is because the regular expression engine uses \\ character for its own escaping purpose.\n",
    "\n",
    "print(match)\n",
    "print('Start Index:', match.start())\n",
    "print('End Index:', match.end())"
   ]
  },
  {
   "cell_type": "markdown",
   "metadata": {},
   "source": [
    "# Match Object\n",
    "A Match object contains all the information about the search and the result and if there is no match found then None will be returned. Let’s see some of the commonly used methods and attributes of the match object.\n",
    "\n",
    "### Getting the string and the regex\n",
    "\n",
    "match.re attribute returns the regular expression passed and match.string attribute returns the string passed.\n",
    "\n",
    "# Getting index of matched object\n",
    "* start() method returns the starting index of the matched substring\n",
    "* end() method returns the ending index of the matched substring\n",
    "* span() method returns a tuple containing the starting and the ending index of the matched substring"
   ]
  },
  {
   "cell_type": "code",
   "execution_count": 19,
   "metadata": {},
   "outputs": [
    {
     "name": "stdout",
     "output_type": "stream",
     "text": [
      "11\n",
      "15\n",
      "(11, 15)\n"
     ]
    }
   ],
   "source": [
    "import re\n",
    " \n",
    "s = \"Welcome to Artificial intelligence\"\n",
    " \n",
    "# here x is the match object\n",
    "res = re.search(r\"\\bArti\", s)\n",
    " \n",
    "print(res.start())\n",
    "print(res.end())\n",
    "print(res.span())"
   ]
  },
  {
   "attachments": {},
   "cell_type": "markdown",
   "metadata": {},
   "source": [
    "# MetaCharacters\tDescription\n",
    "\n",
    "* \\\tUsed to drop the special meaning of character following it.\n",
    "* []\tRepresent a character class.\n",
    "* ^\t Matches the beginning.\n",
    "* $\t Matches the end.\n",
    "* .\t Matches any character except newline.\n",
    "* |\t Means OR (Matches with any of the characters separated by it.\n",
    "* ?\t Matches zero or one occurrence.\n",
    "* \\*\tAny number of occurrences (including 0 occurrences).\n",
    "* \\+\tOne or more occurrences.\n",
    "* {}\tIndicate the number of occurrences of a preceding regex to match.\n",
    "* ()\tEnclose a group of Regex."
   ]
  },
  {
   "cell_type": "markdown",
   "metadata": {},
   "source": [
    "# \\ – Backslash\n",
    "* The backslash (\\) makes sure that the character is not treated in a special way. This can be considered a way of escaping metacharacters. \n",
    "* For example, if you want to search for the dot(.) in the string then you will find that dot(.) will be treated as a special character as is one of the metacharacters (as shown in the above table). \n",
    "* So for this case, we will use the backslash(\\) just before the dot(.) so that it will lose its specialty. See the below example for a better understanding."
   ]
  },
  {
   "cell_type": "code",
   "execution_count": 47,
   "metadata": {},
   "outputs": [
    {
     "name": "stdout",
     "output_type": "stream",
     "text": [
      "<re.Match object; span=(0, 1), match='A'>\n",
      "<re.Match object; span=(11, 12), match='.'>\n"
     ]
    }
   ],
   "source": [
    "# A Python program to demonstrate working of re.match(). \n",
    "import re  \n",
    "s = 'Artificail .Intelligence'\n",
    " \n",
    "# without using \\\n",
    "match = re.search(r'.', s)\n",
    "print(match)\n",
    " \n",
    "# using \\\n",
    "match = re.search(r'\\.', s)\n",
    "print(match)"
   ]
  },
  {
   "cell_type": "markdown",
   "metadata": {},
   "source": [
    "# []  Square Brackets\n",
    "\n",
    "* Square Brackets ([]) represents a character class consisting of a set of characters that we wish to match. For example, the character class [abc] will match any single a, b, or c. \n",
    "\n",
    "* We can also specify a range of characters using – inside the square brackets. For example, \n",
    "\n",
    "* [0, 3] is sample as [0123]\n",
    "* [a-c] is same as [abc]\n",
    "* We can also invert the character class using the caret(^) symbol. For example, \n",
    "\n",
    "* [^0-3] means any number except 0, 1, 2, or 3\n",
    "* [^a-c] means any character except a, b, or c"
   ]
  },
  {
   "cell_type": "code",
   "execution_count": null,
   "metadata": {},
   "outputs": [],
   "source": []
  },
  {
   "cell_type": "markdown",
   "metadata": {},
   "source": [
    "# ^  Caret\n",
    "* Caret (^) symbol matches the beginning of the string i.e. checks whether the string starts with the given character(s) or not. For example –  \n",
    "\n",
    "*  ^g will check if the string starts with g such as geeks, globe, girl, g, etc.\n",
    "*  ^ge will check if the string starts with ge such as geeks, geeksforgeeks, etc.\n",
    "\n"
   ]
  },
  {
   "cell_type": "code",
   "execution_count": null,
   "metadata": {},
   "outputs": [],
   "source": []
  },
  {
   "cell_type": "markdown",
   "metadata": {},
   "source": [
    "#  \\$  Dollar\n",
    "\n",
    "* Dollar($) symbol matches the end of the string i.e checks whether the string ends with the given character(s) or not. For example – \n",
    "\n",
    "*  s\\$ will check for the string that ends with a such as geeks, ends, s, etc.\n",
    "*  ks$ will check for the string that ends with ks such as geeks, geeksforgeeks, ks, etc.\n",
    "\n"
   ]
  },
  {
   "cell_type": "code",
   "execution_count": null,
   "metadata": {},
   "outputs": [],
   "source": []
  },
  {
   "cell_type": "markdown",
   "metadata": {},
   "source": [
    "#  .  Dot\n",
    "*  Dot(.) symbol matches only a single character except for the newline character (\\n). For example –  \n",
    "\n",
    "*  a.b will check for the string that contains any character at the place of the dot such as acb, acbd, abbb, etc\n",
    "*  .. will check if the string contains at least 2 characters\n",
    "\n"
   ]
  },
  {
   "cell_type": "code",
   "execution_count": null,
   "metadata": {},
   "outputs": [],
   "source": []
  },
  {
   "cell_type": "markdown",
   "metadata": {},
   "source": [
    "#  |  Or\n",
    "*   Or symbol works as the or operator meaning it checks whether the pattern before or after the or symbol is present in the string or not. For example –  \n",
    "\n",
    "*  a|b will match any string that contains a or b such as acd, bcd, abcd, etc.\n",
    "\n"
   ]
  },
  {
   "cell_type": "code",
   "execution_count": null,
   "metadata": {},
   "outputs": [],
   "source": []
  },
  {
   "cell_type": "markdown",
   "metadata": {},
   "source": [
    "#  ?  Question Mark\n",
    "*  Question mark(?) checks if the string before the question mark in the regex occurs at least once or not at all. For example –  \n",
    "\n",
    "*  ab?c will be matched for the string ac, acb, dabc but will not be matched for abbc because there are two b. Similarly, it will not be matched for abdc because b is not followed by c.\n",
    "\n"
   ]
  },
  {
   "cell_type": "code",
   "execution_count": null,
   "metadata": {},
   "outputs": [],
   "source": []
  },
  {
   "cell_type": "markdown",
   "metadata": {},
   "source": [
    "#  *  Star\n",
    "*  Star (*) symbol matches zero or more occurrences of the regex preceding the * symbol. For example –  \n",
    "\n",
    "*  ab*c will be matched for the string ac, abc, abbbc, dabc, etc. but will not be matched for abdc because b is not followed by c.\n",
    "\n",
    "\n",
    " "
   ]
  },
  {
   "cell_type": "code",
   "execution_count": null,
   "metadata": {},
   "outputs": [],
   "source": []
  },
  {
   "cell_type": "markdown",
   "metadata": {},
   "source": [
    "#  +  Plus\n",
    "*  Plus (+) symbol matches one or more occurrences of the regex preceding the + symbol. For example –  \n",
    "\n",
    "*  ab+c will be matched for the string abc, abbc, dabc, but will not be matched for ac, abdc because there is no b in ac and b is not followed by c in abdc.\n",
    "\n"
   ]
  },
  {
   "cell_type": "code",
   "execution_count": null,
   "metadata": {},
   "outputs": [],
   "source": []
  },
  {
   "cell_type": "markdown",
   "metadata": {},
   "source": [
    "#  {m, n}  Braces\n",
    "*  Braces match any repetitions preceding regex from m to n both inclusive. For example –  \n",
    "\n",
    "*  a{2, 4} will be matched for the string aaab, baaaac, gaad, but will not be matched for strings like abc, bc because there is only one a or no a in both the cases.\n",
    "\n"
   ]
  },
  {
   "cell_type": "code",
   "execution_count": null,
   "metadata": {},
   "outputs": [],
   "source": []
  },
  {
   "cell_type": "markdown",
   "metadata": {},
   "source": [
    "#   (<regex>)  Group\n",
    "*  Group symbol is used to group sub-patterns. For example –  \n",
    "\n",
    "*  (a|b)cd will match for strings like acd, abcd, gacd, etc."
   ]
  },
  {
   "cell_type": "code",
   "execution_count": null,
   "metadata": {},
   "outputs": [],
   "source": []
  },
  {
   "cell_type": "markdown",
   "metadata": {},
   "source": [
    "# Special Sequence\tDescription\tExamples\n",
    "*  \\A\tMatches if the string begins with the given character.\t  ( \\Afor \t|   for geeks    |   for the world)\n",
    "*  \\b\tMatches if the word begins or ends with the given character. \\b(string) will check for the beginning of the word and (string)\\b will check for the ending of the word.\t(\\bge\t|  geeks   |     get)\n",
    "*  \\B\tIt is the opposite of the \\b i.e. the string should not start or end with the given regex.\t(\\Bge\t|  together    | forge)\n",
    "*  \\d\tMatches any decimal digit, this is equivalent to the set class [0-9]\t ( \\d\t|123   |     gee1)\n",
    "*  \\D\tMatches any non-digit character, this is equivalent to the set class [^0-9]\t(\\D  |\tgeeks  |  geek1)\n",
    "*  \\s\tMatches any whitespace character.\t(\\s\tgee ks a bc a)\n",
    "*  \\S\tMatches any non-whitespace character\t(\\S\ta bd abcd)\n",
    "*  \\w\tMatches any alphanumeric character, this is equivalent to the class [a-zA-Z0-9_].\t(\\w\t  |  123   |  geeKs4)\n",
    "*  \\W\tMatches any non-alphanumeric character.\t(\\W\t|  >$  | gee<>)\n",
    "*  \\Z\tMatches if the string ends with the given regex\t(ab\\Z\t |abcdab  |  abababab)"
   ]
  },
  {
   "cell_type": "markdown",
   "metadata": {},
   "source": [
    "# re.findall()\n",
    "* Return all non-overlapping matches of pattern in string, as a list of strings. The string is scanned left-to-right, and matches are returned in the order found."
   ]
  },
  {
   "cell_type": "code",
   "execution_count": 13,
   "metadata": {},
   "outputs": [
    {
     "name": "stdout",
     "output_type": "stream",
     "text": [
      "['123456789', '987654321']\n"
     ]
    }
   ],
   "source": [
    "# A Python program to demonstrate working of\n",
    "# findall()\n",
    "import re\n",
    " \n",
    "# A sample text string where regular expression\n",
    "# is searched.\n",
    "string = \"\"\"Hello my Number is 123456789 and\n",
    "            my friend's number is 987654321\"\"\"\n",
    " \n",
    "# A sample regular expression to find digits.\n",
    "regex = '\\d+'  #\\d Matches any decimal digit, this is equivalent to the set class [0-9]\n",
    " \n",
    "match = re.findall(regex, string)\n",
    "print(match)\n",
    " \n",
    "# This example is contributed by Ayush Saluja."
   ]
  },
  {
   "cell_type": "markdown",
   "metadata": {},
   "source": [
    "# re.compile() \n",
    "* Regular expressions are compiled into pattern objects, which have methods for various operations such as searching for pattern matches or performing string substitutions. "
   ]
  },
  {
   "cell_type": "code",
   "execution_count": 2,
   "metadata": {},
   "outputs": [
    {
     "name": "stdout",
     "output_type": "stream",
     "text": [
      "['A', 'y', ',', ' ', 's', 'i', ' ', 'M', 'r', '.', ' ', 'G', 'i', 'n', 's', 'o', 'n', ' ', 'S', 't', 'r', 'k']\n"
     ]
    }
   ],
   "source": [
    "# Module Regular Expression is imported\n",
    "# using __import__().\n",
    "import re\n",
    " \n",
    "# compile() creates regular expression\n",
    "# character class [a-e],\n",
    "# which is equivalent to [abcde].\n",
    "# class [abcde] will match with string with\n",
    "# 'a', 'b', 'c', 'd', 'e'.\n",
    "p = re.compile('[^a-e]')\n",
    " \n",
    "# findall() searches for the Regular Expression\n",
    "# and return a list upon finding\n",
    "print(p.findall(\"Aye, said Mr. Gibenson Stark\"))"
   ]
  },
  {
   "cell_type": "code",
   "execution_count": 2,
   "metadata": {},
   "outputs": [
    {
     "name": "stdout",
     "output_type": "stream",
     "text": [
      "['s', 's']\n"
     ]
    }
   ],
   "source": [
    "# Module Regular Expression is imported\n",
    "# using __import__().\n",
    "import re\n",
    " \n",
    "# compile() creates regular expression\n",
    "# character class [a-e],\n",
    "# which is equivalent to [abcde].\n",
    "# class [abcde] will match with string with\n",
    "# 'a', 'b', 'c', 'd', 'e'.\n",
    "p = re.compile('[$s]')\n",
    " \n",
    "# findall() searches for the Regular Expression\n",
    "# and return a list upon finding\n",
    "print(p.findall(\"Aye, said Mr. Gibenson Stark\"))"
   ]
  },
  {
   "cell_type": "code",
   "execution_count": null,
   "metadata": {},
   "outputs": [],
   "source": [
    "# Module Regular Expression is imported\n",
    "# using __import__().\n",
    "import re\n",
    " \n",
    "# compile() creates regular expression\n",
    "# character class [a-e],\n",
    "# which is equivalent to [abcde].\n",
    "# class [abcde] will match with string with\n",
    "# 'a', 'b', 'c', 'd', 'e'.\n",
    "p = re.compile('[^s]')\n",
    " \n",
    "# findall() searches for the Regular Expression\n",
    "# and return a list upon finding\n",
    "print(p.findall(\"Aye, said Mr. Gibenson Stark\"))"
   ]
  },
  {
   "cell_type": "markdown",
   "metadata": {},
   "source": [
    "# Understanding the Output: \n",
    "\n",
    "* First occurrence is ‘e’ in “Aye” and not ‘A’, as it being Case Sensitive.\n",
    "* Next Occurrence is ‘a’ in “said”, then ‘d’ in “said”, followed by ‘b’ and ‘e’ in “Gibenson”, the Last ‘a’ matches with “Stark”.\n",
    "* Metacharacter backslash ‘\\’ has a very important role as it signals various sequences. If the backslash is to be used without its special meaning as metacharacter, use’\\\\’"
   ]
  },
  {
   "cell_type": "markdown",
   "metadata": {},
   "source": [
    "# Example 2: Set class [\\s,.] will match any whitespace character,  ‘,’,  or, ‘.’ "
   ]
  },
  {
   "cell_type": "code",
   "execution_count": 15,
   "metadata": {},
   "outputs": [
    {
     "name": "stdout",
     "output_type": "stream",
     "text": [
      "['1', '1', '4', '1', '8', '8', '6']\n",
      "['11', '4', '1886']\n"
     ]
    }
   ],
   "source": [
    "import re\n",
    " \n",
    "# \\d is equivalent to [0-9].\n",
    "p = re.compile('\\d')\n",
    "print(p.findall(\"I went to him at 11 A.M. on 4th July 1886\"))\n",
    " \n",
    "# \\d+ will match a group on [0-9], group\n",
    "# of one or greater size\n",
    "p = re.compile('\\d+')\n",
    "print(p.findall(\"I went to him at 11 A.M. on 4th July 1886\"))"
   ]
  },
  {
   "cell_type": "code",
   "execution_count": 16,
   "metadata": {},
   "outputs": [
    {
     "name": "stdout",
     "output_type": "stream",
     "text": [
      "['H', 'e', 's', 'a', 'i', 'd', 'i', 'n', 's', 'o', 'm', 'e', '_', 'l', 'a', 'n', 'g']\n",
      "['I', 'went', 'to', 'him', 'at', '11', 'A', 'M', 'he', 'said', 'in', 'some_language']\n",
      "[' ', ' ', '*', '*', '*', ' ', ' ', '.']\n"
     ]
    }
   ],
   "source": [
    "import re\n",
    " \n",
    "# \\w is equivalent to [a-zA-Z0-9_].\n",
    "p = re.compile('\\w')\n",
    "print(p.findall(\"He said * in some_lang.\"))\n",
    " \n",
    "# \\w+ matches to group of alphanumeric character.\n",
    "p = re.compile('\\w+')\n",
    "print(p.findall(\"I went to him at 11 A.M., he \\\n",
    "said *** in some_language.\"))\n",
    "\n",
    "# \\W matches to non alphanumeric characters.\n",
    "p = re.compile('\\W')\n",
    "print(p.findall(\"he said *** in some_language.\"))"
   ]
  },
  {
   "cell_type": "code",
   "execution_count": 17,
   "metadata": {},
   "outputs": [
    {
     "name": "stdout",
     "output_type": "stream",
     "text": [
      "['ab', 'abb', 'a', 'abbb']\n"
     ]
    }
   ],
   "source": [
    "import re\n",
    " \n",
    "# '*' replaces the no. of occurrence\n",
    "# of a character.\n",
    "p = re.compile('ab*')\n",
    "print(p.findall(\"ababbaabbb\"))"
   ]
  },
  {
   "cell_type": "markdown",
   "metadata": {},
   "source": [
    "# Understanding the Output: \n",
    "\n",
    "* Our RE is ab*, which ‘a’ accompanied by any no. of ‘b’s, starting from 0.\n",
    "* Output ‘ab’, is valid because of single ‘a’ accompanied by single ‘b’.\n",
    "* Output ‘abb’, is valid because of single ‘a’ accompanied by 2 ‘b’.\n",
    "* Output ‘a’, is valid because of single ‘a’ accompanied by 0 ‘b’.\n",
    "* Output ‘abbb’, is valid because of single ‘a’ accompanied by 3 ‘b’."
   ]
  },
  {
   "cell_type": "code",
   "execution_count": 1,
   "metadata": {},
   "outputs": [
    {
     "name": "stdout",
     "output_type": "stream",
     "text": [
      "Match at index 14, 21\n",
      "Full match: June 24\n",
      "Month: June\n",
      "Day: 24\n"
     ]
    }
   ],
   "source": [
    "\n",
    "# A Python program to demonstrate working of re.match(). \n",
    "import re \n",
    "   \n",
    "# Lets use a regular expression to match a date string \n",
    "# in the form of Month name followed by day number \n",
    "regex = r\"([a-zA-Z]+) (\\d+)\"\n",
    "   \n",
    "match = re.search(regex, \"I was born on June 24\") \n",
    "   \n",
    "if match != None: \n",
    "   \n",
    "    # We reach here when the expression \"([a-zA-Z]+) (\\d+)\" \n",
    "    # matches the date string. \n",
    "   \n",
    "    # This will print [14, 21), since it matches at index 14 \n",
    "    # and ends at 21. \n",
    "    print (\"Match at index %s, %s\" % (match.start(), match.end())) \n",
    "   \n",
    "    # We us group() method to get all the matches and \n",
    "    # captured groups. The groups contain the matched values. \n",
    "    # In particular: \n",
    "    # match.group(0) always returns the fully matched string \n",
    "    # match.group(1) match.group(2), ... return the capture \n",
    "    # groups in order from left to right in the input string \n",
    "    # match.group() is equivalent to match.group(0) \n",
    "   \n",
    "    # So this will print \"June 24\" \n",
    "    print ('date = ', match.group(0)) \n",
    "   \n",
    "    # So this will print \"June\" \n",
    "    print (\"Month: %s\" % (match.group(1))) \n",
    "   \n",
    "    # So this will print \"24\" \n",
    "    print (\"Day: %s\" % (match.group(2)))\n",
    "   \n",
    "else: \n",
    "    print (\"The regex pattern does not match.\")"
   ]
  },
  {
   "cell_type": "code",
   "execution_count": null,
   "metadata": {},
   "outputs": [],
   "source": []
  }
 ],
 "metadata": {
  "kernelspec": {
   "display_name": "Python 3",
   "language": "python",
   "name": "python3"
  },
  "language_info": {
   "codemirror_mode": {
    "name": "ipython",
    "version": 3
   },
   "file_extension": ".py",
   "mimetype": "text/x-python",
   "name": "python",
   "nbconvert_exporter": "python",
   "pygments_lexer": "ipython3",
   "version": "3.10.4"
  }
 },
 "nbformat": 4,
 "nbformat_minor": 4
}

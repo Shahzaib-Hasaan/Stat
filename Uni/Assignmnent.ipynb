{
 "cells": [
  {
   "attachments": {},
   "cell_type": "markdown",
   "metadata": {},
   "source": [
    "# How do you use the re.search() function in Python's re library to search for a specific string pattern within a larger string?\n"
   ]
  },
  {
   "attachments": {},
   "cell_type": "markdown",
   "metadata": {},
   "source": [
    "* The re.search() function is used to search for a specific pattern within a larger string.<br> \n",
    "* It takes two arguments: the pattern to search for, and the string to search within. <br>\n",
    "Here's an example:\n",
    "\n"
   ]
  },
  {
   "cell_type": "code",
   "execution_count": 1,
   "metadata": {},
   "outputs": [
    {
     "name": "stdout",
     "output_type": "stream",
     "text": [
      "python\n"
     ]
    }
   ],
   "source": [
    "import re\n",
    "\n",
    "pattern = r\"python\"\n",
    "\n",
    "text = \"I am making assignment for python\"\n",
    "\n",
    "match = re.search(pattern, text)\n",
    "\n",
    "print(match.group())\n"
   ]
  },
  {
   "attachments": {},
   "cell_type": "markdown",
   "metadata": {},
   "source": [
    "# How can you use the re.search() function in Python's re library to find the first occurrence of a pattern in a string, even if there are multiple occurrences of the pattern?"
   ]
  },
  {
   "attachments": {},
   "cell_type": "markdown",
   "metadata": {},
   "source": [
    "*  The re.search() function searches for the first occurrence of a pattern in a string. Once it finds a match, it stops searching. <br>\n",
    "For Example"
   ]
  },
  {
   "cell_type": "code",
   "execution_count": 2,
   "metadata": {},
   "outputs": [
    {
     "name": "stdout",
     "output_type": "stream",
     "text": [
      "First match found at index  7\n"
     ]
    }
   ],
   "source": [
    "import re\n",
    "\n",
    "pattern = r\"is\"\n",
    "\n",
    "text = \"Python is a programming language. It is used for making web applications.\"\n",
    "\n",
    "match = re.search(pattern, text)\n",
    "\n",
    "print(\"First match found at index \" , match.start())\n",
    "\n"
   ]
  },
  {
   "attachments": {},
   "cell_type": "markdown",
   "metadata": {},
   "source": [
    "# How do you create a regular expression that matches any lowercase letter in Python's re library?\n"
   ]
  },
  {
   "cell_type": "code",
   "execution_count": 3,
   "metadata": {},
   "outputs": [
    {
     "name": "stdout",
     "output_type": "stream",
     "text": [
      "e\n"
     ]
    }
   ],
   "source": [
    "import re\n",
    "\n",
    "pattern = r'[a-f]'\n",
    "\n",
    "text = 'Regular expressions are a powerful tool for string manipulation.'\n",
    "\n",
    "matches = re.search(pattern, text)\n",
    "\n",
    "print(matches.group())"
   ]
  },
  {
   "cell_type": "code",
   "execution_count": 4,
   "metadata": {},
   "outputs": [
    {
     "name": "stdout",
     "output_type": "stream",
     "text": [
      "['e', 'a', 'e', 'e', 'a', 'e', 'a', 'e', 'f', 'f', 'a', 'a']\n"
     ]
    }
   ],
   "source": [
    "import re\n",
    "\n",
    "pattern = r'[a-f]'\n",
    "\n",
    "text = 'Regular expressions are a powerful tool for string manipulation.'\n",
    "\n",
    "matches = re.findall(pattern, text)\n",
    "\n",
    "print(matches)\n"
   ]
  },
  {
   "attachments": {},
   "cell_type": "markdown",
   "metadata": {},
   "source": [
    "#  How do you create a regular expression that matches any uppercase letter in Python's re library?"
   ]
  },
  {
   "cell_type": "code",
   "execution_count": 5,
   "metadata": {},
   "outputs": [
    {
     "name": "stdout",
     "output_type": "stream",
     "text": [
      "['P', 'P', 'P']\n"
     ]
    }
   ],
   "source": [
    "import re\n",
    "\n",
    "pattern = r'[P]'\n",
    "\n",
    "text = 'Python is a programming language. It is used for making web applications. Python is a very popular language. It is used by many data scientists. Python is a very easy language to learn.'\n",
    "\n",
    "matches = re.findall(pattern, text)\n",
    "\n",
    "print(matches)\n"
   ]
  },
  {
   "cell_type": "code",
   "execution_count": 6,
   "metadata": {},
   "outputs": [
    {
     "name": "stdout",
     "output_type": "stream",
     "text": [
      "P\n"
     ]
    }
   ],
   "source": [
    "import re\n",
    "\n",
    "pattern = r'[P]'\n",
    "\n",
    "text = 'Python is a programming language. It is used for making web applications. Python is a very popular language. It is used by many data scientists. Python is a very easy language to learn.'\n",
    "\n",
    "matches = re.search(pattern, text)\n",
    "\n",
    "print(matches.group())\n"
   ]
  },
  {
   "attachments": {},
   "cell_type": "markdown",
   "metadata": {},
   "source": [
    "# How can you use the re.sub() function in Python's re library to replace a specific pattern in a string with a new value?"
   ]
  },
  {
   "cell_type": "code",
   "execution_count": 7,
   "metadata": {},
   "outputs": [
    {
     "name": "stdout",
     "output_type": "stream",
     "text": [
      "Java is a programming language. It is used for making web applications. Java is a very popular language.\n"
     ]
    }
   ],
   "source": [
    "import re\n",
    "\n",
    "pattern = r'Python'\n",
    "\n",
    "text = 'Python is a programming language. It is used for making web applications. Python is a very popular language.'\n",
    "\n",
    "new_text = re.sub(pattern, 'Java', text)\n",
    "\n",
    "print(new_text)"
   ]
  },
  {
   "attachments": {},
   "cell_type": "markdown",
   "metadata": {},
   "source": [
    "# How do you create a regular expression that matches any word that begins with a capital letter in Python's re library? <br>\n",
    "\n"
   ]
  },
  {
   "cell_type": "code",
   "execution_count": 8,
   "metadata": {},
   "outputs": [
    {
     "name": "stdout",
     "output_type": "stream",
     "text": [
      "['Python', 'It', 'Python', 'It', 'Python']\n"
     ]
    }
   ],
   "source": [
    "import re   \n",
    "\n",
    "pattern = r'[A-Z]\\w+'   \n",
    "\n",
    "text = 'Python is a programming language. It is used for making web applications. Python is a very popular language. It is used by many data scientists. Python is a very easy language to learn.'\n",
    "\n",
    "matches = re.findall(pattern, text)\n",
    "\n",
    "print(matches)"
   ]
  },
  {
   "cell_type": "code",
   "execution_count": 9,
   "metadata": {},
   "outputs": [
    {
     "name": "stdout",
     "output_type": "stream",
     "text": [
      "Python\n"
     ]
    }
   ],
   "source": [
    "import re   \n",
    "\n",
    "pattern = r'[P]\\w+'   \n",
    "\n",
    "text = 'Python is a programming language. It is used for making web applications. Python is a very popular language. It is used by many data scientists. Python is a very easy language to learn.'\n",
    "\n",
    "matches = re.search(pattern, text)\n",
    "\n",
    "print(matches.group())"
   ]
  },
  {
   "attachments": {},
   "cell_type": "markdown",
   "metadata": {},
   "source": [
    "# How do you use the re.search() function in Python's re library to search for a specific pattern within a substring of a larger string?\n",
    "\n"
   ]
  },
  {
   "cell_type": "code",
   "execution_count": 10,
   "metadata": {},
   "outputs": [
    {
     "name": "stdout",
     "output_type": "stream",
     "text": [
      "Python is a programming language. It is used for m\n",
      "Python\n"
     ]
    }
   ],
   "source": [
    "import re\n",
    "\n",
    "pattern = r'Python'\n",
    "\n",
    "text = 'Python is a programming language. It is used for making web applications. Python is a very popular language. It is used by many data scientists. Python is a very easy language to learn.'\n",
    "\n",
    "substring = text[0:50]\n",
    "\n",
    "matches = re.search(pattern, substring)\n",
    "\n",
    "print(substring)\n",
    "print(matches.group())\n",
    "\n"
   ]
  },
  {
   "attachments": {},
   "cell_type": "markdown",
   "metadata": {},
   "source": [
    "# How can you use the re.sub() function in Python's re library to replace multiple patterns in a string with different values?\n",
    "\n",
    "\n"
   ]
  },
  {
   "cell_type": "code",
   "execution_count": 11,
   "metadata": {},
   "outputs": [
    {
     "name": "stdout",
     "output_type": "stream",
     "text": [
      "The slow gray rabbit jumps over the lazy cat.\n"
     ]
    }
   ],
   "source": [
    "import re\n",
    "\n",
    "text = 'The quick brown fox jumps over the lazy dog.'\n",
    "replacements = {'quick': 'slow', 'brown': 'gray', 'fox': 'rabbit', 'dog': 'cat'}\n",
    "\n",
    "pattern = re.compile('|'.join(re.escape(key) for key in replacements.keys()))\n",
    "result = pattern.sub(lambda match: replacements[match.group(0)], text)\n",
    "\n",
    "print(result)\n"
   ]
  },
  {
   "attachments": {},
   "cell_type": "markdown",
   "metadata": {},
   "source": [
    "# How do you create a regular expression that matches any string of numbers separated by commas in Python's re library?\n",
    "\n",
    "\n",
    "\n"
   ]
  },
  {
   "cell_type": "code",
   "execution_count": 12,
   "metadata": {},
   "outputs": [
    {
     "name": "stdout",
     "output_type": "stream",
     "text": [
      "['1,', '2,', '3,', '4,', '5,', '6,', '7,', '8,', '9,']\n"
     ]
    }
   ],
   "source": [
    "import re\n",
    "\n",
    "pattern = r'\\d+[,]'\n",
    "\n",
    "text = '1,2,3,4,5,6,7,8,9,10'\n",
    "\n",
    "matches = re.findall(pattern, text)\n",
    "\n",
    "print(matches)"
   ]
  },
  {
   "attachments": {},
   "cell_type": "markdown",
   "metadata": {},
   "source": [
    "# How do you create a regular expression that matches any email address in Python's re library?\n",
    "\n",
    "\n",
    "\n",
    "\n"
   ]
  },
  {
   "cell_type": "code",
   "execution_count": 13,
   "metadata": {},
   "outputs": [
    {
     "name": "stdout",
     "output_type": "stream",
     "text": [
      "john.doe@example.com\n"
     ]
    }
   ],
   "source": [
    "import re\n",
    "\n",
    "pattern = r'\\b[A-Za-z0-9._%+-]+@[A-Za-z0-9.-]+\\.[A-Z|a-z]{2,}\\b'\n",
    "\n",
    "text = 'My email is john.doe@example.com'\n",
    "\n",
    "match = re.search(pattern, text)\n",
    "\n",
    "print(match.group(0))\n"
   ]
  }
 ],
 "metadata": {
  "kernelspec": {
   "display_name": "Python 3",
   "language": "python",
   "name": "python3"
  },
  "language_info": {
   "codemirror_mode": {
    "name": "ipython",
    "version": 3
   },
   "file_extension": ".py",
   "mimetype": "text/x-python",
   "name": "python",
   "nbconvert_exporter": "python",
   "pygments_lexer": "ipython3",
   "version": "3.10.4"
  },
  "orig_nbformat": 4
 },
 "nbformat": 4,
 "nbformat_minor": 2
}

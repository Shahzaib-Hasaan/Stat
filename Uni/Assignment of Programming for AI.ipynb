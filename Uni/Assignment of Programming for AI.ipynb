{
 "cells": [
  {
   "attachments": {},
   "cell_type": "markdown",
   "metadata": {},
   "source": [
    "**Submitted By:** *Shahzaib Hassan*<br>\n",
    "**Roll Number  :** *1005*"
   ]
  },
  {
   "attachments": {},
   "cell_type": "markdown",
   "metadata": {},
   "source": [
    "#  Program to get student details in list and print them\n"
   ]
  },
  {
   "cell_type": "code",
   "execution_count": 7,
   "metadata": {},
   "outputs": [
    {
     "name": "stdout",
     "output_type": "stream",
     "text": [
      "Name             CNIC             Father Name\n",
      "---------------  ---------------  ----------------\n",
      "Shahzaib Hassan  31201=7474744-1  Muhammad Shabbir\n",
      "\n",
      " Semseter    Section    Enrolled Subject\n",
      "----------  ---------  ------------------\n",
      "3rd         M1         BS AI\n"
     ]
    }
   ],
   "source": [
    "from tabulate import tabulate\n",
    "# Function to get student details\n",
    "def getStudentDetails():\n",
    "    # List to store student details\n",
    "    studentDetails = []\n",
    "    name = input(\"Enter your name:\")\n",
    "    cnic = input(\"Enter your cnic: \")\n",
    "    fathername = input(\"Enter your Fathername: \")\n",
    "    semseter = input(\"Enter your Semseter: \")\n",
    "    section = input(\"Enter your Section: \")\n",
    "    enrolled_subject = input(\"Enter your enrolled subject: \")\n",
    "    # Append student details in list\n",
    "    studentDetails.append(name)\n",
    "    studentDetails.append(cnic)\n",
    "    studentDetails.append(fathername)\n",
    "    studentDetails.append(semseter)\n",
    "    studentDetails.append(section)\n",
    "    studentDetails.append(enrolled_subject)\n",
    "    return studentDetails\n",
    "\n",
    "# Function to print student details\n",
    "def printStudentDetails(studentDetails):\n",
    "    # Print student details\n",
    "    data1 = [[studentDetails[0], studentDetails[1], studentDetails[2]]]\n",
    "    data2 = [[studentDetails[3], studentDetails[4], studentDetails[5]]]\n",
    "    print(tabulate(data1, headers=[\"Name\", \"CNIC\", \"Father Name\"]))\n",
    "    print(\"\\n\",tabulate(data2, headers=[\"Semseter\", \"Section\", \"Enrolled Subject\"]))\n",
    "# Main function\n",
    "def main():\n",
    "    # Get student details\n",
    "    studentDetails = getStudentDetails()\n",
    "    # Print student details\n",
    "    printStudentDetails(studentDetails)\n",
    "\n",
    "main()\n",
    "\n"
   ]
  },
  {
   "attachments": {},
   "cell_type": "markdown",
   "metadata": {},
   "source": [
    "# Program to get marks of 6 subjects and print grade using total percentage\n"
   ]
  },
  {
   "cell_type": "code",
   "execution_count": 8,
   "metadata": {},
   "outputs": [
    {
     "name": "stdout",
     "output_type": "stream",
     "text": [
      "Grade: A+\n",
      "Total Percentage:  80.0\n"
     ]
    }
   ],
   "source": [
    "\n",
    "# Function to get marks of 6 subjects\n",
    "def getMarks():\n",
    "    subjects = [\"Object Oriented Programming\", \"Data Structure\", \"Computer Architecture\", \"Operating System\", \"Database Management System\", \"Computer Networks\"]\n",
    "    # List to store marks of 6 subjects\n",
    "    marks = []\n",
    "    # Get marks of 6 subjects\n",
    "    for i in range(6):\n",
    "        marks.append(int(input(\"Enter marks of \"+ subjects[i] + \": \")))\n",
    "        if marks[i] > 100:\n",
    "            print(\"Invalid marks\")\n",
    "            marks.clear()\n",
    "    return marks\n",
    "\n",
    "# Function to calculate total percentage\n",
    "def calculateTotalPercentage(marks):\n",
    "    # Calculate total percentage\n",
    "    total = 0\n",
    "    for i in range(6):\n",
    "        total += marks[i]\n",
    "    totalPercentage = (total/600)*100\n",
    "    return totalPercentage\n",
    "\n",
    "# Function to print grade\n",
    "def printGrade(totalPercentage):\n",
    "    # Print grade\n",
    "    if totalPercentage >= 80:\n",
    "        print(\"Grade: A+\")\n",
    "    elif totalPercentage >= 70:\n",
    "        print(\"Grade: A\")\n",
    "    elif totalPercentage >= 60:\n",
    "        print(\"Grade: B\")\n",
    "    elif totalPercentage >= 50:\n",
    "        print(\"Grade: C\")\n",
    "    elif totalPercentage >= 40:\n",
    "        print(\"Grade: D\")\n",
    "    else:\n",
    "        print(\"Grade: F\")\n",
    "    print(\"Total Percentage: \", totalPercentage)\n",
    "\n",
    "# Main function\n",
    "def main():\n",
    "    # Get marks of 6 subjects\n",
    "    marks = getMarks()\n",
    "    # Calculate total percentage\n",
    "    totalPercentage = calculateTotalPercentage(marks)\n",
    "    # Print grade\n",
    "    printGrade(totalPercentage)\n",
    "main() "
   ]
  },
  {
   "attachments": {},
   "cell_type": "markdown",
   "metadata": {},
   "source": [
    "# Program to perform arithmetic operations on 2 different operands using comprehension loop"
   ]
  },
  {
   "cell_type": "code",
   "execution_count": 9,
   "metadata": {},
   "outputs": [
    {
     "name": "stdout",
     "output_type": "stream",
     "text": [
      "  Addition    Subtraction    Multiplication    Division\n",
      "----------  -------------  ----------------  ----------\n",
      "        16             14                15          15\n"
     ]
    }
   ],
   "source": [
    "from tabulate import tabulate\n",
    "# Function to perform arithmetic operations on 2 different operands\n",
    "def performArithmeticOperations():\n",
    "    # Get 2 operands\n",
    "    operand1 = int(input(\"Enter value 1: \"))\n",
    "    operand2 = int(input(\"Enter value 2: \"))\n",
    "    # Perform arithmetic operations on 2 different operands using comprehension loop\n",
    "    addition = [operand1 + operand2 for i in range(1)]\n",
    "    subtraction = [operand1 - operand2 for i in range(1)]\n",
    "    multiplication = [operand1 * operand2 for i in range(1)]\n",
    "    division = [operand1 / operand2 for i in range(1)]\n",
    "    return addition, subtraction, multiplication, division \n",
    "\n",
    "# Function to print arithmetic operations\n",
    "def printArithmeticOperations(addition, subtraction, multiplication, division):\n",
    "    # Print arithmetic operations\n",
    "    data = [[addition[0], subtraction[0], multiplication[0], division[0]]]\n",
    "    print(tabulate(data, headers=[\"Addition of\" , \"Subtraction\", \"Multiplication\", \"Division\"]))\n",
    "\n",
    "# Main function\n",
    "def main():\n",
    "    addition, subtraction, multiplication, division = performArithmeticOperations()\n",
    "    # Print results\n",
    "    printArithmeticOperations(addition, subtraction, multiplication, division)\n",
    "\n",
    "main()"
   ]
  }
 ],
 "metadata": {
  "kernelspec": {
   "display_name": "Python 3",
   "language": "python",
   "name": "python3"
  },
  "language_info": {
   "codemirror_mode": {
    "name": "ipython",
    "version": 3
   },
   "file_extension": ".py",
   "mimetype": "text/x-python",
   "name": "python",
   "nbconvert_exporter": "python",
   "pygments_lexer": "ipython3",
   "version": "3.8.10"
  },
  "orig_nbformat": 4
 },
 "nbformat": 4,
 "nbformat_minor": 2
}

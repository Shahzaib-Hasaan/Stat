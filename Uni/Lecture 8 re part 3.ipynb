{
 "cells": [
  {
   "cell_type": "markdown",
   "metadata": {},
   "source": [
    "# Verbose in Python Regex\n",
    "\n",
    "Difficulty Level : Medium\n",
    "Last Updated : 19 Jul, 2019\n",
    "In this article, we will learn about VERBOSE flag of the re package and how to use it.\n",
    "\n",
    "re.VERBOSE : This flag allows you to write regular expressions that look nicer and are more readable by allowing you to visually separate logical sections of the pattern and add comments.\n",
    "\n",
    "* Whitespace within the pattern is ignored, except when in a character class, or when preceded by an unescaped backslash, or within tokens like *?, (?: or (?P. When a line contains a # that is not in a character class and is not preceded by an unescaped backslash, all characters from the leftmost such # through the end of the line are ignored."
   ]
  },
  {
   "cell_type": "code",
   "execution_count": 3,
   "metadata": {},
   "outputs": [
    {
     "name": "stdout",
     "output_type": "stream",
     "text": [
      "re.compile('\\n            ^([a-z0-9_\\\\.-]+)              # local Part\\n            @                             # single @ sign\\n            ([0-9a-z\\\\.-]+)                # Domain name\\n            \\\\.        , re.IGNORECASE|re.VERBOSE)\n"
     ]
    }
   ],
   "source": [
    "# Without Using VERBOSE\n",
    "import re\n",
    "regex_email = re.compile(r'^([a-z0-9_\\.-]+)@([0-9a-z\\.-]+)\\.([a-z\\.]{2, 6})$',\n",
    "              re.IGNORECASE)\n",
    "   \n",
    "# Using VERBOSE\n",
    "regex_email = re.compile(r\"\"\"\n",
    "            ^([a-z0-9_\\.-]+)              # local Part\n",
    "            @                             # single @ sign\n",
    "            ([0-9a-z\\.-]+)                # Domain name\n",
    "            \\.                            # single Dot .\n",
    "            ([a-z]{2,6})$                 # Top level Domain  \n",
    "             \"\"\",re.VERBOSE | re.IGNORECASE) \n",
    "\n",
    "print(regex_email)"
   ]
  },
  {
   "cell_type": "markdown",
   "metadata": {},
   "source": [
    "* It’s passed as an argument to re.compile() i.e re.compile(Regular Expression, re.VERBOSE). re.compile() returns a RegexObject which is then matched with the given string.\n",
    "\n",
    "* Let’s consider an example where the user is asked to enter their Email ID and we have to validate it using RegEx. The format of an email is as follow:\n",
    "\n",
    "* Personal details/local part like john123\n",
    "* Single @\n",
    "* Domain Name like gmail/yahoo etc\n",
    "* Single Dot(.)\n",
    "* Top Level Domain like .com/.org/.net"
   ]
  },
  {
   "cell_type": "code",
   "execution_count": 4,
   "metadata": {},
   "outputs": [
    {
     "name": "stdout",
     "output_type": "stream",
     "text": [
      "expectopatronum@gmail.com is Valid. Details are as follow:\n",
      "Local:expectopatronum\n",
      "Domain:gmail\n",
      "Top Level domain:com\n",
      "\n",
      "avadakedavra@yahoo.com@ is Invalid\n",
      "Crucio@.com is Invalid\n"
     ]
    }
   ],
   "source": [
    "import re\n",
    "  \n",
    "def validate_email(email):\n",
    "  \n",
    "    # RegexObject = re.compile( Regular expression, flag )\n",
    "    # Compiles a regular expression pattern into \n",
    "    # a regular expression object\n",
    "    regex_email=re.compile(r\"\"\"\n",
    "                           ^([a-z0-9_\\.-]+)                 # local Part\n",
    "                           @                             # single @ sign\n",
    "                            ([0-9a-z\\.-]+)                 # Domain name\n",
    "                           \\.                             # single Dot .\n",
    "                            ([a-z]{2,6})$                 # Top level Domain     \n",
    "                           \"\"\",re.VERBOSE | re.IGNORECASE)\n",
    "    res=regex_email.fullmatch(email)\n",
    "    if res:\n",
    "        print(\"{} is Valid. Details are as follow:\".format(email))\n",
    "        print(\"Local:{}\".format(res.group(1)))\n",
    "        print(\"Domain:{}\".format(res.group(2)))\n",
    "        print(\"Top Level domain:{}\".format(res.group(3)))\n",
    "        print()\n",
    "          \n",
    "    else:\n",
    "        print(\"{} is Invalid\".format(email))\n",
    "  \n",
    "# Driver Code\n",
    "validate_email(\"expectopatronum@gmail.com\")\n",
    "validate_email(\"avadakedavra@yahoo.com@\")\n",
    "validate_email(\"Crucio@.com\")"
   ]
  },
  {
   "cell_type": "markdown",
   "metadata": {},
   "source": [
    "# Password validation in Python\n",
    "\n",
    "* Difficulty Level : Easy\n",
    "* Last Updated : 29 Dec, 2020\n",
    "* Let’s take a password as a combination of alphanumeric characters along with special characters, and check whether the password is valid or not with the help of few conditions.\n",
    "\n",
    "## Conditions for a valid password are:\n",
    "\n",
    "* Should have at least one number.\n",
    "* Should have at least one uppercase and one lowercase character.\n",
    "* Should have at least one special symbol.\n",
    "* Should be between 6 to 20 characters long."
   ]
  },
  {
   "cell_type": "code",
   "execution_count": 5,
   "metadata": {},
   "outputs": [
    {
     "name": "stdout",
     "output_type": "stream",
     "text": [
      "Password is valid\n"
     ]
    }
   ],
   "source": [
    "# Password validation in Python\n",
    "# using naive method\n",
    "  \n",
    "# Function to validate the password\n",
    "def password_check(passwd):\n",
    "      \n",
    "    SpecialSym =['$', '@', '#', '%']\n",
    "    val = True\n",
    "      \n",
    "    if len(passwd) < 6:\n",
    "        print('length should be at least 6')\n",
    "        val = False\n",
    "          \n",
    "    if len(passwd) > 20:\n",
    "        print('length should be not be greater than 8')\n",
    "        val = False\n",
    "          \n",
    "    if not any(char.isdigit() for char in passwd):\n",
    "        print('Password should have at least one numeral')\n",
    "        val = False\n",
    "          \n",
    "    if not any(char.isupper() for char in passwd):\n",
    "        print('Password should have at least one uppercase letter')\n",
    "        val = False\n",
    "          \n",
    "    if not any(char.islower() for char in passwd):\n",
    "        print('Password should have at least one lowercase letter')\n",
    "        val = False\n",
    "          \n",
    "    if not any(char in SpecialSym for char in passwd):\n",
    "        print('Password should have at least one of the symbols $@#')\n",
    "        val = False\n",
    "    if val:\n",
    "        return val\n",
    "  \n",
    "# Main method\n",
    "def main():\n",
    "    passwd = 'Geek12@'\n",
    "      \n",
    "    if (password_check(passwd)):\n",
    "        print(\"Password is valid\")\n",
    "    else:\n",
    "        print(\"Invalid Password !!\")\n",
    "          \n",
    "# Driver Code        \n",
    "if __name__ == '__main__':\n",
    "    main()"
   ]
  },
  {
   "cell_type": "markdown",
   "metadata": {},
   "source": [
    "# Method # 2: Using regex\n",
    "\n",
    "compile() method of Regex module makes a Regex object, making it possible to execute regex functions onto the pat variable. Then we check if the pattern defined by pat is followed by the input string passwd. If so, the search method returns true, which would allow the password to be valid."
   ]
  },
  {
   "cell_type": "code",
   "execution_count": 6,
   "metadata": {},
   "outputs": [
    {
     "name": "stdout",
     "output_type": "stream",
     "text": [
      "Password is valid.\n"
     ]
    }
   ],
   "source": [
    "import re\n",
    "  \n",
    "def main():\n",
    "    passwd = 'Geek12@'\n",
    "    reg = \"^(?=.*[a-z])(?=.*[A-Z])(?=.*\\d)(?=.*[@$!%*#?&])[A-Za-z\\d@$!#%*?&]{6,20}$\"\n",
    "      \n",
    "    # compiling regex\n",
    "    pat = re.compile(reg)\n",
    "      \n",
    "    # searching regex                 \n",
    "    mat = re.search(pat, passwd)\n",
    "      \n",
    "    # validating conditions\n",
    "    if mat:\n",
    "        print(\"Password is valid.\")\n",
    "    else:\n",
    "        print(\"Password invalid !!\")\n",
    "  \n",
    "# Driver Code     \n",
    "if __name__ == '__main__':\n",
    "    main()"
   ]
  }
 ],
 "metadata": {
  "kernelspec": {
   "display_name": "Python 3",
   "language": "python",
   "name": "python3"
  },
  "language_info": {
   "codemirror_mode": {
    "name": "ipython",
    "version": 3
   },
   "file_extension": ".py",
   "mimetype": "text/x-python",
   "name": "python",
   "nbconvert_exporter": "python",
   "pygments_lexer": "ipython3",
   "version": "3.7.6"
  }
 },
 "nbformat": 4,
 "nbformat_minor": 4
}

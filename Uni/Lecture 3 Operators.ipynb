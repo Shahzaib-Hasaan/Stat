{
 "cells": [
  {
   "cell_type": "markdown",
   "metadata": {},
   "source": [
    "# Python Operators\n",
    "Operators are used to perform operations on variables and values.\n",
    "\n",
    "In the example below, we use the + operator to add together two values:\n",
    "\n",
    "Python divides the operators in the following groups:\n",
    "\n",
    "* Arithmetic operators\n",
    "* Assignment operators\n",
    "* Comparison operators\n",
    "* Logical operators\n",
    "* Identity operators\n",
    "* Membership operators\n",
    "* Bitwise operators"
   ]
  },
  {
   "cell_type": "markdown",
   "metadata": {},
   "source": [
    "# Arithmetic Operators\n",
    "Arithmetic operators are used with numeric values to perform common mathematical operations"
   ]
  },
  {
   "cell_type": "code",
   "execution_count": 7,
   "metadata": {},
   "outputs": [
    {
     "name": "stdout",
     "output_type": "stream",
     "text": [
      "Addition = 6\n",
      "Subtraction = 2\n",
      "Multiplication = 8\n",
      "Division = 2.0\n",
      "Modulus = 0\n",
      "Exponentiation = 16\n",
      "Floor division = 2\n"
     ]
    }
   ],
   "source": [
    "x = 4\n",
    "y = 2\n",
    "\n",
    "# + Addition \n",
    "print(\"Addition =\" , x + y)\n",
    "#  - Subtraction\n",
    "print(\"Subtraction =\" ,x - y)\n",
    "#  * Multiplication\n",
    "print(\"Multiplication =\" ,x * y)\n",
    "#  / Division \n",
    "print(\"Division =\" ,x / y)\n",
    "#  % Modulus \n",
    "print(\"Modulus =\" ,x % y)\n",
    "#  ** Exponentiation\n",
    "print(\"Exponentiation =\" ,x ** y)\n",
    "#  // Floor division\n",
    "print(\"Floor division =\" ,x // y)"
   ]
  },
  {
   "cell_type": "markdown",
   "metadata": {},
   "source": [
    "# Assignment Operators"
   ]
  },
  {
   "cell_type": "code",
   "execution_count": 8,
   "metadata": {},
   "outputs": [
    {
     "name": "stdout",
     "output_type": "stream",
     "text": [
      "=  5\n",
      "+= 8\n",
      "+= 11\n",
      "-= 8\n",
      "-= 5\n",
      "*= 15\n",
      "*= 45\n",
      "/= 15.0\n",
      "/= 5.0\n",
      "%= 2.0\n",
      "%= 2.0\n",
      "//= 0.0\n",
      "//= 0.0\n",
      "** 0.0\n",
      "** 0.0\n"
     ]
    }
   ],
   "source": [
    "# = \n",
    "x = 5\n",
    "print(\"= \", x)\n",
    "\n",
    "# +=\n",
    "x += 3\n",
    "print(\"+=\", x)\n",
    "x = x + 3\n",
    "print(\"+=\",x)\n",
    "\n",
    "# -=\n",
    "x -= 3\n",
    "print(\"-=\", x)\n",
    "x = x - 3\n",
    "print(\"-=\", x)\n",
    "\n",
    "# *=\n",
    "x *= 3\n",
    "print(\"*=\",x)\n",
    "x = x * 3\n",
    "print(\"*=\",x)\n",
    "\n",
    "# /=\n",
    "x /= 3\n",
    "print(\"/=\",x)\n",
    "x = x / 3\n",
    "print(\"/=\",x)\n",
    "\n",
    "# %=\n",
    "x %= 3\n",
    "print(\"%=\",x)\n",
    "x = x % 3\n",
    "print(\"%=\",x)\n",
    "\n",
    "# //=\n",
    "x //= 3\n",
    "print(\"//=\",x)\n",
    "x = x // 3\n",
    "print(\"//=\", x)\n",
    "\n",
    "# **=\n",
    "x **= 3\n",
    "print(\"**\",x)\n",
    "x = x ** 3\n",
    "print(\"**\",x)\n"
   ]
  },
  {
   "cell_type": "markdown",
   "metadata": {},
   "source": [
    "# Logical Operators"
   ]
  },
  {
   "cell_type": "code",
   "execution_count": 1,
   "metadata": {},
   "outputs": [],
   "source": [
    "# and \n",
    "# Returns True if both statements are true \n",
    "x = 7\n",
    "if x < 5 and  x < 10:\n",
    "    print(\"Hello\")"
   ]
  },
  {
   "cell_type": "code",
   "execution_count": 6,
   "metadata": {},
   "outputs": [
    {
     "data": {
      "text/plain": [
       "True"
      ]
     },
     "execution_count": 6,
     "metadata": {},
     "output_type": "execute_result"
    }
   ],
   "source": [
    "# or \n",
    "# Returns True if one of the statements is true\n",
    "x < 5 or x < 10\n"
   ]
  },
  {
   "cell_type": "code",
   "execution_count": 7,
   "metadata": {},
   "outputs": [
    {
     "data": {
      "text/plain": [
       "True"
      ]
     },
     "execution_count": 7,
     "metadata": {},
     "output_type": "execute_result"
    }
   ],
   "source": [
    "# not \n",
    "# Reverse the result, returns False if the result is true\n",
    "not(x < 5 and x < 10)"
   ]
  },
  {
   "cell_type": "markdown",
   "metadata": {},
   "source": [
    "# Comparison Operator"
   ]
  },
  {
   "cell_type": "code",
   "execution_count": 11,
   "metadata": {},
   "outputs": [
    {
     "name": "stdout",
     "output_type": "stream",
     "text": [
      "False\n",
      "True\n"
     ]
    }
   ],
   "source": [
    "# == Equal \n",
    "x = 10\n",
    "y = 5\n",
    "a = 5\n",
    "b = 5\n",
    "print(x == y) # print False\n",
    "print(a == b) # print True\n"
   ]
  },
  {
   "cell_type": "code",
   "execution_count": 16,
   "metadata": {},
   "outputs": [
    {
     "data": {
      "text/plain": [
       "True"
      ]
     },
     "execution_count": 16,
     "metadata": {},
     "output_type": "execute_result"
    }
   ],
   "source": [
    "# != Not equal \n",
    "x != y"
   ]
  },
  {
   "cell_type": "code",
   "execution_count": 17,
   "metadata": {},
   "outputs": [
    {
     "data": {
      "text/plain": [
       "True"
      ]
     },
     "execution_count": 17,
     "metadata": {},
     "output_type": "execute_result"
    }
   ],
   "source": [
    "# > Greater than \n",
    "x > y \n"
   ]
  },
  {
   "cell_type": "code",
   "execution_count": 19,
   "metadata": {},
   "outputs": [
    {
     "data": {
      "text/plain": [
       "False"
      ]
     },
     "execution_count": 19,
     "metadata": {},
     "output_type": "execute_result"
    }
   ],
   "source": [
    "# < Less than\n",
    "x < y\n"
   ]
  },
  {
   "cell_type": "code",
   "execution_count": 20,
   "metadata": {},
   "outputs": [
    {
     "data": {
      "text/plain": [
       "True"
      ]
     },
     "execution_count": 20,
     "metadata": {},
     "output_type": "execute_result"
    }
   ],
   "source": [
    "# >= Greater than or equal to \n",
    "x >= y"
   ]
  },
  {
   "cell_type": "code",
   "execution_count": 21,
   "metadata": {},
   "outputs": [
    {
     "data": {
      "text/plain": [
       "False"
      ]
     },
     "execution_count": 21,
     "metadata": {},
     "output_type": "execute_result"
    }
   ],
   "source": [
    "\n",
    "# <= Less than or equal to\n",
    "x <= y"
   ]
  },
  {
   "cell_type": "markdown",
   "metadata": {},
   "source": [
    "# Identity Operators\n",
    "Identity operators are used to compare the objects, not if they are equal, but if they are actually the same object, with the same memory location:"
   ]
  },
  {
   "cell_type": "code",
   "execution_count": 2,
   "metadata": {},
   "outputs": [
    {
     "data": {
      "text/plain": [
       "True"
      ]
     },
     "execution_count": 2,
     "metadata": {},
     "output_type": "execute_result"
    }
   ],
   "source": [
    "# is Returns True if both variables are the same object\n",
    "x = 4\n",
    "y = 4\n",
    "x is y\n"
   ]
  },
  {
   "cell_type": "code",
   "execution_count": 3,
   "metadata": {},
   "outputs": [],
   "source": [
    "# is not\n",
    "# Returns True if both variables are not the same object\n",
    "if x is not y:\n",
    "    print(\"hello\")"
   ]
  },
  {
   "cell_type": "markdown",
   "metadata": {},
   "source": [
    "# Membership Operators\n",
    "Membership operators are used to test if a sequence is presented in an object:"
   ]
  },
  {
   "cell_type": "code",
   "execution_count": 30,
   "metadata": {},
   "outputs": [
    {
     "data": {
      "text/plain": [
       "True"
      ]
     },
     "execution_count": 30,
     "metadata": {},
     "output_type": "execute_result"
    }
   ],
   "source": [
    "# in  Returns True if a sequence with the specified value is present in the object\n",
    "List_variable = ['List', 'tuple','set', 'dictionary']\n",
    "string = 'List' # a string to find in list_variable\n",
    "string in List_variable # it prints True because it finds the \"List\" in list_variable \n"
   ]
  },
  {
   "cell_type": "code",
   "execution_count": 31,
   "metadata": {},
   "outputs": [
    {
     "data": {
      "text/plain": [
       "False"
      ]
     },
     "execution_count": 31,
     "metadata": {},
     "output_type": "execute_result"
    }
   ],
   "source": [
    "# not in Returns True if a sequence with the specified value is not present in the object\n",
    "string not in List_variable"
   ]
  },
  {
   "cell_type": "code",
   "execution_count": null,
   "metadata": {},
   "outputs": [],
   "source": []
  }
 ],
 "metadata": {
  "kernelspec": {
   "display_name": "Python 3 (ipykernel)",
   "language": "python",
   "name": "python3"
  },
  "language_info": {
   "codemirror_mode": {
    "name": "ipython",
    "version": 3
   },
   "file_extension": ".py",
   "mimetype": "text/x-python",
   "name": "python",
   "nbconvert_exporter": "python",
   "pygments_lexer": "ipython3",
   "version": "3.8.10"
  }
 },
 "nbformat": 4,
 "nbformat_minor": 4
}

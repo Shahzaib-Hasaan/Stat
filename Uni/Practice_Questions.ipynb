{
  "cells": [
    {
      "cell_type": "markdown",
      "id": "d0beb0dc",
      "metadata": {
        "id": "d0beb0dc"
      },
      "source": [
        "## Python Program to Add Two Numbers\n"
      ]
    },
    {
      "cell_type": "code",
      "execution_count": 1,
      "id": "8e4d6a34",
      "metadata": {
        "colab": {
          "base_uri": "https://localhost:8080/"
        },
        "id": "8e4d6a34",
        "outputId": "101ed542-81a9-4a02-cc59-41d99826af2b"
      },
      "outputs": [
        {
          "output_type": "stream",
          "name": "stdout",
          "text": [
            "5.9\n"
          ]
        }
      ],
      "source": [
        "num1 = 1.4\n",
        "num2 = 4.5\n",
        "sum = num1 + num2\n",
        "\n",
        "print(sum)"
      ]
    },
    {
      "cell_type": "markdown",
      "id": "57444103",
      "metadata": {
        "id": "57444103"
      },
      "source": [
        "#### By Taking User Input"
      ]
    },
    {
      "cell_type": "code",
      "execution_count": 2,
      "id": "8b2b4807",
      "metadata": {
        "colab": {
          "base_uri": "https://localhost:8080/"
        },
        "id": "8b2b4807",
        "outputId": "8f179f41-be5d-4c58-9d34-efd635ad666d"
      },
      "outputs": [
        {
          "output_type": "stream",
          "name": "stdout",
          "text": [
            "Enter number 1 :12\n",
            "Enter number 2 :1\n",
            "13.0\n"
          ]
        }
      ],
      "source": [
        "num1 = float(input(\"Enter number 1 :\"))\n",
        "num2 = float(input(\"Enter number 2 :\"))\n",
        "sum = num1 + num2\n",
        "print(sum)"
      ]
    },
    {
      "cell_type": "markdown",
      "id": "b9405b93",
      "metadata": {
        "id": "b9405b93"
      },
      "source": [
        "## Python Program to Find the Square Root\n"
      ]
    },
    {
      "cell_type": "code",
      "execution_count": 3,
      "id": "39c42633",
      "metadata": {
        "colab": {
          "base_uri": "https://localhost:8080/"
        },
        "id": "39c42633",
        "outputId": "360739ca-912b-40ea-d33a-ca235d0b3da4"
      },
      "outputs": [
        {
          "output_type": "stream",
          "name": "stdout",
          "text": [
            "Enter a number to find sqrt :12\n",
            "3.4641016151377544\n"
          ]
        }
      ],
      "source": [
        "num = int(input(\"Enter a number to find sqrt :\"))\n",
        "sqrt = num ** 0.5\n",
        "print(sqrt)\n",
        "\n"
      ]
    },
    {
      "cell_type": "markdown",
      "id": "5c39d769",
      "metadata": {
        "id": "5c39d769"
      },
      "source": [
        "## Python Program to Calculate the Area of a Triangle"
      ]
    },
    {
      "cell_type": "code",
      "execution_count": 4,
      "id": "f99eeae5",
      "metadata": {
        "colab": {
          "base_uri": "https://localhost:8080/"
        },
        "id": "f99eeae5",
        "outputId": "7e8ee156-9c09-416a-cb7f-a767f15f8c69"
      },
      "outputs": [
        {
          "output_type": "stream",
          "name": "stdout",
          "text": [
            "Enter base :12\n",
            "Enter height :1\n",
            "6.0\n"
          ]
        }
      ],
      "source": [
        "#In case base abd height are given\n",
        "base = float(input(\"Enter base :\"))\n",
        "height = float(input(\"Enter height :\"))\n",
        "area = 0.5 * base * height\n",
        "print(area)"
      ]
    },
    {
      "cell_type": "code",
      "execution_count": 5,
      "id": "a8ecbe66",
      "metadata": {
        "colab": {
          "base_uri": "https://localhost:8080/"
        },
        "id": "a8ecbe66",
        "outputId": "521ce302-ae02-4e14-fa97-c043998446d9"
      },
      "outputs": [
        {
          "output_type": "stream",
          "name": "stdout",
          "text": [
            "Enter side 1 :1\n",
            "Enter side 2 :9\n",
            "Enter side 3 :9\n",
            "4.493050188902857\n"
          ]
        }
      ],
      "source": [
        "# In case sides are given\n",
        "side1 = float(input(\"Enter side 1 :\"))\n",
        "side2 = float(input(\"Enter side 2 :\"))\n",
        "side3 = float(input(\"Enter side 3 :\"))\n",
        "s = (side1 + side2 + side3) / 2\n",
        "area = (s*(s-side1)*(s-side2)*(s-side3)) ** 0.5\n",
        "print(area)"
      ]
    },
    {
      "cell_type": "markdown",
      "id": "38c60349",
      "metadata": {
        "id": "38c60349"
      },
      "source": [
        "## Python Program to Solve Quadratic Equation"
      ]
    },
    {
      "cell_type": "code",
      "execution_count": 6,
      "id": "977cc35c",
      "metadata": {
        "colab": {
          "base_uri": "https://localhost:8080/"
        },
        "id": "977cc35c",
        "outputId": "e9a21812-b3a0-40fd-fa6d-89865af10127"
      },
      "outputs": [
        {
          "output_type": "stream",
          "name": "stdout",
          "text": [
            "Enter a :9\n",
            "Enter b :9\n",
            "Enter c :9\n",
            "The solutions are : (-0.5-0.8660254037844387j) (-0.5+0.8660254037844387j)\n"
          ]
        }
      ],
      "source": [
        "import cmath\n",
        "\n",
        "a = float(input(\"Enter a :\"))\n",
        "b = float(input(\"Enter b :\"))\n",
        "c = float(input(\"Enter c :\"))\n",
        "\n",
        "# calculate the discriminant\n",
        "d = (b**2) - (4*a*c)\n",
        "\n",
        "# find two solutions\n",
        "sol1 = (-b-cmath.sqrt(d))/(2*a)\n",
        "sol2 = (-b+cmath.sqrt(d))/(2*a)\n",
        "\n",
        "print(\"The solutions are :\",sol1,sol2)"
      ]
    },
    {
      "cell_type": "markdown",
      "id": "8ab39dc7",
      "metadata": {
        "id": "8ab39dc7"
      },
      "source": [
        "## Python Program to Swap Two Variables"
      ]
    },
    {
      "cell_type": "code",
      "execution_count": 8,
      "id": "83609248",
      "metadata": {
        "colab": {
          "base_uri": "https://localhost:8080/"
        },
        "id": "83609248",
        "outputId": "2f202000-1ed4-44f0-9fb0-55adfe3aeb5d"
      },
      "outputs": [
        {
          "output_type": "stream",
          "name": "stdout",
          "text": [
            "Enter number 1 :78\n",
            "Enter number 2 :8\n",
            "Number 1 : 8\n",
            "Number 2 : 78\n"
          ]
        }
      ],
      "source": [
        "#Using Third Variable\n",
        "num1 = int(input(\"Enter number 1 :\"))\n",
        "num2 = int(input(\"Enter number 2 :\"))\n",
        "temp = num1\n",
        "num1 = num2\n",
        "num2 = temp\n",
        "print(\"Number 1 :\",num1)\n",
        "print(\"Number 2 :\",num2)\n"
      ]
    },
    {
      "cell_type": "code",
      "execution_count": 9,
      "id": "402c1fda",
      "metadata": {
        "colab": {
          "base_uri": "https://localhost:8080/"
        },
        "id": "402c1fda",
        "outputId": "75c0671c-0157-4283-a5da-8efdd370e961"
      },
      "outputs": [
        {
          "output_type": "stream",
          "name": "stdout",
          "text": [
            "Enter number 1 :8\n",
            "Enter number 2 :8\n",
            "Number 1 : 8\n",
            "Number 2 : 8\n"
          ]
        }
      ],
      "source": [
        "#Without using Third Variable \n",
        "num1 = int(input(\"Enter number 1 :\"))\n",
        "num2 = int(input(\"Enter number 2 :\"))\n",
        "num1 = num1 + num2\n",
        "num2 = num1 - num2\n",
        "num1 = num1 - num2\n",
        "print(\"Number 1 :\",num1)\n",
        "print(\"Number 2 :\",num2)\n"
      ]
    },
    {
      "cell_type": "code",
      "execution_count": 10,
      "id": "68bacccf",
      "metadata": {
        "colab": {
          "base_uri": "https://localhost:8080/"
        },
        "id": "68bacccf",
        "outputId": "0b368974-0562-4196-c21d-5122117591b2"
      },
      "outputs": [
        {
          "output_type": "stream",
          "name": "stdout",
          "text": [
            "Enter number 1 :8\n",
            "Enter number 2 :8\n",
            "Number 1 : 8.0\n",
            "Number 2 : 8.0\n"
          ]
        }
      ],
      "source": [
        "# By using multiplication and division\n",
        "num1 = int(input(\"Enter number 1 :\"))\n",
        "num2 = int(input(\"Enter number 2 :\"))\n",
        "num1 = num1 * num2\n",
        "num2 = num1 / num2\n",
        "num1 = num1 / num2\n",
        "print(\"Number 1 :\",num1)\n",
        "print(\"Number 2 :\",num2)\n"
      ]
    },
    {
      "cell_type": "code",
      "execution_count": 11,
      "id": "b8236356",
      "metadata": {
        "colab": {
          "base_uri": "https://localhost:8080/"
        },
        "id": "b8236356",
        "outputId": "d6df17b1-9d31-4722-ea9c-726f83458184"
      },
      "outputs": [
        {
          "output_type": "stream",
          "name": "stdout",
          "text": [
            "Enter number 1 :8\n",
            "Enter number 2 :8\n",
            "Number 1 : 8\n",
            "Number 2 : 8\n"
          ]
        }
      ],
      "source": [
        "# By using XOR operator it is the fastest method to swap two numbers in python but it works only for integers\n",
        "num1 = int(input(\"Enter number 1 :\"))\n",
        "num2 = int(input(\"Enter number 2 :\"))\n",
        "num1 = num1 ^ num2\n",
        "num2 = num1 ^ num2\n",
        "num1 = num1 ^ num2\n",
        "print(\"Number 1 :\",num1)\n",
        "print(\"Number 2 :\",num2)\n"
      ]
    },
    {
      "cell_type": "code",
      "execution_count": 12,
      "id": "64430957",
      "metadata": {
        "colab": {
          "base_uri": "https://localhost:8080/"
        },
        "id": "64430957",
        "outputId": "7355061d-e846-4ae8-f63d-626534251740"
      },
      "outputs": [
        {
          "output_type": "stream",
          "name": "stdout",
          "text": [
            "Enter number 1 :8\n",
            "Enter number 2 :8\n",
            "Number 1 : 8\n",
            "Number 2 : 8\n"
          ]
        }
      ],
      "source": [
        "# By using pythonic way\n",
        "num1 = int(input(\"Enter number 1 :\"))\n",
        "num2 = int(input(\"Enter number 2 :\"))\n",
        "num1,num2 = num2,num1\n",
        "print(\"Number 1 :\",num1)\n",
        "print(\"Number 2 :\",num2)\n"
      ]
    },
    {
      "cell_type": "code",
      "execution_count": 13,
      "id": "1f4405e7",
      "metadata": {
        "colab": {
          "base_uri": "https://localhost:8080/"
        },
        "id": "1f4405e7",
        "outputId": "98fcb4da-152a-4f42-89a4-81b97d22917a"
      },
      "outputs": [
        {
          "output_type": "stream",
          "name": "stdout",
          "text": [
            "Enter number 1 :8\n",
            "Enter number 2 :8\n",
            "Number 1 : 8\n",
            "Number 2 : 8\n"
          ]
        }
      ],
      "source": [
        "# By function\n",
        "def swap(num1,num2):\n",
        "    return num2,num1\n",
        "\n",
        "num1 = int(input(\"Enter number 1 :\"))\n",
        "num2 = int(input(\"Enter number 2 :\"))\n",
        "num1,num2 = swap(num1,num2)\n",
        "print(\"Number 1 :\",num1)\n",
        "print(\"Number 2 :\",num2)\n",
        "\n",
        "\n",
        "\n"
      ]
    },
    {
      "cell_type": "markdown",
      "id": "729c6d29",
      "metadata": {
        "id": "729c6d29"
      },
      "source": [
        "## Python Program to Generate a Random Number"
      ]
    },
    {
      "cell_type": "code",
      "execution_count": 14,
      "id": "038c843d",
      "metadata": {
        "colab": {
          "base_uri": "https://localhost:8080/"
        },
        "id": "038c843d",
        "outputId": "ac689f72-6df0-4e1e-cd74-71ea0e87c8e5"
      },
      "outputs": [
        {
          "output_type": "stream",
          "name": "stdout",
          "text": [
            "0\n",
            "9\n",
            "0.09872453592766728\n",
            "3.8462749787760897\n",
            "3\n",
            "h\n",
            "[4, 5]\n",
            "['y', 'n', 't']\n",
            "[1, 4, 3, 2, 5]\n"
          ]
        }
      ],
      "source": [
        "import random\n",
        "\n",
        "print(random.randint(0,9))\n",
        "print(random.randrange(1,10,2))#It takes only integer values as arguments and it excludes the last value in the range \n",
        "print(random.random())#It generates a random floating point number between 0 and 1\n",
        "print(random.uniform(1,10))#It generates a random floating point number between the given range\n",
        "print(random.choice([1,2,3,4,5]))#It takes a sequence as an argument and returns a random element from the sequence\n",
        "print(random.choice('Python'))#It takes a string as an argument and returns a random character from the string\n",
        "print(random.sample([1,2,3,4,5],2))#It takes a sequence and a number as an argument and returns a list of specified length with random elements from the sequence\n",
        "print(random.sample('Python',3))#It takes a string and a number as an argument and returns a list of specified length with random characters from the string\n",
        "\n",
        "#Shuffle function\n",
        "list = [1,2,3,4,5]\n",
        "random.shuffle(list)#It takes a sequence as an argument and returns a sequence with elements in a random order\n",
        "print(list)\n"
      ]
    },
    {
      "cell_type": "markdown",
      "id": "595b589d",
      "metadata": {
        "id": "595b589d"
      },
      "source": [
        "## Python Program to Convert Kilometers to Miles"
      ]
    },
    {
      "cell_type": "code",
      "execution_count": 15,
      "id": "ffdb830c",
      "metadata": {
        "colab": {
          "base_uri": "https://localhost:8080/"
        },
        "id": "ffdb830c",
        "outputId": "b46c3bcc-3764-4803-96b0-e5dcd70c7b27"
      },
      "outputs": [
        {
          "output_type": "stream",
          "name": "stdout",
          "text": [
            "Enter distance in kilometers :8\n",
            "Distance in miles : 4.970968\n"
          ]
        }
      ],
      "source": [
        "# 1 kilometer = 0.621371 miles\n",
        "# 1 mile = 1.60934 kilometers\n",
        "\n",
        "km = float(input(\"Enter distance in kilometers :\"))\n",
        "miles = km * 0.621371\n",
        "print(\"Distance in miles :\",miles)\n"
      ]
    },
    {
      "cell_type": "markdown",
      "id": "ea782526",
      "metadata": {
        "id": "ea782526"
      },
      "source": [
        "## Python Program to Convert Celsius To Fahrenheit"
      ]
    },
    {
      "cell_type": "code",
      "execution_count": 16,
      "id": "3065ffee",
      "metadata": {
        "colab": {
          "base_uri": "https://localhost:8080/"
        },
        "id": "3065ffee",
        "outputId": "93cfcea9-0e8c-4fab-dd2b-df813feb8e57"
      },
      "outputs": [
        {
          "output_type": "stream",
          "name": "stdout",
          "text": [
            "Enter temperature in Celsius: 8\n",
            "The temperature in Fahrenheit is : 46.4\n"
          ]
        }
      ],
      "source": [
        "# fahrenheit = celsius * 1.8 + 32\n",
        "celsius = float(input('Enter temperature in Celsius: '))\n",
        "fahrenheit = (celsius * 1.8) + 32\n",
        "print(\"The temperature in Fahrenheit is :\",fahrenheit)\n"
      ]
    },
    {
      "cell_type": "markdown",
      "id": "d189d6cf",
      "metadata": {
        "id": "d189d6cf"
      },
      "source": [
        "## Python Program to Check if a Number is Positive, Negative or 0"
      ]
    },
    {
      "cell_type": "code",
      "execution_count": 17,
      "id": "6c2ea94c",
      "metadata": {
        "colab": {
          "base_uri": "https://localhost:8080/"
        },
        "id": "6c2ea94c",
        "outputId": "2918427c-b8db-4b49-d210-a09bf8de0c3d"
      },
      "outputs": [
        {
          "output_type": "stream",
          "name": "stdout",
          "text": [
            "Enter a number: 8\n",
            "Positive number\n"
          ]
        }
      ],
      "source": [
        "num = float(input(\"Enter a number: \"))\n",
        "if num > 0:\n",
        "   print(\"Positive number\")\n",
        "elif num == 0:\n",
        "   print(\"Zero\")\n",
        "else:\n",
        "   print(\"Negative number\")"
      ]
    },
    {
      "cell_type": "markdown",
      "id": "378306bb",
      "metadata": {
        "id": "378306bb"
      },
      "source": [
        "## Python Program to Check if a Number is Odd or Even"
      ]
    },
    {
      "cell_type": "code",
      "execution_count": 18,
      "id": "27e9bc47",
      "metadata": {
        "colab": {
          "base_uri": "https://localhost:8080/"
        },
        "id": "27e9bc47",
        "outputId": "93c536e3-f3a3-43f1-a3f5-9fc88eea10fb"
      },
      "outputs": [
        {
          "output_type": "stream",
          "name": "stdout",
          "text": [
            "Enter a number: 8\n",
            "8 is Even\n"
          ]
        }
      ],
      "source": [
        "num = int(input(\"Enter a number: \"))\n",
        "if (num % 2) == 0:\n",
        "   print(num,\"is Even\")\n",
        "else:\n",
        "   print(num,\"is Odd\")"
      ]
    },
    {
      "cell_type": "markdown",
      "id": "620cd245",
      "metadata": {
        "id": "620cd245"
      },
      "source": [
        "## Python Program to Check Leap Year"
      ]
    },
    {
      "cell_type": "code",
      "execution_count": 19,
      "id": "c318af19",
      "metadata": {
        "colab": {
          "base_uri": "https://localhost:8080/"
        },
        "id": "c318af19",
        "outputId": "112d4956-4767-431c-aaf9-9de25db76e76"
      },
      "outputs": [
        {
          "output_type": "stream",
          "name": "stdout",
          "text": [
            "Enter a year: 8\n",
            "8 is a leap year\n"
          ]
        }
      ],
      "source": [
        "year = int(input(\"Enter a year: \"))\n",
        "if (year % 400 == 0) and (year % 100 == 0):\n",
        "    print(year,\"is a leap year\")\n",
        "elif (year % 4 == 0) and (year % 100 != 0):\n",
        "    print(year,\"is a leap year\")\n",
        "else:\n",
        "    print(year,\"is not a leap year\")\n",
        "\n"
      ]
    },
    {
      "cell_type": "markdown",
      "id": "967f1b8f",
      "metadata": {
        "id": "967f1b8f"
      },
      "source": [
        "## Python Program to Find the Largest Among Three Numbers"
      ]
    },
    {
      "cell_type": "code",
      "execution_count": 20,
      "id": "55bfa72b",
      "metadata": {
        "colab": {
          "base_uri": "https://localhost:8080/"
        },
        "id": "55bfa72b",
        "outputId": "dbed0189-580e-4f57-f130-b734f1ba23f0"
      },
      "outputs": [
        {
          "output_type": "stream",
          "name": "stdout",
          "text": [
            "Enter first number: 8\n",
            "Enter second number: 8\n",
            "Enter third number: 8\n",
            "The largest number is 8\n"
          ]
        }
      ],
      "source": [
        "num1 = int(input(\"Enter first number: \"))\n",
        "num2 = int(input(\"Enter second number: \"))\n",
        "num3 = int(input(\"Enter third number: \"))\n",
        "if (num1 >= num2) and (num1 >= num3):\n",
        "    largest = num1  \n",
        "elif (num2 >= num1) and (num2 >= num3):\n",
        "    largest = num2\n",
        "else:\n",
        "    largest = num3\n",
        "print(\"The largest number is\",largest)\n"
      ]
    },
    {
      "cell_type": "markdown",
      "id": "46e6a798",
      "metadata": {
        "id": "46e6a798"
      },
      "source": [
        "## Python Program to Check Prime Number"
      ]
    },
    {
      "cell_type": "code",
      "execution_count": 21,
      "id": "b4d04950",
      "metadata": {
        "colab": {
          "base_uri": "https://localhost:8080/"
        },
        "id": "b4d04950",
        "outputId": "df70a7f4-4904-4d46-e0ba-8f8cd881e21a"
      },
      "outputs": [
        {
          "output_type": "stream",
          "name": "stdout",
          "text": [
            "Enter a number: 8\n",
            "8 is not a prime number\n"
          ]
        }
      ],
      "source": [
        "num = int(input(\"Enter a number: \"))\n",
        "if num == 1:\n",
        "    print(num,\"is neither prime nor composite\")\n",
        "if num > 1:\n",
        "    for i in range(2,num):\n",
        "         if (num % i) == 0:\n",
        "              print(num,\"is not a prime number\")\n",
        "              break\n",
        "    else:\n",
        "         print(num,\"is a prime number\")"
      ]
    },
    {
      "cell_type": "markdown",
      "id": "7372bd90",
      "metadata": {
        "id": "7372bd90"
      },
      "source": [
        "## Python Program to Print all Prime Numbers in an Interval"
      ]
    },
    {
      "cell_type": "code",
      "execution_count": 22,
      "id": "5893f78a",
      "metadata": {
        "colab": {
          "base_uri": "https://localhost:8080/"
        },
        "id": "5893f78a",
        "outputId": "746fc28c-2380-4924-ce59-bd80de1019f1"
      },
      "outputs": [
        {
          "name": "stdout",
          "output_type": "stream",
          "text": [
            "Enter start of range: 8\n",
            "Enter end of range: 8\n"
          ]
        }
      ],
      "source": [
        "start = int(input(\"Enter start of range: \"))\n",
        "end = int(input(\"Enter end of range: \"))\n",
        "for num in range(start,end + 1):\n",
        "    if num > 1:\n",
        "        for i in range(2,num):\n",
        "            if (num % i) == 0:\n",
        "                break\n",
        "        else:\n",
        "            print(num)"
      ]
    },
    {
      "cell_type": "markdown",
      "id": "860faf82",
      "metadata": {
        "id": "860faf82"
      },
      "source": [
        "## Python Program to Find the Factorial of a Number"
      ]
    },
    {
      "cell_type": "code",
      "execution_count": 23,
      "id": "48da0578",
      "metadata": {
        "colab": {
          "base_uri": "https://localhost:8080/"
        },
        "id": "48da0578",
        "outputId": "8f5169a0-8925-4d0d-b7a8-562eff99553f"
      },
      "outputs": [
        {
          "output_type": "stream",
          "name": "stdout",
          "text": [
            "Enter a number: 8\n",
            "The factorial of 8 is 40320\n"
          ]
        }
      ],
      "source": [
        "num = int(input(\"Enter a number: \"))\n",
        "\n",
        "factorial = 1\n",
        "for i in range(1,num + 1):\n",
        "    factorial = factorial*i\n",
        "print(\"The factorial of\",num,\"is\",factorial)"
      ]
    },
    {
      "cell_type": "markdown",
      "id": "b4655719",
      "metadata": {
        "id": "b4655719"
      },
      "source": [
        "## Python Program to Display the multiplication Table"
      ]
    },
    {
      "cell_type": "code",
      "execution_count": 24,
      "id": "850797ee",
      "metadata": {
        "colab": {
          "base_uri": "https://localhost:8080/"
        },
        "id": "850797ee",
        "outputId": "ccb79110-37ae-42bc-e47e-ae3000e55939"
      },
      "outputs": [
        {
          "output_type": "stream",
          "name": "stdout",
          "text": [
            "Enter a number: 8\n",
            "8 x 1 = 8\n",
            "8 x 2 = 16\n",
            "8 x 3 = 24\n",
            "8 x 4 = 32\n",
            "8 x 5 = 40\n",
            "8 x 6 = 48\n",
            "8 x 7 = 56\n",
            "8 x 8 = 64\n",
            "8 x 9 = 72\n",
            "8 x 10 = 80\n"
          ]
        }
      ],
      "source": [
        "num = int(input(\"Enter a number: \"))\n",
        "\n",
        "for i in range(1,11):\n",
        "   print(num,\"x\",i,\"=\",num*i)"
      ]
    },
    {
      "cell_type": "markdown",
      "id": "7afa9bd0",
      "metadata": {
        "id": "7afa9bd0"
      },
      "source": [
        "## Python Program to Print the Fibonacci sequence"
      ]
    },
    {
      "cell_type": "code",
      "execution_count": 25,
      "id": "8aa65adf",
      "metadata": {
        "colab": {
          "base_uri": "https://localhost:8080/"
        },
        "id": "8aa65adf",
        "outputId": "7ce723fc-64ae-4e08-9e66-b8d9afd9f229"
      },
      "outputs": [
        {
          "output_type": "stream",
          "name": "stdout",
          "text": [
            "How many terms? 8\n",
            "Fibonacci sequence:\n",
            "0\n",
            "1\n",
            "1\n",
            "2\n",
            "3\n",
            "5\n",
            "8\n",
            "13\n"
          ]
        }
      ],
      "source": [
        "num = int(input(\"How many terms? \"))\n",
        "n1, n2 = 0, 1\n",
        "count = 0\n",
        "\n",
        "# check if the number of terms is valid\n",
        "if num <= 0:\n",
        "    print(\"Please enter a positive integer\")\n",
        "# if there is only one term, return n1\n",
        "elif num == 1:\n",
        "    print(\"Fibonacci sequence upto\",num,\":\")\n",
        "    print(n1)\n",
        "# generate fibonacci sequence\n",
        "else:\n",
        "    print(\"Fibonacci sequence:\")\n",
        "    while count < num:\n",
        "        print(n1)\n",
        "        nth = n1 + n2\n",
        "        # update values\n",
        "        n1 = n2\n",
        "        n2 = nth\n",
        "        count += 1\n",
        "    \n",
        "\n"
      ]
    },
    {
      "cell_type": "markdown",
      "id": "b2858f8b",
      "metadata": {
        "id": "b2858f8b"
      },
      "source": [
        "## Python Program to Check Armstrong Number"
      ]
    },
    {
      "cell_type": "code",
      "execution_count": 26,
      "id": "b8f8370a",
      "metadata": {
        "colab": {
          "base_uri": "https://localhost:8080/"
        },
        "id": "b8f8370a",
        "outputId": "a2185f85-0643-470e-cc01-af5df5e7f66a"
      },
      "outputs": [
        {
          "output_type": "stream",
          "name": "stdout",
          "text": [
            "Enter a number: 8\n",
            "8 is an Armstrong number\n"
          ]
        }
      ],
      "source": [
        "num = int(input(\"Enter a number: \"))\n",
        "\n",
        "## counting the number of digits\n",
        "# count = 0\n",
        "# temp = num\n",
        "# while temp > 0:\n",
        "#     temp = temp // 10\n",
        "#     count = count + 1\n",
        "# print(\"The number of digits in the number are:\",count)\n",
        "\n",
        "# or\n",
        "count = len(str(num))\n",
        "## checking for armstrong number\n",
        "\n",
        "sum = 0\n",
        "temp = num\n",
        "while temp > 0:\n",
        "    digit = temp % 10\n",
        "    sum += digit ** count\n",
        "    temp //= 10\n",
        "\n",
        "if num == sum:\n",
        "    print(num,\"is an Armstrong number\")\n",
        "else:\n",
        "    print(num,\"is not an Armstrong number\")\n"
      ]
    },
    {
      "cell_type": "markdown",
      "id": "9cfa3dcb",
      "metadata": {
        "id": "9cfa3dcb"
      },
      "source": [
        "## Python Program to Find Armstrong Number in an Interval"
      ]
    },
    {
      "cell_type": "code",
      "execution_count": 27,
      "id": "c4f84b8b",
      "metadata": {
        "colab": {
          "base_uri": "https://localhost:8080/"
        },
        "id": "c4f84b8b",
        "outputId": "56c006db-b98d-4de3-953d-92e4bbbbcb65"
      },
      "outputs": [
        {
          "output_type": "stream",
          "name": "stdout",
          "text": [
            "Enter start of range: 8\n",
            "Enter end of range: 8\n",
            "8\n"
          ]
        }
      ],
      "source": [
        "start = int(input(\"Enter start of range: \"))\n",
        "end = int(input(\"Enter end of range: \"))\n",
        "for num in range(start,end + 1):\n",
        "    count = len(str(num))\n",
        "    sum = 0\n",
        "    temp = num\n",
        "    while temp > 0:\n",
        "        digit = temp % 10\n",
        "        sum += digit ** count\n",
        "        temp //= 10\n",
        "    if num == sum:\n",
        "        print(num)\n",
        "    else:\n",
        "        continue\n"
      ]
    },
    {
      "cell_type": "markdown",
      "id": "19e4b6ea",
      "metadata": {
        "id": "19e4b6ea"
      },
      "source": [
        "## Python Program to Find the Sum of Natural Numbers "
      ]
    },
    {
      "cell_type": "code",
      "execution_count": 28,
      "id": "0de0646f",
      "metadata": {
        "colab": {
          "base_uri": "https://localhost:8080/"
        },
        "id": "0de0646f",
        "outputId": "1d577b88-6c08-473a-a9ad-b537e3cc0130"
      },
      "outputs": [
        {
          "output_type": "stream",
          "name": "stdout",
          "text": [
            "Enter a number: 8\n",
            "The sum of first 8 natural numbers is 36\n"
          ]
        }
      ],
      "source": [
        "num = int(input(\"Enter a number: \"))\n",
        "\n",
        "sum = num*(num + 1)//2\n",
        "print(\"The sum of first\",num,\"natural numbers is\",sum)\n"
      ]
    },
    {
      "cell_type": "code",
      "execution_count": 29,
      "id": "80f08f00",
      "metadata": {
        "colab": {
          "base_uri": "https://localhost:8080/"
        },
        "id": "80f08f00",
        "outputId": "d4694a9f-8f1e-40bc-acf8-04e3166f18ae"
      },
      "outputs": [
        {
          "output_type": "stream",
          "name": "stdout",
          "text": [
            "Enter a number: 8\n",
            "The sum of first 8 natural numbers is 36\n"
          ]
        }
      ],
      "source": [
        "#Other way\n",
        "num = int(input(\"Enter a number: \"))\n",
        "sum = 0\n",
        "for i in range(1,num + 1):\n",
        "    sum += i\n",
        "print(\"The sum of first\",num,\"natural numbers is\",sum)"
      ]
    },
    {
      "cell_type": "markdown",
      "id": "beb525f8",
      "metadata": {
        "id": "beb525f8"
      },
      "source": [
        "## Python Program to display the powers of 2 using anonymous function"
      ]
    },
    {
      "cell_type": "code",
      "execution_count": 31,
      "id": "56217d13",
      "metadata": {
        "colab": {
          "base_uri": "https://localhost:8080/",
          "height": 252
        },
        "id": "56217d13",
        "outputId": "482eaa52-46c6-4607-81b7-c85567d1fbbd"
      },
      "outputs": [
        {
          "name": "stdout",
          "output_type": "stream",
          "text": [
            "How many terms? 9\n"
          ]
        },
        {
          "output_type": "error",
          "ename": "TypeError",
          "evalue": "ignored",
          "traceback": [
            "\u001b[0;31m---------------------------------------------------------------------------\u001b[0m",
            "\u001b[0;31mTypeError\u001b[0m                                 Traceback (most recent call last)",
            "\u001b[0;32m<ipython-input-31-2ed65f3fb2c3>\u001b[0m in \u001b[0;36m<module>\u001b[0;34m\u001b[0m\n\u001b[1;32m      1\u001b[0m \u001b[0mterms\u001b[0m \u001b[0;34m=\u001b[0m \u001b[0mint\u001b[0m\u001b[0;34m(\u001b[0m\u001b[0minput\u001b[0m\u001b[0;34m(\u001b[0m\u001b[0;34m\"How many terms? \"\u001b[0m\u001b[0;34m)\u001b[0m\u001b[0;34m)\u001b[0m\u001b[0;34m\u001b[0m\u001b[0;34m\u001b[0m\u001b[0m\n\u001b[1;32m      2\u001b[0m \u001b[0;34m\u001b[0m\u001b[0m\n\u001b[0;32m----> 3\u001b[0;31m \u001b[0mresult\u001b[0m \u001b[0;34m=\u001b[0m \u001b[0mlist\u001b[0m\u001b[0;34m(\u001b[0m\u001b[0mmap\u001b[0m\u001b[0;34m(\u001b[0m\u001b[0;32mlambda\u001b[0m \u001b[0mx\u001b[0m\u001b[0;34m:\u001b[0m \u001b[0;36m2\u001b[0m \u001b[0;34m**\u001b[0m \u001b[0mx\u001b[0m\u001b[0;34m,\u001b[0m \u001b[0mrange\u001b[0m\u001b[0;34m(\u001b[0m\u001b[0mterms\u001b[0m\u001b[0;34m)\u001b[0m\u001b[0;34m)\u001b[0m\u001b[0;34m)\u001b[0m\u001b[0;34m\u001b[0m\u001b[0;34m\u001b[0m\u001b[0m\n\u001b[0m\u001b[1;32m      4\u001b[0m \u001b[0;34m\u001b[0m\u001b[0m\n\u001b[1;32m      5\u001b[0m \u001b[0mprint\u001b[0m\u001b[0;34m(\u001b[0m\u001b[0;34m\"The total terms are:\"\u001b[0m\u001b[0;34m,\u001b[0m\u001b[0mterms\u001b[0m\u001b[0;34m)\u001b[0m\u001b[0;34m\u001b[0m\u001b[0;34m\u001b[0m\u001b[0m\n",
            "\u001b[0;31mTypeError\u001b[0m: 'list' object is not callable"
          ]
        }
      ],
      "source": [
        "terms = int(input(\"How many terms? \"))\n",
        "\n",
        "result = list(map(lambda x: 2 ** x, range(terms)))\n",
        "\n",
        "print(\"The total terms are:\",terms) \n",
        "for i in range(terms):\n",
        "    print(\"2 raised to power\",i,\"is\",result[i])\n"
      ]
    }
  ],
  "metadata": {
    "kernelspec": {
      "display_name": "Python 3 (ipykernel)",
      "language": "python",
      "name": "python3"
    },
    "language_info": {
      "codemirror_mode": {
        "name": "ipython",
        "version": 3
      },
      "file_extension": ".py",
      "mimetype": "text/x-python",
      "name": "python",
      "nbconvert_exporter": "python",
      "pygments_lexer": "ipython3",
      "version": "3.8.10"
    },
    "colab": {
      "provenance": []
    }
  },
  "nbformat": 4,
  "nbformat_minor": 5
}
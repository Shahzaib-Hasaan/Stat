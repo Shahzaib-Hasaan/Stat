{
 "cells": [
  {
   "cell_type": "markdown",
   "metadata": {},
   "source": [
    "# re.split() \n",
    "Split string by the occurrences of a character or a pattern, upon finding that pattern, the remaining characters from the string are returned as part of the resulting list. \n",
    "\n",
    "* Syntax :  re.split(pattern, string, maxsplit=0, flags=0)\n",
    "\n",
    "The First parameter, pattern denotes the regular expression, string is the given string in which pattern will be searched for and in which splitting occurs, maxsplit if not provided is considered to be zero ‘0’, and if any nonzero value is provided, then at most that many splits occur. \n",
    "If maxsplit = 1, then the string will split once only, resulting in a list of length 2. \n",
    "The flags are very useful and can help to shorten code, they are not necessary parameters, eg: flags = re.IGNORECASE, in this split, the case, i.e. the lowercase or the uppercase will be ignored."
   ]
  },
  {
   "cell_type": "code",
   "execution_count": 4,
   "metadata": {},
   "outputs": [
    {
     "name": "stdout",
     "output_type": "stream",
     "text": [
      "['', ', ', ' , ', '']\n",
      "['Word', 's', 'words', 'Words']\n",
      "['On', '12th', 'Jan', '2016', 'at', '11', '02', 'AM']\n",
      "['On ', 'th Jan ', ', at ', ':', ' AM']\n"
     ]
    }
   ],
   "source": [
    "from re import split\n",
    " \n",
    "# '\\W+' denotes Non-Alphanumeric Characters\n",
    "# or group of characters Upon finding ','\n",
    "# or whitespace ' ', the split(), splits the\n",
    "# string from that point\n",
    "print(split('\\w+', 'Words, words , Words'))\n",
    "print(split('\\W', \"Word's words Words\"))\n",
    " \n",
    "# Here ':', ' ' ,',' are not AlphaNumeric thus,\n",
    "# the point where splitting occurs\n",
    "print(split('\\W+', 'On 12th Jan 2016, at 11:02 AM'))\n",
    " \n",
    "# '\\d+' denotes Numeric Characters or group of\n",
    "# characters Splitting occurs at '12', '2016',\n",
    "# '11', '02' only\n",
    "print(split('\\d+', 'On 12th Jan 2016, at 11:02 AM'))"
   ]
  },
  {
   "cell_type": "code",
   "execution_count": 3,
   "metadata": {},
   "outputs": [
    {
     "name": "stdout",
     "output_type": "stream",
     "text": [
      "['On ', 'th Jan 2016, at 11:02 AM']\n",
      "['', 'y, ', 'oy oh ', 'oy, ', 'om', ' h', 'r', '']\n",
      "['A', 'y, Boy oh ', 'oy, ', 'om', ' h', 'r', '']\n"
     ]
    }
   ],
   "source": [
    "import re\n",
    " \n",
    "# Splitting will occurs only once, at\n",
    "# '12', returned list will have length 2\n",
    "print(re.split('\\d+', 'On 12th Jan 2016, at 11:02 AM', 1))\n",
    " \n",
    "# 'Boy' and 'boy' will be treated same when\n",
    "# flags = re.IGNORECASE\n",
    "print(re.split('[a-f]+', 'Aey, Boy oh boy, come here', flags=re.IGNORECASE))\n",
    "print(re.split('[a-f]+', 'Aey, Boy oh boy, come here'))"
   ]
  },
  {
   "cell_type": "markdown",
   "metadata": {},
   "source": [
    "# re.sub() \n",
    "The ‘sub’ in the function stands for SubString, a certain regular expression pattern is searched in the given string(3rd parameter), and upon finding the substring pattern is replaced by repl(2nd parameter), count checks and maintains the number of times this occurs. \n",
    "\n",
    "* Syntax: re.sub(pattern, repl, string, count=0, flags=0)"
   ]
  },
  {
   "cell_type": "code",
   "execution_count": 6,
   "metadata": {},
   "outputs": [
    {
     "name": "stdout",
     "output_type": "stream",
     "text": [
      "S~*ject has ~*er booked already\n",
      "S~*ject has Uber booked already\n",
      "S~*ject has Uber booked already\n",
      "Baked Beans & Spam\n"
     ]
    }
   ],
   "source": [
    "import re\n",
    " \n",
    "# Regular Expression pattern 'ub' matches the\n",
    "# string at \"Subject\" and \"Uber\". As the CASE\n",
    "# has been ignored, using Flag, 'ub' should\n",
    "# match twice with the string Upon matching,\n",
    "# 'ub' is replaced by '~*' in \"Subject\", and\n",
    "# in \"Uber\", 'Ub' is replaced.\n",
    "print(re.sub('ub', '~*', 'Subject has Uber booked already',\n",
    "             flags=re.IGNORECASE))\n",
    " \n",
    "# Consider the Case Sensitivity, 'Ub' in\n",
    "# \"Uber\", will not be replaced.\n",
    "print(re.sub('ub', '~*', 'Subject has Uber booked already'))\n",
    " \n",
    "# As count has been given value 1, the maximum\n",
    "# times replacement occurs is 1\n",
    "print(re.sub('ub', '~*', 'Subject has Uber booked already',\n",
    "             count=1, flags=re.IGNORECASE))\n",
    " \n",
    "# 'r' before the pattern denotes RE, \\s is for\n",
    "# start and end of a String.\n",
    "print(re.sub(r'\\sAND\\s', ' & ', 'Baked Beans And Spam',\n",
    "             flags=re.IGNORECASE))"
   ]
  },
  {
   "cell_type": "markdown",
   "metadata": {},
   "source": [
    "# re.subn() \n",
    "subn() is similar to sub() in all ways, except in its way of providing output. It returns a tuple with count of the total of replacement and the new string rather than just the string. \n",
    "\n",
    "* Syntax: re.subn(pattern, repl, string, count=0, flags=0)"
   ]
  },
  {
   "cell_type": "code",
   "execution_count": 5,
   "metadata": {},
   "outputs": [
    {
     "name": "stdout",
     "output_type": "stream",
     "text": [
      "('S~*ject has Uber booked already', 1)\n",
      "('S~*ject has ~*er booked already', 2)\n",
      "2\n",
      "S~*ject has ~*er booked already\n"
     ]
    }
   ],
   "source": [
    "import re\n",
    " \n",
    "print(re.subn('ub', '~*', 'Subject has Uber booked already'))\n",
    " \n",
    "t = re.subn('ub', '~*', 'Subject has Uber booked already',\n",
    "            flags=re.IGNORECASE)\n",
    "print(t)\n",
    "print(len(t))\n",
    " \n",
    "# This will give same output as sub() would have\n",
    "print(t[0])"
   ]
  },
  {
   "cell_type": "markdown",
   "metadata": {},
   "source": [
    "# re.escape()\n",
    "Returns string with all non-alphanumerics backslashed, this is useful if you want to match an arbitrary literal string that may have regular expression metacharacters in it.\n",
    "\n",
    "* Syntax: re.escape(string)"
   ]
  },
  {
   "cell_type": "code",
   "execution_count": 6,
   "metadata": {},
   "outputs": [
    {
     "name": "stdout",
     "output_type": "stream",
     "text": [
      "This\\ is\\ Awesome\\ even\\ 1\\ AM\n",
      "I\\ Asked\\ what\\ is\\ this\\ \\[a\\-9\\],\\ he\\ said\\ \\\t\\ \\^WoW\n"
     ]
    }
   ],
   "source": [
    "import re\n",
    " \n",
    "# escape() returns a string with BackSlash '\\',\n",
    "# before every Non-Alphanumeric Character\n",
    "# In 1st case only ' ', is not alphanumeric\n",
    "# In 2nd case, ' ', caret '^', '-', '[]', '\\'\n",
    "# are not alphanumeric\n",
    "print(re.escape(\"This is Awesome even 1 AM\"))\n",
    "print(re.escape(\"I Asked what is this [a-9], he said \\t ^WoW\"))"
   ]
  },
  {
   "cell_type": "markdown",
   "metadata": {},
   "source": [
    "# re.search()\n",
    "This method either returns None (if the pattern doesn’t match), or a re.MatchObject contains information about the matching part of the string. This method stops after the first match, so this is best suited for testing a regular expression more than extracting data."
   ]
  },
  {
   "cell_type": "code",
   "execution_count": 7,
   "metadata": {},
   "outputs": [
    {
     "name": "stdout",
     "output_type": "stream",
     "text": [
      "Match at index 14, 21\n",
      "Full match: June 24\n",
      "Month: June\n",
      "Day: 24\n"
     ]
    }
   ],
   "source": [
    "import re\n",
    "\n",
    "regex = r\"([a-zA-Z]+) (\\d+)\"\n",
    " \n",
    "match = re.search(regex, \"I was born on June 24\")\n",
    " \n",
    "if match != None:\n",
    " \n",
    "    print (\"Match at index %s, %s\" % (match.start(), match.end()))\n",
    "\n",
    "    print (\"Full match: %s\" % (match.group(0)))\n",
    " \n",
    "    # So this will print \"June\"\n",
    "    print (\"Month: %s\" % (match.group(1)))\n",
    " \n",
    "    # So this will print \"24\"\n",
    "    print (\"Day: %s\" % (match.group(2)))\n",
    " \n",
    "else:\n",
    "    print (\"The regex pattern does not match.\")"
   ]
  },
  {
   "cell_type": "markdown",
   "metadata": {},
   "source": []
  },
  {
   "cell_type": "code",
   "execution_count": 11,
   "metadata": {},
   "outputs": [
    {
     "name": "stdout",
     "output_type": "stream",
     "text": [
      "re.compile('\\\\bA')\n",
      "Welcome to Artificial intelligence \n"
     ]
    }
   ],
   "source": [
    "import re\n",
    " \n",
    "s = \"Welcome to Artificial intelligence \"\n",
    " \n",
    "# here x is the match object\n",
    "res = re.search(r\"\\bA\", s)\n",
    " \n",
    "print(res.re)\n",
    "print(res.string)"
   ]
  },
  {
   "cell_type": "markdown",
   "metadata": {},
   "source": [
    "# Getting matched substring\n",
    "group() method returns the part of the string for which the patterns match. See the below example for a better understanding."
   ]
  },
  {
   "cell_type": "code",
   "execution_count": 4,
   "metadata": {},
   "outputs": [
    {
     "name": "stdout",
     "output_type": "stream",
     "text": [
      "ome t\n"
     ]
    }
   ],
   "source": [
    "import re\n",
    " \n",
    "s = \"Welcome to Artificial Intelligence\"\n",
    " \n",
    "# here x is the match object\n",
    "res = re.search(r\"\\D{3} t\", s)\n",
    " \n",
    "print(res.group())"
   ]
  },
  {
   "cell_type": "code",
   "execution_count": 14,
   "metadata": {},
   "outputs": [
    {
     "name": "stdout",
     "output_type": "stream",
     "text": [
      "Match at index 14, 21\n",
      "date =  June 24\n",
      "Month: June\n",
      "Day: 24\n"
     ]
    }
   ],
   "source": [
    "\n",
    "# A Python program to demonstrate working of re.match(). \n",
    "\n",
    "import re \n",
    "regex = r\"([a-zA-Z]+) (\\d+)\"\n",
    "match = re.search(regex, \"I was born on June 24\") \n",
    "if match != None: \n",
    "   \n",
    "    print (\"Match at index %s, %s\" % (match.start(), match.end())) \n",
    "\n",
    "    print ('date = ', match.group(0)) \n",
    "   \n",
    "    # So this will print \"June\" \n",
    "    print (\"Month: %s\" % (match.group(1))) \n",
    "   \n",
    "    # So this will print \"24\" \n",
    "    print (\"Day: %s\" % (match.group(2)))\n",
    "   \n",
    "else: \n",
    "    print (\"The regex pattern does not match.\")"
   ]
  },
  {
   "cell_type": "markdown",
   "metadata": {},
   "source": [
    "# Matching a Pattern with Text \n",
    "\n",
    "re.match() : This function attempts to match pattern to whole string. The re.match function returns a match object on success, None on failure.\n",
    "\n",
    "### re.match(pattern, string, flags=0)\n",
    "\n",
    "* pattern : Regular expression to be matched.\n",
    "* string : String where pattern is searched\n",
    "* flags : We can specify different flags using bitwise OR (|). "
   ]
  },
  {
   "cell_type": "code",
   "execution_count": 15,
   "metadata": {},
   "outputs": [
    {
     "name": "stdout",
     "output_type": "stream",
     "text": [
      "Given Data: Jun 24\n",
      "Month: Jun\n",
      "Day: 24\n",
      "\n",
      "Not a valid date\n"
     ]
    }
   ],
   "source": [
    "# A Python program to demonstrate working\n",
    "# of re.match().\n",
    "import re\n",
    "    \n",
    "# a sample function that uses regular expressions\n",
    "# to find month and day of a date.\n",
    "def findMonthAndDate(string):\n",
    "        \n",
    "    regex = r\"([a-zA-Z]+) (\\d+)\"\n",
    "    match = re.match(regex, string)\n",
    "        \n",
    "    if match == None: \n",
    "        print (\"Not a valid date\")\n",
    "        return\n",
    "    \n",
    "    print (\"Given Data: %s\" % (match.group()))\n",
    "    print (\"Month: %s\" % (match.group(1)))\n",
    "    print (\"Day: %s\" % (match.group(2)))\n",
    "    \n",
    "        \n",
    "# Driver Code\n",
    "findMonthAndDate(\"Jun 24\")\n",
    "print(\"\")\n",
    "findMonthAndDate(\"I was born on June 24\")"
   ]
  },
  {
   "cell_type": "markdown",
   "metadata": {},
   "source": [
    "# Finding all occurrences of a pattern \n",
    "\n",
    "re.findall() : Return all non-overlapping matches of pattern in string, as a list of strings. The string is scanned left-to-right, and matches are returned in the order found"
   ]
  },
  {
   "cell_type": "code",
   "execution_count": 16,
   "metadata": {},
   "outputs": [
    {
     "name": "stdout",
     "output_type": "stream",
     "text": [
      "['123456789', '987654321']\n"
     ]
    }
   ],
   "source": [
    "# A Python program to demonstrate working of\n",
    "# findall()\n",
    "import re\n",
    "   \n",
    "# A sample text string where regular expression \n",
    "# is searched.\n",
    "string  = \"\"\"Hello my Number is 123456789 and\n",
    "             my friend's number is 987654321\"\"\"\n",
    "   \n",
    "# A sample regular expression to find digits.\n",
    "regex = '\\d+'            \n",
    "   \n",
    "match = re.findall(regex, string)\n",
    "print(match)\n",
    "   \n",
    "# This example is contributed by Ayush Saluja."
   ]
  },
  {
   "cell_type": "code",
   "execution_count": null,
   "metadata": {},
   "outputs": [],
   "source": []
  },
  {
   "cell_type": "code",
   "execution_count": null,
   "metadata": {},
   "outputs": [],
   "source": []
  },
  {
   "cell_type": "code",
   "execution_count": null,
   "metadata": {},
   "outputs": [],
   "source": []
  }
 ],
 "metadata": {
  "kernelspec": {
   "display_name": "Python 3",
   "language": "python",
   "name": "python3"
  },
  "language_info": {
   "codemirror_mode": {
    "name": "ipython",
    "version": 3
   },
   "file_extension": ".py",
   "mimetype": "text/x-python",
   "name": "python",
   "nbconvert_exporter": "python",
   "pygments_lexer": "ipython3",
   "version": "3.7.6"
  }
 },
 "nbformat": 4,
 "nbformat_minor": 4
}

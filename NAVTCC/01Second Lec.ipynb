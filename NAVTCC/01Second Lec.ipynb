{
 "cells": [
  {
   "attachments": {},
   "cell_type": "markdown",
   "metadata": {},
   "source": [
    "# Loops and Strings in Python"
   ]
  },
  {
   "cell_type": "code",
   "execution_count": 1,
   "metadata": {},
   "outputs": [
    {
     "name": "stdout",
     "output_type": "stream",
     "text": [
      "The vealue of x is:  30\n",
      "The vealue of x is:  29\n",
      "The vealue of x is:  28\n",
      "The vealue of x is:  27\n",
      "The vealue of x is:  26\n"
     ]
    }
   ],
   "source": [
    "x = 30\n",
    "while x > 25:\n",
    "    print(\"The vealue of x is: \", x)\n",
    "    x -= 1"
   ]
  },
  {
   "cell_type": "code",
   "execution_count": 4,
   "metadata": {},
   "outputs": [
    {
     "name": "stdout",
     "output_type": "stream",
     "text": [
      "The number of seats available are:  20\n",
      "The number of seats available are:  19\n",
      "The number of seats available are:  18\n",
      "The number of seats available are:  17\n",
      "The number of seats available are:  16\n",
      "The number of seats available are:  15\n",
      "The number of seats available are:  14\n",
      "The number of seats available are:  13\n",
      "The seats are full\n"
     ]
    }
   ],
   "source": [
    "Avaulable_seats = 20\n",
    "while Avaulable_seats > 12:\n",
    "    print(\"The number of seats available are: \", str(Avaulable_seats))\n",
    "    Avaulable_seats -= 1\n",
    "    if Avaulable_seats == 12:\n",
    "        print(\"The seats are full\")"
   ]
  }
 ],
 "metadata": {
  "kernelspec": {
   "display_name": "Python 3",
   "language": "python",
   "name": "python3"
  },
  "language_info": {
   "codemirror_mode": {
    "name": "ipython",
    "version": 3
   },
   "file_extension": ".py",
   "mimetype": "text/x-python",
   "name": "python",
   "nbconvert_exporter": "python",
   "pygments_lexer": "ipython3",
   "version": "3.11.3"
  },
  "orig_nbformat": 4
 },
 "nbformat": 4,
 "nbformat_minor": 2
}

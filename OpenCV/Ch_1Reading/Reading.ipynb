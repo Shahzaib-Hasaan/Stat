{
 "cells": [
  {
   "attachments": {},
   "cell_type": "markdown",
   "metadata": {},
   "source": [
    "## Testing"
   ]
  },
  {
   "cell_type": "code",
   "execution_count": 1,
   "metadata": {},
   "outputs": [
    {
     "name": "stdout",
     "output_type": "stream",
     "text": [
      "4.6.0\n"
     ]
    }
   ],
   "source": [
    "import cv2 as cv\n",
    "print(cv. __version__ )"
   ]
  },
  {
   "attachments": {},
   "cell_type": "markdown",
   "metadata": {},
   "source": [
    "## Reading Images"
   ]
  },
  {
   "cell_type": "code",
   "execution_count": 1,
   "metadata": {},
   "outputs": [],
   "source": [
    "import cv2\n",
    "# imread function to read an image\n",
    "\n",
    "img = cv2.imread('/media/mysterious/Personal/Programming/Python/Resources/1.png')\n",
    "\n",
    "# imshow function to display an image\n",
    "\n",
    "# It takes two arguments: the window name and the image to be displayed in the window \n",
    "\n",
    "cv2.imshow('Output', img)\n",
    "\n",
    "\n",
    "#waitkey() function of Python OpenCV allows users to display a window for given milliseconds or until any key is pressed. It takes time in milliseconds as a parameter and waits for the given time to destroy the window, if 0 is passed in the argument it waits till any key is pressed.\n",
    "cv2.waitKey(0)\n"
   ]
  },
  {
   "attachments": {},
   "cell_type": "markdown",
   "metadata": {},
   "source": [
    "## Reading Videos"
   ]
  },
  {
   "cell_type": "code",
   "execution_count": null,
   "metadata": {},
   "outputs": [],
   "source": [
    "import cv2\n",
    "\n",
    "# VideoCapture function to read a video\n",
    "cap = cv2.VideoCapture('/media/mysterious/Personal/Programming/Python/Resources/v.mp4')\n",
    "\n",
    "# while loop to read frames from the video one by one \n",
    "while True:\n",
    "    # read function to read the frames\n",
    "    ret, frame = cap.read()\n",
    "    # imshow function to display the frames\n",
    "    cv2.imshow('Video', frame)\n",
    "    # waitkey() function to display the frames for a particular time\n",
    "    if cv2.waitKey(1) & 0xFF == ord('q'):\n",
    "        break"
   ]
  }
 ],
 "metadata": {
  "kernelspec": {
   "display_name": "Python 3",
   "language": "python",
   "name": "python3"
  },
  "language_info": {
   "codemirror_mode": {
    "name": "ipython",
    "version": 3
   },
   "file_extension": ".py",
   "mimetype": "text/x-python",
   "name": "python",
   "nbconvert_exporter": "python",
   "pygments_lexer": "ipython3",
   "version": "3.8.10"
  },
  "orig_nbformat": 4,
  "vscode": {
   "interpreter": {
    "hash": "916dbcbb3f70747c44a77c7bcd40155683ae19c65e1c03b4aa3499c5328201f1"
   }
  }
 },
 "nbformat": 4,
 "nbformat_minor": 2
}

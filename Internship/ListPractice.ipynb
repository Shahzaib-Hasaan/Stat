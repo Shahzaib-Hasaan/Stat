{
 "cells": [
  {
   "cell_type": "code",
   "execution_count": 2,
   "metadata": {},
   "outputs": [
    {
     "name": "stdout",
     "output_type": "stream",
     "text": [
      "[1, 2, 3, 4, 5, 6, 7, 8, 9, 10]\n"
     ]
    }
   ],
   "source": [
    "# Program to remove all duplicate elements from a list\n",
    "list1 = [1,2,1,2,4,5,6,8,3,4,5,6,7,8,9,10]\n",
    "\n",
    "#remove duplicates\n",
    "list1 = list(set(list1))\n",
    "print(list1)"
   ]
  },
  {
   "cell_type": "code",
   "execution_count": 4,
   "metadata": {},
   "outputs": [
    {
     "name": "stdout",
     "output_type": "stream",
     "text": [
      "[1, 2, 4, 5, 6, 8, 3, 7, 9, 10]\n"
     ]
    }
   ],
   "source": [
    "list1 = [1,2,1,2,4,5,6,8,3,4,5,6,7,8,9,10]\n",
    "seen = set()\n",
    "new_list = [item for item in list1 if item not in seen and not seen.add(item)]\n",
    "print(new_list)"
   ]
  },
  {
   "cell_type": "code",
   "execution_count": 5,
   "metadata": {},
   "outputs": [
    {
     "name": "stdout",
     "output_type": "stream",
     "text": [
      "10\n",
      "1\n"
     ]
    }
   ],
   "source": [
    "# Program to find maximum, minimum of a list\n",
    "list1 = [1,2,1,2,4,5,6,8,3,4,5,6,7,8,9,10]\n",
    "print(max(list1))\n",
    "print(min(list1))"
   ]
  },
  {
   "cell_type": "code",
   "execution_count": 8,
   "metadata": {},
   "outputs": [
    {
     "name": "stdout",
     "output_type": "stream",
     "text": [
      "9\n"
     ]
    }
   ],
   "source": [
    "# Program to find second largest number in a list\n",
    "list1 = [1,2,1,2,4,5,6,8,3,4,5,6,7,8,9,10]\n",
    "list1.sort()\n",
    "print(list1[-2]) #O(nlogn)"
   ]
  },
  {
   "cell_type": "code",
   "execution_count": 11,
   "metadata": {},
   "outputs": [
    {
     "name": "stdout",
     "output_type": "stream",
     "text": [
      "9\n"
     ]
    }
   ],
   "source": [
    "largest = 0\n",
    "second_largest = 0\n",
    "for item in list1:\n",
    "    if item > largest:\n",
    "        second_largest = largest\n",
    "        largest = item\n",
    "    elif item > second_largest:\n",
    "        second_largest = item\n",
    "print(second_largest) #O(n)\n",
    "        "
   ]
  },
  {
   "cell_type": "code",
   "execution_count": 18,
   "metadata": {},
   "outputs": [
    {
     "name": "stdout",
     "output_type": "stream",
     "text": [
      "8\n"
     ]
    }
   ],
   "source": [
    "# Program to find nth largest number in a list\n",
    "num = int(input(\"Enter the value of n: \"))\n",
    "list1 = [1,2,1,2,4,5,6,8,3,4,5,6,7,8,9,10]\n",
    "list1 = list(set(list1))\n",
    "print(list1[-num])\n"
   ]
  },
  {
   "cell_type": "code",
   "execution_count": 21,
   "metadata": {},
   "outputs": [
    {
     "name": "stdout",
     "output_type": "stream",
     "text": [
      "5.0\n"
     ]
    }
   ],
   "source": [
    "# Program to find median of a list\n",
    "list1 = [1,2,1,2,4,5,6,8,3,4,5,6,7,8,9,10]\n",
    "\n",
    "list1.sort()\n",
    "if len(list1)%2 == 0:\n",
    "    median = (list1[int(len(list1)/2)] + list1[int(len(list1)/2)-1])/2\n",
    "else:\n",
    "    median = list1[int(len(list1)/2)]\n",
    "print(median)\n"
   ]
  },
  {
   "cell_type": "code",
   "execution_count": null,
   "metadata": {},
   "outputs": [],
   "source": [
    "# Program to find mode of a list\n",
    "list1 = [1,2,1,2,4,5,6,8,3,4,5,6,7,8,9,10]\n"
   ]
  }
 ],
 "metadata": {
  "kernelspec": {
   "display_name": "Python 3",
   "language": "python",
   "name": "python3"
  },
  "language_info": {
   "codemirror_mode": {
    "name": "ipython",
    "version": 3
   },
   "file_extension": ".py",
   "mimetype": "text/x-python",
   "name": "python",
   "nbconvert_exporter": "python",
   "pygments_lexer": "ipython3",
   "version": "3.11.3"
  },
  "orig_nbformat": 4
 },
 "nbformat": 4,
 "nbformat_minor": 2
}

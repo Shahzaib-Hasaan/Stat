{
 "cells": [
  {
   "cell_type": "code",
   "execution_count": 14,
   "metadata": {},
   "outputs": [
    {
     "name": "stdout",
     "output_type": "stream",
     "text": [
      "Laptop 12 3\n",
      "36\n",
      "9.600000000000001\n",
      "TV 3000 4\n",
      "12000\n",
      "2100.0\n"
     ]
    }
   ],
   "source": [
    "class Item:\n",
    "    pay_rate = 0.8 \n",
    "    def __init__(self,name: str,price:float,quantity=0):\n",
    "        self.name = name\n",
    "        self.price = price\n",
    "        self.quantity = quantity\n",
    "    def calculate_total_price(self):\n",
    "        return self.price * self.quantity\n",
    "    def apply_discount(self):\n",
    "        self.price = self.price * self.pay_rate\n",
    "    \n",
    "item1 = Item(\"Laptop\" ,12,3)\n",
    "item2 = Item(\"TV\",3000,4)\n",
    "item3 = Item(\"AC\",4000,5)\n",
    "\n",
    "\n",
    "print(item1.name ,item1.price ,item1.quantity)\n",
    "print(item1.calculate_total_price())\n",
    "item1.apply_discount()\n",
    "print(item1.price)\n",
    "print(item2.name ,item2.price ,item2.quantity)\n",
    "print(item2.calculate_total_price())\n",
    "# print(item3.name ,item3.price ,item3.quantity)\n",
    "# print(item3.calculate_total_price())\n",
    "# print(item1.pay_rate)\n",
    "# print(Item.__dict__) # All attributes of class level\n",
    "# print(item1.__dict__)\n",
    "item2.pay_rate = 0.7\n",
    "item2.apply_discount()\n",
    "print(item2.price)"
   ]
  },
  {
   "cell_type": "code",
   "execution_count": 1,
   "metadata": {},
   "outputs": [
    {
     "name": "stdout",
     "output_type": "stream",
     "text": [
      "[Item('Phone'), 10000 , 2, Item('Laptop'), 20000 , 1, Item('Cable'), 100 , 10, Item('Mouse'), 300 , 3, Item('Keyboard'), 75 , 6]\n",
      "Phone\n",
      "Laptop\n",
      "Cable\n",
      "Mouse\n",
      "Keyboard\n"
     ]
    }
   ],
   "source": [
    "class Item:\n",
    "    pay_rate = 0.8 \n",
    "    all = []\n",
    "    def __repr__(self):\n",
    "        return f\"Item('{self.name}'), {self.price} , {self.quantity}\"\n",
    "    def __init__(self,name: str,price:float,quantity=0):\n",
    "        # Validation\n",
    "        self.name = name\n",
    "        self.price = price\n",
    "        self.quantity = quantity\n",
    "        # Actions to execute\n",
    "        Item.all.append(self)\n",
    "    def calculate_total_price(self):\n",
    "        return self.price * self.quantity\n",
    "    def apply_discount(self):\n",
    "        self.price = self.price * self.pay_rat\n",
    "\n",
    "item1 = Item(\"Phone\",10000,2)\n",
    "item2 = Item(\"Laptop\",20000,1)\n",
    "item3 = Item(\"Cable\",100,10)\n",
    "item4 = Item(\"Mouse\",300,3)\n",
    "item5 = Item(\"Keyboard\",75,6)\n",
    "print(Item.all)\n",
    "## We can print or get all names or any detail of all instances \n",
    "for names in Item.all:\n",
    "    print(names.name)\n"
   ]
  },
  {
   "cell_type": "code",
   "execution_count": 9,
   "metadata": {},
   "outputs": [
    {
     "name": "stdout",
     "output_type": "stream",
     "text": [
      "True\n"
     ]
    }
   ],
   "source": [
    "import csv\n",
    "class Item:\n",
    "    pay_rate = 0.8 \n",
    "    all = []\n",
    "    def __repr__(self):\n",
    "        return f\"Item('{self.name}'), {self.price} , {self.quantity}\"\n",
    "    def __init__(self,name: str,price:float,quantity=0):\n",
    "        # Validation\n",
    "        assert price>= 0, f'Price{price} is not greater than or equal to zero'\n",
    "        assert quantity >=0, f'Quantity{quantity} is smaller than 0'\n",
    "        # Assignment\n",
    "        self.name = name\n",
    "        self.price = price\n",
    "        self.quantity = quantity\n",
    "        # Actions to execute\n",
    "        Item.all.append(self)\n",
    "    @classmethod\n",
    "    def instantiate_from_csv(cls):\n",
    "        with open('items.csv','r')as f:\n",
    "            reader = csv.DictReader(f)\n",
    "            items = list(reader)\n",
    "        for item in items:\n",
    "            Item(\n",
    "                name = item.get('name'),\n",
    "                price = float(item.get('price')),\n",
    "                quantity = int(item.get('quantity'))\n",
    "            )\n",
    "        # print(type(items))\n",
    "        # print(items)\n",
    "    @staticmethod\n",
    "    def is_integer(num):\n",
    "        # We will count out the floats that are point zero\n",
    "        if isinstance(num,float):\n",
    "            # Count out the floats that are point zero\n",
    "            return num.is_integer()\n",
    "        elif isinstance(num,int):\n",
    "            return True\n",
    "        else:\n",
    "            return False\n",
    "    def calculate_total_price(self):\n",
    "        return self.price * self.quantity\n",
    "    def apply_discount(self):\n",
    "        self.price = self.price * self.pay_rat\n",
    "\n",
    "print(Item.is_integer(7.0))\n",
    "# Item.instantiate_from_csv()\n",
    "# print(Item.all)"
   ]
  },
  {
   "cell_type": "code",
   "execution_count": 24,
   "metadata": {},
   "outputs": [],
   "source": [
    "import csv \n",
    "\n",
    "class Item:\n",
    "    pay_rate = 0.8 \n",
    "    all = []\n",
    "    def __repr__(self):\n",
    "        return f\"{self.__class__.__name__}('{self.name}'), {self.price} , {self.quantity}\"\n",
    "    def __init__(self,name: str,price:float,quantity=0):\n",
    "        # Validation\n",
    "        self.name = name\n",
    "        self.price = price\n",
    "        self.quantity = quantity\n",
    "        # Actions to execute\n",
    "        Item.all.append(self)\n",
    "    @classmethod\n",
    "    def instantiate_from_csv(cls):\n",
    "        with open('items.csv','r')as f:\n",
    "            reader = csv.DictReader(f)\n",
    "            items = list(reader)\n",
    "        for item in items:\n",
    "            Item(\n",
    "                name = item.get('name'),\n",
    "                price = float(item.get('price')),\n",
    "                quantity = int(item.get('quantity'))\n",
    "            )\n",
    "    @staticmethod\n",
    "    def is_integer(num):\n",
    "        # We will count out the floats that are point zero\n",
    "        if isinstance(num,float):\n",
    "            # Count out the floats that are point zero\n",
    "            return num.is_integer()\n",
    "        elif isinstance(num,int):\n",
    "            return True\n",
    "        else:\n",
    "            return False\n",
    "    def calculate_total_price(self):\n",
    "        return self.price * self.quantity\n",
    "    def apply_discount(self):\n",
    "        self.price = self.price * self.pay_rat"
   ]
  },
  {
   "cell_type": "code",
   "execution_count": 25,
   "metadata": {},
   "outputs": [],
   "source": [
    "\n",
    "class Phone(Item):\n",
    "    def __init__(self,name: str,price:float,quantity=0, \n",
    "    broken_phones=0):\n",
    "        # Call to super function to have access to all attributes/methods\n",
    "        super().__init__(\n",
    "            name,price,quantity\n",
    "        )\n",
    "        assert broken_phones >= 0, f'Broken Phones {broken_phones} are invalid i.e smaller than 0 '\n",
    "\n",
    "        # Assign to self object\n",
    "        self.broken_phones = broken_phones"
   ]
  },
  {
   "cell_type": "code",
   "execution_count": 26,
   "metadata": {},
   "outputs": [
    {
     "name": "stdout",
     "output_type": "stream",
     "text": [
      "2500\n",
      "[Phone('jscPhone'), 500 , 5, Phone('jscPhonev20'), 700 , 5]\n",
      "[Phone('jscPhone'), 500 , 5, Phone('jscPhonev20'), 700 , 5]\n"
     ]
    }
   ],
   "source": [
    "phone1 = Phone('jscPhone',500,5,1)\n",
    "print(phone1.calculate_total_price())\n",
    "phone2= Phone('jscPhonev20',700,5,1)\n",
    "print(Item.all)\n",
    "print(Phone.all)\n"
   ]
  },
  {
   "cell_type": "markdown",
   "metadata": {},
   "source": [
    "# Encapsulation"
   ]
  },
  {
   "cell_type": "code",
   "execution_count": 1,
   "metadata": {},
   "outputs": [],
   "source": [
    "import csv \n",
    "\n",
    "class Item:\n",
    "    pay_rate = 0.8 \n",
    "    all = []\n",
    "    def __repr__(self):\n",
    "        return f\"{self.__class__.__name__}('{self.name}'), {self.price} , {self.quantity}\"\n",
    "    def __init__(self,name: str,price:float,quantity=0):\n",
    "        # Validation\n",
    "        self.__name = name\n",
    "        self.price = price\n",
    "        self.quantity = quantity\n",
    "        # Actions to execute\n",
    "        Item.all.append(self)\n",
    "    @classmethod\n",
    "    def instantiate_from_csv(cls):\n",
    "        with open('items.csv','r')as f:\n",
    "            reader = csv.DictReader(f)\n",
    "            items = list(reader)\n",
    "        for item in items:\n",
    "            Item(\n",
    "                name = item.get('name'),\n",
    "                price = float(item.get('price')),\n",
    "                quantity = int(item.get('quantity'))\n",
    "            )\n",
    "    @staticmethod\n",
    "    def is_integer(num):\n",
    "        # We will count out the floats that are point zero\n",
    "        if isinstance(num,float):\n",
    "            # Count out the floats that are point zero\n",
    "            return num.is_integer()\n",
    "        elif isinstance(num,int):\n",
    "            return True\n",
    "        else:\n",
    "            return False\n",
    "    def calculate_total_price(self):\n",
    "        return self.price * self.quantity\n",
    "    def apply_discount(self):\n",
    "        self.price = self.price * self.pay_rate\n",
    "    @property\n",
    "    def name(self):\n",
    "        return self.__name\n",
    "    @name.setter\n",
    "    def name(self,name):\n",
    "        self.__name = name\n",
    "    \n",
    "item1 = Item(\"My Item\",787)\n",
    "item1.name = \"LL\""
   ]
  },
  {
   "cell_type": "code",
   "execution_count": null,
   "metadata": {},
   "outputs": [],
   "source": []
  }
 ],
 "metadata": {
  "kernelspec": {
   "display_name": "Python 3",
   "language": "python",
   "name": "python3"
  },
  "language_info": {
   "codemirror_mode": {
    "name": "ipython",
    "version": 3
   },
   "file_extension": ".py",
   "mimetype": "text/x-python",
   "name": "python",
   "nbconvert_exporter": "python",
   "pygments_lexer": "ipython3",
   "version": "3.8.10"
  },
  "orig_nbformat": 4
 },
 "nbformat": 4,
 "nbformat_minor": 2
}

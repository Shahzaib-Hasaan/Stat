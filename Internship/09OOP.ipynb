{
 "cells": [
  {
   "cell_type": "code",
   "execution_count": 14,
   "metadata": {},
   "outputs": [
    {
     "name": "stdout",
     "output_type": "stream",
     "text": [
      "Laptop 12 3\n",
      "36\n",
      "9.600000000000001\n",
      "TV 3000 4\n",
      "12000\n",
      "2100.0\n"
     ]
    }
   ],
   "source": [
    "class Item:\n",
    "    pay_rate = 0.8 \n",
    "    def __init__(self,name: str,price:float,quantity=0):\n",
    "        self.name = name\n",
    "        self.price = price\n",
    "        self.quantity = quantity\n",
    "    def calculate_total_price(self):\n",
    "        return self.price * self.quantity\n",
    "    def apply_discount(self):\n",
    "        self.price = self.price * self.pay_rate\n",
    "    \n",
    "item1 = Item(\"Laptop\" ,12,3)\n",
    "item2 = Item(\"TV\",3000,4)\n",
    "item3 = Item(\"AC\",4000,5)\n",
    "\n",
    "\n",
    "print(item1.name ,item1.price ,item1.quantity)\n",
    "print(item1.calculate_total_price())\n",
    "item1.apply_discount()\n",
    "print(item1.price)\n",
    "print(item2.name ,item2.price ,item2.quantity)\n",
    "print(item2.calculate_total_price())\n",
    "# print(item3.name ,item3.price ,item3.quantity)\n",
    "# print(item3.calculate_total_price())\n",
    "# print(item1.pay_rate)\n",
    "# print(Item.__dict__) # All attributes of class level\n",
    "# print(item1.__dict__)\n",
    "item2.pay_rate = 0.7\n",
    "item2.apply_discount()\n",
    "print(item2.price)"
   ]
  },
  {
   "cell_type": "code",
   "execution_count": 1,
   "metadata": {},
   "outputs": [
    {
     "name": "stdout",
     "output_type": "stream",
     "text": [
      "[Item('Phone'), 10000 , 2, Item('Laptop'), 20000 , 1, Item('Cable'), 100 , 10, Item('Mouse'), 300 , 3, Item('Keyboard'), 75 , 6]\n",
      "Phone\n",
      "Laptop\n",
      "Cable\n",
      "Mouse\n",
      "Keyboard\n"
     ]
    }
   ],
   "source": [
    "class Item:\n",
    "    pay_rate = 0.8 \n",
    "    all = []\n",
    "    def __repr__(self):\n",
    "        return f\"Item('{self.name}'), {self.price} , {self.quantity}\"\n",
    "    def __init__(self,name: str,price:float,quantity=0):\n",
    "        # Validation\n",
    "        self.name = name\n",
    "        self.price = price\n",
    "        self.quantity = quantity\n",
    "        # Actions to execute\n",
    "        Item.all.append(self)\n",
    "    def calculate_total_price(self):\n",
    "        return self.price * self.quantity\n",
    "    def apply_discount(self):\n",
    "        self.price = self.price * self.pay_rat\n",
    "\n",
    "item1 = Item(\"Phone\",10000,2)\n",
    "item2 = Item(\"Laptop\",20000,1)\n",
    "item3 = Item(\"Cable\",100,10)\n",
    "item4 = Item(\"Mouse\",300,3)\n",
    "item5 = Item(\"Keyboard\",75,6)\n",
    "print(Item.all)\n",
    "## We can print or get all names or any detail of all instances \n",
    "for names in Item.all:\n",
    "    print(names.name)\n"
   ]
  },
  {
   "cell_type": "code",
   "execution_count": 4,
   "metadata": {},
   "outputs": [
    {
     "ename": "TypeError",
     "evalue": "'types.GenericAlias' object is not iterable",
     "output_type": "error",
     "traceback": [
      "\u001b[0;31m---------------------------------------------------------------------------\u001b[0m",
      "\u001b[0;31mTypeError\u001b[0m                                 Traceback (most recent call last)",
      "Cell \u001b[0;32mIn[4], line 27\u001b[0m\n\u001b[1;32m     24\u001b[0m     \u001b[39mdef\u001b[39;00m \u001b[39mapply_discount\u001b[39m(\u001b[39mself\u001b[39m):\n\u001b[1;32m     25\u001b[0m         \u001b[39mself\u001b[39m\u001b[39m.\u001b[39mprice \u001b[39m=\u001b[39m \u001b[39mself\u001b[39m\u001b[39m.\u001b[39mprice \u001b[39m*\u001b[39m \u001b[39mself\u001b[39m\u001b[39m.\u001b[39mpay_rat\n\u001b[0;32m---> 27\u001b[0m Item\u001b[39m.\u001b[39;49minstantiate_from_csv()\n",
      "Cell \u001b[0;32mIn[4], line 19\u001b[0m, in \u001b[0;36mItem.instantiate_from_csv\u001b[0;34m(cls)\u001b[0m\n\u001b[1;32m     17\u001b[0m     reader \u001b[39m=\u001b[39m csv\u001b[39m.\u001b[39mDictReader(f)\n\u001b[1;32m     18\u001b[0m     items \u001b[39m=\u001b[39m \u001b[39mlist\u001b[39m[reader]\n\u001b[0;32m---> 19\u001b[0m \u001b[39mfor\u001b[39;00m item \u001b[39min\u001b[39;00m items:\n\u001b[1;32m     20\u001b[0m     \u001b[39mprint\u001b[39m(item)\n",
      "\u001b[0;31mTypeError\u001b[0m: 'types.GenericAlias' object is not iterable"
     ]
    }
   ],
   "source": [
    "import csv\n",
    "class Item:\n",
    "    pay_rate = 0.8 \n",
    "    all = []\n",
    "    def __repr__(self):\n",
    "        return f\"Item('{self.name}'), {self.price} , {self.quantity}\"\n",
    "    def __init__(self,name: str,price:float,quantity=0):\n",
    "        # Validation\n",
    "        self.name = name\n",
    "        self.price = price\n",
    "        self.quantity = quantity\n",
    "        # Actions to execute\n",
    "        Item.all.append(self)\n",
    "    @classmethod\n",
    "    def instantiate_from_csv(cls):\n",
    "        with open('items.csv','r')as f:\n",
    "            reader = csv.DictReader(f)\n",
    "            items = list[reader]\n",
    "        for item in items:\n",
    "            print(item)\n",
    "\n",
    "    def calculate_total_price(self):\n",
    "        return self.price * self.quantity\n",
    "    def apply_discount(self):\n",
    "        self.price = self.price * self.pay_rat\n",
    "\n",
    "Item.instantiate_from_csv()\n"
   ]
  },
  {
   "cell_type": "code",
   "execution_count": null,
   "metadata": {},
   "outputs": [],
   "source": []
  }
 ],
 "metadata": {
  "kernelspec": {
   "display_name": "Python 3",
   "language": "python",
   "name": "python3"
  },
  "language_info": {
   "codemirror_mode": {
    "name": "ipython",
    "version": 3
   },
   "file_extension": ".py",
   "mimetype": "text/x-python",
   "name": "python",
   "nbconvert_exporter": "python",
   "pygments_lexer": "ipython3",
   "version": "3.9.16"
  },
  "orig_nbformat": 4
 },
 "nbformat": 4,
 "nbformat_minor": 2
}

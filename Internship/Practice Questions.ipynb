{
 "cells": [
  {
   "attachments": {},
   "cell_type": "markdown",
   "metadata": {},
   "source": [
    "#### Write a program that takes a user's name as input and prints a personalized greeting message, such as \"Hello, [name]! How are you today?\""
   ]
  },
  {
   "cell_type": "code",
   "execution_count": 2,
   "metadata": {},
   "outputs": [
    {
     "name": "stdout",
     "output_type": "stream",
     "text": [
      "Hello hi\n"
     ]
    }
   ],
   "source": [
    "name = input(\"Enter your name: \")\n",
    "print(\"Hello {}\".format(name))"
   ]
  },
  {
   "attachments": {},
   "cell_type": "markdown",
   "metadata": {},
   "source": [
    "#### Create a variable named temperature and assign it a value in Celsius. Convert the temperature to Fahrenheit using the formula (C * 9/5) + 32 and print the result."
   ]
  },
  {
   "cell_type": "code",
   "execution_count": 7,
   "metadata": {},
   "outputs": [
    {
     "data": {
      "text/plain": [
       "231.8"
      ]
     },
     "execution_count": 7,
     "metadata": {},
     "output_type": "execute_result"
    }
   ],
   "source": [
    "temp = int(input(\"Enter the temperature in Celsius: \"))\n",
    "farn_temp = (temp*9)/5 + 32\n",
    "farn_temp"
   ]
  },
  {
   "attachments": {},
   "cell_type": "markdown",
   "metadata": {},
   "source": [
    "#### Write a program that calculates the factorial of a given number n. Store the result in a variable and print it."
   ]
  },
  {
   "cell_type": "code",
   "execution_count": 12,
   "metadata": {},
   "outputs": [
    {
     "data": {
      "text/plain": [
       "479001600"
      ]
     },
     "execution_count": 12,
     "metadata": {},
     "output_type": "execute_result"
    }
   ],
   "source": [
    "n = int(input(\"Enter a number to find factorial : \"))\n",
    "fact = 1;\n",
    "for i in range(1,n+1):\n",
    "    fact*=i\n",
    "fact"
   ]
  },
  {
   "attachments": {},
   "cell_type": "markdown",
   "metadata": {},
   "source": [
    "#### Given a string sentence = \"The quick brown fox jumps over the lazy dog\", count the number of occurrences of each letter in the sentence and store the results in a dictionary."
   ]
  },
  {
   "cell_type": "code",
   "execution_count": 13,
   "metadata": {},
   "outputs": [
    {
     "name": "stdout",
     "output_type": "stream",
     "text": [
      "{'w': 1, 't': 1, 'z': 1, 'd': 1, 'i': 1, 'T': 1, 'j': 1, 'x': 1, 'n': 1, 'a': 1, 'r': 2, 'v': 1, 'u': 2, 'e': 3, 'b': 1, 'y': 1, 'm': 1, 'q': 1, ' ': 8, 'p': 1, 's': 1, 'h': 2, 'c': 1, 'l': 1, 'g': 1, 'f': 1, 'k': 1, 'o': 4}\n"
     ]
    }
   ],
   "source": [
    "sentence = \"The quick brown fox jumps over the lazy dog\"\n",
    "\n",
    "letters = set(sentence)\n",
    "\n",
    "counts = {}\n",
    "for letter in letters:\n",
    "  counts[letter] = sentence.count(letter)\n",
    "\n",
    "print(counts)\n"
   ]
  },
  {
   "cell_type": "code",
   "execution_count": null,
   "metadata": {},
   "outputs": [],
   "source": []
  }
 ],
 "metadata": {
  "kernelspec": {
   "display_name": "Python 3",
   "language": "python",
   "name": "python3"
  },
  "language_info": {
   "codemirror_mode": {
    "name": "ipython",
    "version": 3
   },
   "file_extension": ".py",
   "mimetype": "text/x-python",
   "name": "python",
   "nbconvert_exporter": "python",
   "pygments_lexer": "ipython3",
   "version": "3.10.4"
  },
  "orig_nbformat": 4
 },
 "nbformat": 4,
 "nbformat_minor": 2
}

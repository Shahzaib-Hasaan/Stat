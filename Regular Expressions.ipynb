{
 "cells": [
  {
   "cell_type": "code",
   "execution_count": 2,
   "metadata": {},
   "outputs": [
    {
     "name": "stdout",
     "output_type": "stream",
     "text": [
      "Your email address is invalid\n"
     ]
    }
   ],
   "source": [
    "email = input(\"Enter your email address: \").strip()\n",
    "\n",
    "if '@' in email:\n",
    "    print(\"Your email address is valid\")\n",
    "else:\n",
    "    print(\"Your email address is invalid\")\n"
   ]
  },
  {
   "cell_type": "code",
   "execution_count": 3,
   "metadata": {},
   "outputs": [
    {
     "name": "stdout",
     "output_type": "stream",
     "text": [
      "Your email address is valid\n"
     ]
    }
   ],
   "source": [
    "email = input(\"Enter your email address: \").strip()\n",
    "\n",
    "if '@' in email and '.' in email:\n",
    "    print(\"Your email address is valid\")\n",
    "else:\n",
    "    print(\"Your email address is invalid\")\n"
   ]
  },
  {
   "cell_type": "code",
   "execution_count": null,
   "metadata": {},
   "outputs": [],
   "source": [
    "email = input(\"Enter your email address: \").strip()\n",
    "\n",
    "username,domain = email.split('@')\n",
    "\n",
    "if username and \".\" in domain:\n",
    "    print(\"Valid email address\")\n",
    "else:\n",
    "    print(\"Invalid email address\")\n",
    "\n"
   ]
  },
  {
   "cell_type": "code",
   "execution_count": null,
   "metadata": {},
   "outputs": [],
   "source": [
    "email = input(\"Enter your email address: \").strip()\n",
    "\n",
    "username,domain = email.split('@')\n",
    "\n",
    "if username and domain.endswith(\".com\"):\n",
    "    print(\"Valid email address\")\n",
    "else:\n",
    "    print(\"Invalid email address\")"
   ]
  },
  {
   "attachments": {},
   "cell_type": "markdown",
   "metadata": {},
   "source": [
    "'*' 0 or more of repititions  <br>\n",
    "'.' any character except newline <br>\n",
    "'+' 1 or more of repititions<br>\n",
    "'?' 0 or 1 of repititions<br>\n",
    "'{m}' m repititions<br>\n",
    "'{m,n'} m to n repititions<br>\n",
    "\n"
   ]
  },
  {
   "cell_type": "code",
   "execution_count": 6,
   "metadata": {},
   "outputs": [
    {
     "name": "stdout",
     "output_type": "stream",
     "text": [
      "Invalid email address\n"
     ]
    }
   ],
   "source": [
    "import re\n",
    "\n",
    "email = input(\"Enter your email address: \").strip()\n",
    "\n",
    "if re.search(\".*@.*\",email):\n",
    "    print(\"Valid email address\")\n",
    "else:\n",
    "    print(\"Invalid email address\")\n",
    "    \n"
   ]
  },
  {
   "attachments": {},
   "cell_type": "markdown",
   "metadata": {},
   "source": [
    "'..* == .+'"
   ]
  },
  {
   "cell_type": "code",
   "execution_count": 12,
   "metadata": {},
   "outputs": [
    {
     "name": "stdout",
     "output_type": "stream",
     "text": [
      "Valid email address\n"
     ]
    }
   ],
   "source": [
    "import re\n",
    "email = input(\"Enter your email address: \").strip()\n",
    "\n",
    "if re.search(r\"..*@..*\\.com\",email):\n",
    "    print(\"Valid email address\")\n",
    "else:\n",
    "    print(\"Invalid email address\")"
   ]
  },
  {
   "attachments": {},
   "cell_type": "markdown",
   "metadata": {},
   "source": [
    "'^' matches the start of string<br>\n",
    "'$' matches the end of string just before the newline at the end of the string<br>"
   ]
  },
  {
   "cell_type": "code",
   "execution_count": 13,
   "metadata": {},
   "outputs": [
    {
     "name": "stdout",
     "output_type": "stream",
     "text": [
      "Valid email address\n"
     ]
    }
   ],
   "source": [
    "import re\n",
    "email = input(\"Enter your email address: \").strip()\n",
    "\n",
    "if re.search(r\"^..*@..*\\.com$\",email):\n",
    "    print(\"Valid email address\")\n",
    "else:\n",
    "    print(\"Invalid email address\")"
   ]
  },
  {
   "attachments": {},
   "cell_type": "markdown",
   "metadata": {},
   "source": [
    "[] matches any character in the brackets<br>\n",
    "[^] matches any character not in the brackets<br>\n",
    "[0-9] matches any digit<br>"
   ]
  },
  {
   "cell_type": "code",
   "execution_count": 14,
   "metadata": {},
   "outputs": [
    {
     "name": "stdout",
     "output_type": "stream",
     "text": [
      "Valid email address\n"
     ]
    }
   ],
   "source": [
    "import re\n",
    "email = input(\"Enter your email address: \").strip()\n",
    "if re.search(r\"^[^@]+@[^@]+\\.com$\",email):\n",
    "    print(\"Valid email address\")\n",
    "else:\n",
    "    print(\"Invalid email address\")"
   ]
  },
  {
   "cell_type": "code",
   "execution_count": 2,
   "metadata": {},
   "outputs": [
    {
     "name": "stdout",
     "output_type": "stream",
     "text": [
      "Invalid email address\n"
     ]
    }
   ],
   "source": [
    "import re\n",
    "email = input(\"Enter your email address: \").strip()\n",
    "if re.search(r\"^[a-zA-Z0-9_]+@[a-zA-Z0-9_]+\\.[a-z]$\",email):\n",
    "    print(\"Valid email address\")\n",
    "else:\n",
    "    print(\"Invalid email address\")\n"
   ]
  }
 ],
 "metadata": {
  "kernelspec": {
   "display_name": "Python 3",
   "language": "python",
   "name": "python3"
  },
  "language_info": {
   "codemirror_mode": {
    "name": "ipython",
    "version": 3
   },
   "file_extension": ".py",
   "mimetype": "text/x-python",
   "name": "python",
   "nbconvert_exporter": "python",
   "pygments_lexer": "ipython3",
   "version": "3.10.4"
  },
  "orig_nbformat": 4
 },
 "nbformat": 4,
 "nbformat_minor": 2
}

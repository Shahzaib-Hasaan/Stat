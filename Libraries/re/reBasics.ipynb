{
 "cells": [
  {
   "attachments": {},
   "cell_type": "markdown",
   "metadata": {},
   "source": [
    "#                                           Intro"
   ]
  },
  {
   "attachments": {},
   "cell_type": "markdown",
   "metadata": {},
   "source": [
    "The re module is a built-in module in Python that provides support for regular expressions (regex). Regular expressions are a powerful tool for pattern matching and string manipulation."
   ]
  },
  {
   "attachments": {},
   "cell_type": "markdown",
   "metadata": {},
   "source": [
    "## Components of Patterns"
   ]
  },
  {
   "attachments": {},
   "cell_type": "markdown",
   "metadata": {},
   "source": [
    "In regular expressions, we use meta characters and special sequences to create patterns that match specific strings or character sequences. By combining these building blocks, we can create very complex patterns to match a wide variety of text data.\n",
    "\n"
   ]
  },
  {
   "attachments": {},
   "cell_type": "markdown",
   "metadata": {},
   "source": [
    "# MetaCharacters"
   ]
  },
  {
   "attachments": {},
   "cell_type": "markdown",
   "metadata": {},
   "source": [
    "<pre>In regular expressions, metacharacters are characters that have a special meaning and are used to create complex patterns. \n",
    "Here are some common metacharacters in the re module:\n",
    "\n",
    ".       (dot)       : matches any single character except a newline character.\n",
    "^       (caret)     : matches the start of a string.\n",
    "$     (dollar sign) : matches the end of a string.\n",
    "*    (asterisk)    : matches zero or more occurrences of the previous character.\n",
    "\\+   (plus sign)    : matches one or more occurrences of the previous character.\n",
    "? (question mark)   : matches zero or one occurrence of the previous character.\n",
    "{m}                 : matches exactly m occurrences of the previous character.\n",
    "{m,n}               : matches between m and n occurrences of the previous character.\n",
    "[] (square brackets): matches any character inside the brackets.\n",
    "() (parentheses)    : groups a series of characters together.\n",
    "| (pipe symbol)     : Used to create a logical OR between multiple patterns. For example, \n",
    "                      the pattern cat|dog matches either \"cat\" or \"dog\".\n",
    "</pre>\n"
   ]
  },
  {
   "attachments": {},
   "cell_type": "markdown",
   "metadata": {},
   "source": [
    "# Special Sequences"
   ]
  },
  {
   "attachments": {},
   "cell_type": "markdown",
   "metadata": {},
   "source": [
    "<pre>\n",
    "Special sequences in regular expressions are patterns that match specific types of characters or character groups.\n",
    "Here are some common special sequences in the re module:\n",
    "\n",
    "\\d: matches any digit character. Equivalent to [0-9].\n",
    "\\D: matches any non-digit character. Equivalent to [^0-9].\n",
    "\\s: matches any whitespace character, including space, tab, newline, and carriage return. Equivalent to [\\t\\n\\r\\f\\v].\n",
    "\\S: matches any non-whitespace character. Equivalent to [^\\t\\n\\r\\f\\v].\n",
    "\\w: matches any alphanumeric character, including underscore. Equivalent to [a-zA-Z0-9_].\n",
    "\\W: matches any non-alphanumeric character. Equivalent to [^a-zA-Z0-9_].\n",
    "\\b: matches a word boundary, which is the position between a word character (as defined by \\w) and a non-word character.\n",
    "\\B: matches a non-word boundary.\n",
    "</pre>"
   ]
  },
  {
   "attachments": {},
   "cell_type": "markdown",
   "metadata": {},
   "source": [
    "# Some Basic MetaCharacters"
   ]
  },
  {
   "attachments": {},
   "cell_type": "markdown",
   "metadata": {},
   "source": [
    "###  \\. DOT"
   ]
  },
  {
   "cell_type": "code",
   "execution_count": 23,
   "metadata": {},
   "outputs": [
    {
     "name": "stdout",
     "output_type": "stream",
     "text": [
      "acb\n",
      "a2b\n",
      "a@b\n",
      "None\n",
      "None\n"
     ]
    }
   ],
   "source": [
    "import re\n",
    "\n",
    "# Match any string that starts with 'a', ends with 'b', and has any single character in between\n",
    "pattern = r'a.b'\n",
    "text1 = 'acb'\n",
    "text2 = 'a2b'\n",
    "text3 = 'a@b'\n",
    "text4 = 'a\\nb'  # Dot does not match newline\n",
    "text5 = 'abc'   # Needs a single character in between\n",
    "\n",
    "# Use the search function to find a match\n",
    "match1 = re.search(pattern, text1)\n",
    "match2 = re.search(pattern, text2)\n",
    "match3 = re.search(pattern, text3)\n",
    "match4 = re.search(pattern, text4)\n",
    "match5 = re.search(pattern, text5)\n",
    "\n",
    "# Print the matched text\n",
    "print(match1.group())  # 'acb'\n",
    "print(match2.group())  # 'a2b'\n",
    "print(match3.group())  # 'a@b'\n",
    "print(match4)          # None (no match)\n",
    "print(match5)          # None (no match)\n"
   ]
  },
  {
   "cell_type": "code",
   "execution_count": 24,
   "metadata": {},
   "outputs": [
    {
     "name": "stdout",
     "output_type": "stream",
     "text": [
      "a.b\n",
      "None\n"
     ]
    }
   ],
   "source": [
    "# The pattern matches a.b meaning exactly dot (.) in between a and b\n",
    "\n",
    "pattern = r'a\\.b' # Escape the dot to match a.b instead of any single character in between a and b \n",
    "text1 = 'a.b'\n",
    "text2 = 'a\\nb'  # Dot does not match newline\n",
    "\n",
    "match1 = re.search(pattern, text1)\n",
    "match2 = re.search(pattern, text2)\n",
    "\n",
    "print(match1.group())  # 'a.b'\n",
    "print(match2)          # None (no match)\n"
   ]
  },
  {
   "cell_type": "code",
   "execution_count": 25,
   "metadata": {},
   "outputs": [
    {
     "name": "stdout",
     "output_type": "stream",
     "text": [
      "ac.b\n",
      "None\n"
     ]
    }
   ],
   "source": [
    "# The pattern matches a.b meaning exactly dot (.) in between a and b and also one character before dot\n",
    "\n",
    "pattern = r'a.\\.b'\n",
    "\n",
    "text1 = 'ac.b'\n",
    "text2 = 'a.sb'\n",
    "\n",
    "match1 = re.search(pattern,text1)\n",
    "match2 = re.search(pattern,text2)\n",
    "\n",
    "print(match1.group())\n",
    "print(match2)"
   ]
  },
  {
   "cell_type": "code",
   "execution_count": 26,
   "metadata": {},
   "outputs": [
    {
     "name": "stdout",
     "output_type": "stream",
     "text": [
      "acb\n",
      "a2b\n",
      "a@b\n",
      "None\n",
      "abcdefghijklmnopqrstuvwxyzb\n",
      "acdefghijklmnopqrstuvwxyzb\n"
     ]
    }
   ],
   "source": [
    "pattern =  r'a.*b' # Match any string that starts with 'a', ends with 'b', and has any number of characters in between (including zero)\n",
    "\n",
    "text1 = 'acb'\n",
    "text2 = 'a2b'\n",
    "text3 = 'a@b'\n",
    "text4 = 'a\\nb'  # Dot does not match newline\n",
    "text5 = 'abcdefghijklmnopqrstuvwxyzb'\n",
    "text6 = 'acdefghijklmnopqrstuvwxyzb'\n",
    "\n",
    "match1 = re.search(pattern, text1)\n",
    "match2 = re.search(pattern, text2)\n",
    "match3 = re.search(pattern, text3)\n",
    "match4 = re.search(pattern, text4)\n",
    "match5 = re.search(pattern, text5)\n",
    "match6 = re.search(pattern, text6)\n",
    "\n",
    "print(match1.group())  # 'acb'\n",
    "print(match2.group())  # 'a2b'\n",
    "print(match3.group())  # 'a@b'\n",
    "print(match4)  # None (no match)\n",
    "print(match5.group())  # 'abcdefghijklmnopqrstuvwxyzb' (matches the longest string)\n",
    "print(match6.group())  # 'acdefghijklmnopqrstuvwxyzb'\n"
   ]
  },
  {
   "cell_type": "code",
   "execution_count": 27,
   "metadata": {},
   "outputs": [
    {
     "name": "stdout",
     "output_type": "stream",
     "text": [
      "a.b\n",
      "a.b\n",
      "a.b\n",
      "a.bcdefghijklmnopqrstuvwxyzb\n"
     ]
    }
   ],
   "source": [
    "pattern = r'a\\.b.*'\n",
    "\n",
    "text1 = 'a.b'\n",
    "text2 = 'a.b\\n'\n",
    "text3 = 'a.b\\n\\n'\n",
    "text4 = 'a.bcdefghijklmnopqrstuvwxyzb'\n",
    "\n",
    "match1 = re.search(pattern, text1)\n",
    "match2 = re.search(pattern, text2)\n",
    "match3 = re.search(pattern, text3)\n",
    "match4 = re.search(pattern, text4)\n",
    "\n",
    "print(match1.group())  # 'a.b'\n",
    "print(match2.group())  # 'a.b'\n",
    "print(match3.group())  # 'a.b'\n",
    "print(match4.group())  # 'a.bcdefghijklmnopqrstuvwxyzb'"
   ]
  },
  {
   "attachments": {},
   "cell_type": "markdown",
   "metadata": {},
   "source": [
    "###  \\^ CARET"
   ]
  },
  {
   "cell_type": "code",
   "execution_count": 32,
   "metadata": {},
   "outputs": [
    {
     "name": "stdout",
     "output_type": "stream",
     "text": [
      "Artificial\n",
      "Artificial\n",
      "Artificial\n"
     ]
    }
   ],
   "source": [
    "pattern = r'^Artificial' # Match any string that starts with 'Artificial' (and has any number of characters after that)\n",
    "\n",
    "text1 = 'Artificial Intelligence'\n",
    "text2 = 'ArtificialIntelligence'\n",
    "text3 = 'Artificial Intelligence is the future'\n",
    "\n",
    "match1 = re.search(pattern, text1)\n",
    "match2 = re.search(pattern, text2)\n",
    "match3 = re.search(pattern, text3)\n",
    "\n",
    "print(match1.group())  # 'Artificial'\n",
    "print(match2.group())  # 'Artificial'\n",
    "print(match3.group())  # 'Artificial'\n"
   ]
  },
  {
   "attachments": {},
   "cell_type": "markdown",
   "metadata": {},
   "source": [
    "Note : If the caret ^ is used within the regular expression pattern (not at the beginning), it has a different meaning. It acts as a negation operator and matches any character that is not within the character set following the caret. For example, the pattern [^abc] matches any character that is not 'a', 'b', or 'c'."
   ]
  },
  {
   "cell_type": "code",
   "execution_count": 33,
   "metadata": {},
   "outputs": [
    {
     "name": "stdout",
     "output_type": "stream",
     "text": [
      "@\n",
      "None\n"
     ]
    }
   ],
   "source": [
    "pattern = r'[^a-zA-Z0-9]' # Match any string that contains any character that is not a letter or a number\n",
    "\n",
    "text1 = '@#$!@#'\n",
    "text2 = 'a2b'\n",
    "\n",
    "match1 = re.search(pattern, text1)\n",
    "match2 = re.search(pattern, text2)\n",
    "\n",
    "print(match1.group())  # '@'\n",
    "print(match2)          # None (no match)\n"
   ]
  },
  {
   "attachments": {},
   "cell_type": "markdown",
   "metadata": {},
   "source": [
    "###  \\$ DOLLAR"
   ]
  },
  {
   "cell_type": "code",
   "execution_count": 37,
   "metadata": {},
   "outputs": [
    {
     "name": "stdout",
     "output_type": "stream",
     "text": [
      "aib\n",
      "aib\n",
      "None\n"
     ]
    }
   ],
   "source": [
    "pattern = r'aib$' # Match any string that ends with 'aib'\n",
    "\n",
    "text1 = 'Sai aib'\n",
    "text2 = 'Shahzaib'\n",
    "text3 = 'Jahanzib'\n",
    "\n",
    "match1 = re.search(pattern, text1)\n",
    "match2 = re.search(pattern, text2)\n",
    "match3 = re.search(pattern, text3)\n",
    "\n",
    "print(match1.group())  # 'aib'\n",
    "print(match2.group())          # 'aib'\n",
    "print(match3)          # None (no match)"
   ]
  },
  {
   "cell_type": "code",
   "execution_count": 39,
   "metadata": {},
   "outputs": [
    {
     "name": "stdout",
     "output_type": "stream",
     "text": [
      "Python$\n",
      "Python$\n"
     ]
    }
   ],
   "source": [
    "pattern = r'Python\\$'\n",
    "\n",
    "text1 = 'Python$'\n",
    "text2 = 'Python$ is a programming language'\n",
    "\n",
    "match1 = re.search(pattern, text1)\n",
    "match2 = re.search(pattern, text2)\n",
    "\n",
    "print(match1.group())  # 'Python$'\n",
    "print(match2.group())  # 'Python$'\n"
   ]
  },
  {
   "cell_type": "code",
   "execution_count": null,
   "metadata": {},
   "outputs": [],
   "source": []
  }
 ],
 "metadata": {
  "kernelspec": {
   "display_name": "Python 3",
   "language": "python",
   "name": "python3"
  },
  "language_info": {
   "codemirror_mode": {
    "name": "ipython",
    "version": 3
   },
   "file_extension": ".py",
   "mimetype": "text/x-python",
   "name": "python",
   "nbconvert_exporter": "python",
   "pygments_lexer": "ipython3",
   "version": "3.10.4"
  },
  "orig_nbformat": 4
 },
 "nbformat": 4,
 "nbformat_minor": 2
}
